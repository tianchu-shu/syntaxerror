{
 "cells": [
  {
   "cell_type": "code",
   "execution_count": 1,
   "metadata": {
    "collapsed": true,
    "deletable": true,
    "editable": true
   },
   "outputs": [],
   "source": [
    "import pandas as pd\n",
    "import datetime\n",
    "import numpy as np"
   ]
  },
  {
   "cell_type": "code",
   "execution_count": 14,
   "metadata": {
    "collapsed": false
   },
   "outputs": [],
   "source": [
    "jailbooking = pd.read_csv(\"data/jailbooking.csv\")\n",
    "person = pd.read_csv(\"data/person.csv\")\n",
    "mentalhealth = pd.read_csv('data/mentalhealth.csv')"
   ]
  },
  {
   "cell_type": "code",
   "execution_count": 15,
   "metadata": {
    "collapsed": false
   },
   "outputs": [
    {
     "data": {
      "text/plain": [
       "Index(['mni_no', 'case_no', 'booking_no', 'arresting_agency', 'booking_date',\n",
       "       'release_date', 'bail_type', 'bail_amt'],\n",
       "      dtype='object')"
      ]
     },
     "execution_count": 15,
     "metadata": {},
     "output_type": "execute_result"
    }
   ],
   "source": [
    "jailbooking.columns"
   ]
  },
  {
   "cell_type": "code",
   "execution_count": 16,
   "metadata": {
    "collapsed": false
   },
   "outputs": [
    {
     "data": {
      "text/plain": [
       "Index(['personid', 'mni_no', 'dob', 'race', 'gender', 'city', 'state', 'zip',\n",
       "       'tract2010id', 'blockgroup2010id', 'block2010id'],\n",
       "      dtype='object')"
      ]
     },
     "execution_count": 16,
     "metadata": {},
     "output_type": "execute_result"
    }
   ],
   "source": [
    "person.columns"
   ]
  },
  {
   "cell_type": "code",
   "execution_count": 17,
   "metadata": {
    "collapsed": false
   },
   "outputs": [
    {
     "data": {
      "text/plain": [
       "6556"
      ]
     },
     "execution_count": 17,
     "metadata": {},
     "output_type": "execute_result"
    }
   ],
   "source": [
    "person.personid.nunique()"
   ]
  },
  {
   "cell_type": "code",
   "execution_count": 18,
   "metadata": {
    "collapsed": false
   },
   "outputs": [
    {
     "data": {
      "text/plain": [
       "22110"
      ]
     },
     "execution_count": 18,
     "metadata": {},
     "output_type": "execute_result"
    }
   ],
   "source": [
    "jailbooking.mni_no.nunique()"
   ]
  },
  {
   "cell_type": "code",
   "execution_count": 19,
   "metadata": {
    "collapsed": false
   },
   "outputs": [
    {
     "data": {
      "text/plain": [
       "Index(['personid', 'dob', 'race', 'sex', 'city', 'state', 'zip', 'tract2010id',\n",
       "       'blockgroup2010id', 'block2010id', 'admit_date', 'dschrg_date',\n",
       "       'program', 'pri_dx_code', 'pri_dx_value', 'refferal_source'],\n",
       "      dtype='object')"
      ]
     },
     "execution_count": 19,
     "metadata": {},
     "output_type": "execute_result"
    }
   ],
   "source": [
    "mentalhealth.columns"
   ]
  },
  {
   "cell_type": "code",
   "execution_count": null,
   "metadata": {
    "collapsed": true
   },
   "outputs": [],
   "source": []
  },
  {
   "cell_type": "code",
   "execution_count": null,
   "metadata": {
    "collapsed": true
   },
   "outputs": [],
   "source": []
  },
  {
   "cell_type": "code",
   "execution_count": 20,
   "metadata": {
    "collapsed": false,
    "deletable": true,
    "editable": true
   },
   "outputs": [
    {
     "data": {
      "text/plain": [
       "(28579, 8)"
      ]
     },
     "execution_count": 20,
     "metadata": {},
     "output_type": "execute_result"
    }
   ],
   "source": [
    "jailbooking.shape"
   ]
  },
  {
   "cell_type": "code",
   "execution_count": 21,
   "metadata": {
    "collapsed": false,
    "deletable": true,
    "editable": true
   },
   "outputs": [
    {
     "data": {
      "text/plain": [
       "0       1091432.0\n",
       "1       1079692.0\n",
       "2       1090664.0\n",
       "3       1070144.0\n",
       "4       1057848.0\n",
       "5       1081401.0\n",
       "6       1087470.0\n",
       "7       1090082.0\n",
       "8       1084898.0\n",
       "9       1092215.0\n",
       "10      1028338.0\n",
       "11      1092962.0\n",
       "12      1084953.0\n",
       "13      1088321.0\n",
       "14      1088530.0\n",
       "15      1089372.0\n",
       "16      1077209.0\n",
       "17      1009581.0\n",
       "18      1083805.0\n",
       "19      1081262.0\n",
       "20      1092581.0\n",
       "21      1096012.0\n",
       "22      1084302.0\n",
       "23      1049187.0\n",
       "24      1043164.0\n",
       "25      1095106.0\n",
       "26      1035226.0\n",
       "27      1091874.0\n",
       "28      1092292.0\n",
       "29      1079391.0\n",
       "          ...    \n",
       "6698    1080422.0\n",
       "6699    1092422.0\n",
       "6700    1080342.0\n",
       "6701    1092884.0\n",
       "6702    1086830.0\n",
       "6703    1094237.0\n",
       "6704    1017433.0\n",
       "6705    1093262.0\n",
       "6706    1088030.0\n",
       "6707    1082822.0\n",
       "6708    1080777.0\n",
       "6709    1093021.0\n",
       "6710    1095449.0\n",
       "6711    1021505.0\n",
       "6712    1094359.0\n",
       "6713    1095775.0\n",
       "6714    1079253.0\n",
       "6715    1079738.0\n",
       "6716    1060735.0\n",
       "6717    1082628.0\n",
       "6718    1086170.0\n",
       "6719    1086273.0\n",
       "6720    1082602.0\n",
       "6721    1082330.0\n",
       "6722    1043638.0\n",
       "6723    1094598.0\n",
       "6724    1079438.0\n",
       "6725    1081405.0\n",
       "6726    1092173.0\n",
       "6727    1021591.0\n",
       "Name: personid, Length: 6728, dtype: float64"
      ]
     },
     "execution_count": 21,
     "metadata": {},
     "output_type": "execute_result"
    }
   ],
   "source": [
    "person['personid']"
   ]
  },
  {
   "cell_type": "code",
   "execution_count": 22,
   "metadata": {
    "collapsed": false,
    "deletable": true,
    "editable": true
   },
   "outputs": [
    {
     "data": {
      "text/plain": [
       "Index(['mni_no', 'case_no', 'booking_no', 'arresting_agency', 'booking_date',\n",
       "       'release_date', 'bail_type', 'bail_amt'],\n",
       "      dtype='object')"
      ]
     },
     "execution_count": 22,
     "metadata": {},
     "output_type": "execute_result"
    }
   ],
   "source": [
    "jailbooking.columns"
   ]
  },
  {
   "cell_type": "code",
   "execution_count": 23,
   "metadata": {
    "collapsed": false,
    "deletable": true,
    "editable": true
   },
   "outputs": [
    {
     "data": {
      "text/plain": [
       "22110"
      ]
     },
     "execution_count": 23,
     "metadata": {},
     "output_type": "execute_result"
    }
   ],
   "source": [
    "jailbooking.mni_no.nunique()"
   ]
  },
  {
   "cell_type": "code",
   "execution_count": 24,
   "metadata": {
    "collapsed": true,
    "deletable": true,
    "editable": true
   },
   "outputs": [],
   "source": [
    "mni_df = jailbooking.groupby(['mni_no']).size().reset_index(name='re-entry')"
   ]
  },
  {
   "cell_type": "code",
   "execution_count": 25,
   "metadata": {
    "collapsed": false,
    "deletable": true,
    "editable": true
   },
   "outputs": [
    {
     "data": {
      "text/html": [
       "<div>\n",
       "<style scoped>\n",
       "    .dataframe tbody tr th:only-of-type {\n",
       "        vertical-align: middle;\n",
       "    }\n",
       "\n",
       "    .dataframe tbody tr th {\n",
       "        vertical-align: top;\n",
       "    }\n",
       "\n",
       "    .dataframe thead th {\n",
       "        text-align: right;\n",
       "    }\n",
       "</style>\n",
       "<table border=\"1\" class=\"dataframe\">\n",
       "  <thead>\n",
       "    <tr style=\"text-align: right;\">\n",
       "      <th></th>\n",
       "      <th>mni_no</th>\n",
       "      <th>re-entry</th>\n",
       "    </tr>\n",
       "  </thead>\n",
       "  <tbody>\n",
       "    <tr>\n",
       "      <th>22105</th>\n",
       "      <td>708359</td>\n",
       "      <td>1</td>\n",
       "    </tr>\n",
       "    <tr>\n",
       "      <th>22106</th>\n",
       "      <td>708392</td>\n",
       "      <td>1</td>\n",
       "    </tr>\n",
       "    <tr>\n",
       "      <th>22107</th>\n",
       "      <td>708400</td>\n",
       "      <td>1</td>\n",
       "    </tr>\n",
       "    <tr>\n",
       "      <th>22108</th>\n",
       "      <td>708479</td>\n",
       "      <td>1</td>\n",
       "    </tr>\n",
       "    <tr>\n",
       "      <th>22109</th>\n",
       "      <td>708490</td>\n",
       "      <td>1</td>\n",
       "    </tr>\n",
       "  </tbody>\n",
       "</table>\n",
       "</div>"
      ],
      "text/plain": [
       "       mni_no  re-entry\n",
       "22105  708359         1\n",
       "22106  708392         1\n",
       "22107  708400         1\n",
       "22108  708479         1\n",
       "22109  708490         1"
      ]
     },
     "execution_count": 25,
     "metadata": {},
     "output_type": "execute_result"
    }
   ],
   "source": [
    "mni_df.tail()"
   ]
  },
  {
   "cell_type": "code",
   "execution_count": 26,
   "metadata": {
    "collapsed": false,
    "deletable": true,
    "editable": true
   },
   "outputs": [
    {
     "data": {
      "text/html": [
       "<div>\n",
       "<style scoped>\n",
       "    .dataframe tbody tr th:only-of-type {\n",
       "        vertical-align: middle;\n",
       "    }\n",
       "\n",
       "    .dataframe tbody tr th {\n",
       "        vertical-align: top;\n",
       "    }\n",
       "\n",
       "    .dataframe thead th {\n",
       "        text-align: right;\n",
       "    }\n",
       "</style>\n",
       "<table border=\"1\" class=\"dataframe\">\n",
       "  <thead>\n",
       "    <tr style=\"text-align: right;\">\n",
       "      <th></th>\n",
       "      <th>mni_no</th>\n",
       "      <th>re-entry</th>\n",
       "    </tr>\n",
       "  </thead>\n",
       "  <tbody>\n",
       "    <tr>\n",
       "      <th>0</th>\n",
       "      <td>14</td>\n",
       "      <td>1</td>\n",
       "    </tr>\n",
       "    <tr>\n",
       "      <th>1</th>\n",
       "      <td>180</td>\n",
       "      <td>2</td>\n",
       "    </tr>\n",
       "    <tr>\n",
       "      <th>2</th>\n",
       "      <td>216</td>\n",
       "      <td>2</td>\n",
       "    </tr>\n",
       "    <tr>\n",
       "      <th>3</th>\n",
       "      <td>240</td>\n",
       "      <td>1</td>\n",
       "    </tr>\n",
       "    <tr>\n",
       "      <th>4</th>\n",
       "      <td>329</td>\n",
       "      <td>1</td>\n",
       "    </tr>\n",
       "  </tbody>\n",
       "</table>\n",
       "</div>"
      ],
      "text/plain": [
       "   mni_no  re-entry\n",
       "0      14         1\n",
       "1     180         2\n",
       "2     216         2\n",
       "3     240         1\n",
       "4     329         1"
      ]
     },
     "execution_count": 26,
     "metadata": {},
     "output_type": "execute_result"
    }
   ],
   "source": [
    "mni_df.head()"
   ]
  },
  {
   "cell_type": "code",
   "execution_count": 27,
   "metadata": {
    "collapsed": true,
    "deletable": true,
    "editable": true
   },
   "outputs": [],
   "source": [
    "mni_df['re-entry'] = np.where(mni_df['re-entry']>1, 1, 0)"
   ]
  },
  {
   "cell_type": "code",
   "execution_count": 28,
   "metadata": {
    "collapsed": false,
    "deletable": true,
    "editable": true
   },
   "outputs": [
    {
     "data": {
      "text/html": [
       "<div>\n",
       "<style scoped>\n",
       "    .dataframe tbody tr th:only-of-type {\n",
       "        vertical-align: middle;\n",
       "    }\n",
       "\n",
       "    .dataframe tbody tr th {\n",
       "        vertical-align: top;\n",
       "    }\n",
       "\n",
       "    .dataframe thead th {\n",
       "        text-align: right;\n",
       "    }\n",
       "</style>\n",
       "<table border=\"1\" class=\"dataframe\">\n",
       "  <thead>\n",
       "    <tr style=\"text-align: right;\">\n",
       "      <th></th>\n",
       "      <th>mni_no</th>\n",
       "      <th>re-entry</th>\n",
       "    </tr>\n",
       "  </thead>\n",
       "  <tbody>\n",
       "    <tr>\n",
       "      <th>0</th>\n",
       "      <td>14</td>\n",
       "      <td>0</td>\n",
       "    </tr>\n",
       "    <tr>\n",
       "      <th>1</th>\n",
       "      <td>180</td>\n",
       "      <td>1</td>\n",
       "    </tr>\n",
       "    <tr>\n",
       "      <th>2</th>\n",
       "      <td>216</td>\n",
       "      <td>1</td>\n",
       "    </tr>\n",
       "    <tr>\n",
       "      <th>3</th>\n",
       "      <td>240</td>\n",
       "      <td>0</td>\n",
       "    </tr>\n",
       "    <tr>\n",
       "      <th>4</th>\n",
       "      <td>329</td>\n",
       "      <td>0</td>\n",
       "    </tr>\n",
       "  </tbody>\n",
       "</table>\n",
       "</div>"
      ],
      "text/plain": [
       "   mni_no  re-entry\n",
       "0      14         0\n",
       "1     180         1\n",
       "2     216         1\n",
       "3     240         0\n",
       "4     329         0"
      ]
     },
     "execution_count": 28,
     "metadata": {},
     "output_type": "execute_result"
    }
   ],
   "source": [
    "mni_df.head()"
   ]
  },
  {
   "cell_type": "code",
   "execution_count": 29,
   "metadata": {
    "collapsed": true,
    "deletable": true,
    "editable": true
   },
   "outputs": [],
   "source": [
    "jail = jailbooking.merge(mni_df, how=\"left\")"
   ]
  },
  {
   "cell_type": "code",
   "execution_count": 30,
   "metadata": {
    "collapsed": false,
    "deletable": true,
    "editable": true
   },
   "outputs": [
    {
     "data": {
      "text/html": [
       "<div>\n",
       "<style scoped>\n",
       "    .dataframe tbody tr th:only-of-type {\n",
       "        vertical-align: middle;\n",
       "    }\n",
       "\n",
       "    .dataframe tbody tr th {\n",
       "        vertical-align: top;\n",
       "    }\n",
       "\n",
       "    .dataframe thead th {\n",
       "        text-align: right;\n",
       "    }\n",
       "</style>\n",
       "<table border=\"1\" class=\"dataframe\">\n",
       "  <thead>\n",
       "    <tr style=\"text-align: right;\">\n",
       "      <th></th>\n",
       "      <th>mni_no</th>\n",
       "      <th>case_no</th>\n",
       "      <th>booking_no</th>\n",
       "      <th>arresting_agency</th>\n",
       "      <th>booking_date</th>\n",
       "      <th>release_date</th>\n",
       "      <th>bail_type</th>\n",
       "      <th>bail_amt</th>\n",
       "      <th>re-entry</th>\n",
       "    </tr>\n",
       "  </thead>\n",
       "  <tbody>\n",
       "    <tr>\n",
       "      <th>28574</th>\n",
       "      <td>688407</td>\n",
       "      <td>15JV00582</td>\n",
       "      <td>16000536</td>\n",
       "      <td>LENEXA P.D.</td>\n",
       "      <td>2016-04-29 00:00:00</td>\n",
       "      <td>2016-05-03 00:00:00</td>\n",
       "      <td>NaN</td>\n",
       "      <td>NaN</td>\n",
       "      <td>1</td>\n",
       "    </tr>\n",
       "    <tr>\n",
       "      <th>28575</th>\n",
       "      <td>698651</td>\n",
       "      <td>16JV00653</td>\n",
       "      <td>16000537</td>\n",
       "      <td>OLATHE P.D.</td>\n",
       "      <td>2016-04-29 00:00:00</td>\n",
       "      <td>2016-05-02 00:00:00</td>\n",
       "      <td>NaN</td>\n",
       "      <td>NaN</td>\n",
       "      <td>0</td>\n",
       "    </tr>\n",
       "    <tr>\n",
       "      <th>28576</th>\n",
       "      <td>679706</td>\n",
       "      <td>16JV00651</td>\n",
       "      <td>16000538</td>\n",
       "      <td>SHAWNEE P.D.</td>\n",
       "      <td>2016-04-30 00:00:00</td>\n",
       "      <td>2016-05-05 00:00:00</td>\n",
       "      <td>NaN</td>\n",
       "      <td>NaN</td>\n",
       "      <td>0</td>\n",
       "    </tr>\n",
       "    <tr>\n",
       "      <th>28577</th>\n",
       "      <td>675005</td>\n",
       "      <td>15JV00503</td>\n",
       "      <td>16000539</td>\n",
       "      <td>OVERLAND PARK P.D.</td>\n",
       "      <td>2016-04-30 00:00:00</td>\n",
       "      <td>2016-05-19 00:00:00</td>\n",
       "      <td>NaN</td>\n",
       "      <td>NaN</td>\n",
       "      <td>1</td>\n",
       "    </tr>\n",
       "    <tr>\n",
       "      <th>28578</th>\n",
       "      <td>554805</td>\n",
       "      <td>16JV00652</td>\n",
       "      <td>16000543</td>\n",
       "      <td>OVERLAND PARK P.D.</td>\n",
       "      <td>2016-04-30 00:00:00</td>\n",
       "      <td>2016-05-02 00:00:00</td>\n",
       "      <td>NaN</td>\n",
       "      <td>NaN</td>\n",
       "      <td>0</td>\n",
       "    </tr>\n",
       "  </tbody>\n",
       "</table>\n",
       "</div>"
      ],
      "text/plain": [
       "       mni_no    case_no  booking_no    arresting_agency         booking_date  \\\n",
       "28574  688407  15JV00582    16000536         LENEXA P.D.  2016-04-29 00:00:00   \n",
       "28575  698651  16JV00653    16000537         OLATHE P.D.  2016-04-29 00:00:00   \n",
       "28576  679706  16JV00651    16000538        SHAWNEE P.D.  2016-04-30 00:00:00   \n",
       "28577  675005  15JV00503    16000539  OVERLAND PARK P.D.  2016-04-30 00:00:00   \n",
       "28578  554805  16JV00652    16000543  OVERLAND PARK P.D.  2016-04-30 00:00:00   \n",
       "\n",
       "              release_date bail_type  bail_amt  re-entry  \n",
       "28574  2016-05-03 00:00:00       NaN       NaN         1  \n",
       "28575  2016-05-02 00:00:00       NaN       NaN         0  \n",
       "28576  2016-05-05 00:00:00       NaN       NaN         0  \n",
       "28577  2016-05-19 00:00:00       NaN       NaN         1  \n",
       "28578  2016-05-02 00:00:00       NaN       NaN         0  "
      ]
     },
     "execution_count": 30,
     "metadata": {},
     "output_type": "execute_result"
    }
   ],
   "source": [
    "jail.tail()"
   ]
  },
  {
   "cell_type": "code",
   "execution_count": 31,
   "metadata": {
    "collapsed": true,
    "deletable": true,
    "editable": true
   },
   "outputs": [],
   "source": [
    "person.drop(['tract2010id', 'blockgroup2010id', 'block2010id'], inplace=True, axis=1)"
   ]
  },
  {
   "cell_type": "code",
   "execution_count": 32,
   "metadata": {
    "collapsed": false,
    "deletable": true,
    "editable": true
   },
   "outputs": [
    {
     "data": {
      "text/plain": [
       "Index(['personid', 'mni_no', 'dob', 'race', 'gender', 'city', 'state', 'zip'], dtype='object')"
      ]
     },
     "execution_count": 32,
     "metadata": {},
     "output_type": "execute_result"
    }
   ],
   "source": [
    "person.columns"
   ]
  },
  {
   "cell_type": "code",
   "execution_count": 33,
   "metadata": {
    "collapsed": true,
    "deletable": true,
    "editable": true
   },
   "outputs": [],
   "source": [
    "jail_ppl = jail.merge(person, how=\"left\", on=\"mni_no\")"
   ]
  },
  {
   "cell_type": "code",
   "execution_count": 34,
   "metadata": {
    "collapsed": false,
    "deletable": true,
    "editable": true
   },
   "outputs": [
    {
     "data": {
      "text/plain": [
       "(28579, 16)"
      ]
     },
     "execution_count": 34,
     "metadata": {},
     "output_type": "execute_result"
    }
   ],
   "source": [
    "jail_ppl.shape"
   ]
  },
  {
   "cell_type": "code",
   "execution_count": 35,
   "metadata": {
    "collapsed": false,
    "deletable": true,
    "editable": true
   },
   "outputs": [
    {
     "data": {
      "text/plain": [
       "Index(['personid', 'dob', 'race', 'sex', 'city', 'state', 'zip', 'tract2010id',\n",
       "       'blockgroup2010id', 'block2010id', 'admit_date', 'dschrg_date',\n",
       "       'program', 'pri_dx_code', 'pri_dx_value', 'refferal_source'],\n",
       "      dtype='object')"
      ]
     },
     "execution_count": 35,
     "metadata": {},
     "output_type": "execute_result"
    }
   ],
   "source": [
    "mentalhealth.columns"
   ]
  },
  {
   "cell_type": "code",
   "execution_count": 36,
   "metadata": {
    "collapsed": false,
    "deletable": true,
    "editable": true
   },
   "outputs": [
    {
     "data": {
      "text/plain": [
       "(26097, 16)"
      ]
     },
     "execution_count": 36,
     "metadata": {},
     "output_type": "execute_result"
    }
   ],
   "source": [
    "mentalhealth.shape"
   ]
  },
  {
   "cell_type": "code",
   "execution_count": 37,
   "metadata": {
    "collapsed": true,
    "deletable": true,
    "editable": true
   },
   "outputs": [],
   "source": [
    "mentalhealth.drop(['dob','city', 'race', 'sex', 'state', 'zip', 'tract2010id',\n",
    "       'blockgroup2010id', 'block2010id'], inplace=True, axis=1)"
   ]
  },
  {
   "cell_type": "code",
   "execution_count": 38,
   "metadata": {
    "collapsed": false,
    "deletable": true,
    "editable": true
   },
   "outputs": [
    {
     "data": {
      "text/html": [
       "<div>\n",
       "<style scoped>\n",
       "    .dataframe tbody tr th:only-of-type {\n",
       "        vertical-align: middle;\n",
       "    }\n",
       "\n",
       "    .dataframe tbody tr th {\n",
       "        vertical-align: top;\n",
       "    }\n",
       "\n",
       "    .dataframe thead th {\n",
       "        text-align: right;\n",
       "    }\n",
       "</style>\n",
       "<table border=\"1\" class=\"dataframe\">\n",
       "  <thead>\n",
       "    <tr style=\"text-align: right;\">\n",
       "      <th></th>\n",
       "      <th>mni_no</th>\n",
       "      <th>case_no</th>\n",
       "      <th>booking_no</th>\n",
       "      <th>arresting_agency</th>\n",
       "      <th>booking_date</th>\n",
       "      <th>release_date</th>\n",
       "      <th>bail_type</th>\n",
       "      <th>bail_amt</th>\n",
       "      <th>re-entry</th>\n",
       "      <th>personid</th>\n",
       "      <th>dob</th>\n",
       "      <th>race</th>\n",
       "      <th>gender</th>\n",
       "      <th>city</th>\n",
       "      <th>state</th>\n",
       "      <th>zip</th>\n",
       "    </tr>\n",
       "  </thead>\n",
       "  <tbody>\n",
       "    <tr>\n",
       "      <th>0</th>\n",
       "      <td>488544</td>\n",
       "      <td>09CR03128</td>\n",
       "      <td>10000005</td>\n",
       "      <td>OLATHE P.D.</td>\n",
       "      <td>2010-01-01 00:00:00</td>\n",
       "      <td>2010-05-23 00:00:00</td>\n",
       "      <td>PR</td>\n",
       "      <td>7500.0</td>\n",
       "      <td>0</td>\n",
       "      <td>NaN</td>\n",
       "      <td>NaN</td>\n",
       "      <td>NaN</td>\n",
       "      <td>NaN</td>\n",
       "      <td>NaN</td>\n",
       "      <td>NaN</td>\n",
       "      <td>NaN</td>\n",
       "    </tr>\n",
       "    <tr>\n",
       "      <th>1</th>\n",
       "      <td>167776</td>\n",
       "      <td>10DV00011</td>\n",
       "      <td>10000008</td>\n",
       "      <td>GARDNER P.D.</td>\n",
       "      <td>2010-01-01 00:00:00</td>\n",
       "      <td>2010-01-04 00:00:00</td>\n",
       "      <td>SUR</td>\n",
       "      <td>5000.0</td>\n",
       "      <td>1</td>\n",
       "      <td>1079925.0</td>\n",
       "      <td>1981-05-21 00:00:00.0</td>\n",
       "      <td>W</td>\n",
       "      <td>M</td>\n",
       "      <td>Lawrence</td>\n",
       "      <td>KS</td>\n",
       "      <td>66046-3250</td>\n",
       "    </tr>\n",
       "    <tr>\n",
       "      <th>2</th>\n",
       "      <td>594130</td>\n",
       "      <td>10CR00011</td>\n",
       "      <td>10000010</td>\n",
       "      <td>SHAWNEE P.D.</td>\n",
       "      <td>2010-01-01 00:00:00</td>\n",
       "      <td>2010-01-02 00:00:00</td>\n",
       "      <td>SUR</td>\n",
       "      <td>6000.0</td>\n",
       "      <td>0</td>\n",
       "      <td>NaN</td>\n",
       "      <td>NaN</td>\n",
       "      <td>NaN</td>\n",
       "      <td>NaN</td>\n",
       "      <td>NaN</td>\n",
       "      <td>NaN</td>\n",
       "      <td>NaN</td>\n",
       "    </tr>\n",
       "    <tr>\n",
       "      <th>3</th>\n",
       "      <td>82738</td>\n",
       "      <td>10DV00004</td>\n",
       "      <td>10000017</td>\n",
       "      <td>OVERLAND PARK P.D.</td>\n",
       "      <td>2010-01-01 00:00:00</td>\n",
       "      <td>2010-01-02 00:00:00</td>\n",
       "      <td>SUR</td>\n",
       "      <td>1500.0</td>\n",
       "      <td>0</td>\n",
       "      <td>1080427.0</td>\n",
       "      <td>1968-06-19 00:00:00.0</td>\n",
       "      <td>W</td>\n",
       "      <td>M</td>\n",
       "      <td>Overland Park</td>\n",
       "      <td>KS</td>\n",
       "      <td>66212</td>\n",
       "    </tr>\n",
       "    <tr>\n",
       "      <th>4</th>\n",
       "      <td>481746</td>\n",
       "      <td>10DV00013</td>\n",
       "      <td>10000020</td>\n",
       "      <td>OLATHE P.D.</td>\n",
       "      <td>2010-01-01 00:00:00</td>\n",
       "      <td>2010-01-05 00:00:00</td>\n",
       "      <td>SUR</td>\n",
       "      <td>15000.0</td>\n",
       "      <td>0</td>\n",
       "      <td>NaN</td>\n",
       "      <td>NaN</td>\n",
       "      <td>NaN</td>\n",
       "      <td>NaN</td>\n",
       "      <td>NaN</td>\n",
       "      <td>NaN</td>\n",
       "      <td>NaN</td>\n",
       "    </tr>\n",
       "  </tbody>\n",
       "</table>\n",
       "</div>"
      ],
      "text/plain": [
       "   mni_no    case_no  booking_no    arresting_agency         booking_date  \\\n",
       "0  488544  09CR03128    10000005         OLATHE P.D.  2010-01-01 00:00:00   \n",
       "1  167776  10DV00011    10000008        GARDNER P.D.  2010-01-01 00:00:00   \n",
       "2  594130  10CR00011    10000010        SHAWNEE P.D.  2010-01-01 00:00:00   \n",
       "3   82738  10DV00004    10000017  OVERLAND PARK P.D.  2010-01-01 00:00:00   \n",
       "4  481746  10DV00013    10000020         OLATHE P.D.  2010-01-01 00:00:00   \n",
       "\n",
       "          release_date bail_type  bail_amt  re-entry   personid  \\\n",
       "0  2010-05-23 00:00:00        PR    7500.0         0        NaN   \n",
       "1  2010-01-04 00:00:00       SUR    5000.0         1  1079925.0   \n",
       "2  2010-01-02 00:00:00       SUR    6000.0         0        NaN   \n",
       "3  2010-01-02 00:00:00       SUR    1500.0         0  1080427.0   \n",
       "4  2010-01-05 00:00:00       SUR   15000.0         0        NaN   \n",
       "\n",
       "                     dob race gender           city state         zip  \n",
       "0                    NaN  NaN    NaN            NaN   NaN         NaN  \n",
       "1  1981-05-21 00:00:00.0    W      M       Lawrence    KS  66046-3250  \n",
       "2                    NaN  NaN    NaN            NaN   NaN         NaN  \n",
       "3  1968-06-19 00:00:00.0    W      M  Overland Park    KS       66212  \n",
       "4                    NaN  NaN    NaN            NaN   NaN         NaN  "
      ]
     },
     "execution_count": 38,
     "metadata": {},
     "output_type": "execute_result"
    }
   ],
   "source": [
    "jail_ppl.head()"
   ]
  },
  {
   "cell_type": "code",
   "execution_count": 39,
   "metadata": {
    "collapsed": true,
    "deletable": true,
    "editable": true
   },
   "outputs": [],
   "source": [
    "jail_ppl['dob'] = pd.to_datetime(jail_ppl['dob'])\n",
    "for i, row in jail_ppl.iterrows():\n",
    "    jail_ppl['age']= pd.to_datetime('2018-06-01').year - jail_ppl['dob'].dt.year"
   ]
  },
  {
   "cell_type": "code",
   "execution_count": 40,
   "metadata": {
    "collapsed": true,
    "deletable": true,
    "editable": true
   },
   "outputs": [],
   "source": [
    "#Convert column type from string to datetime\n",
    "jail_ppl['booking_date'] = pd.to_datetime(jail_ppl['booking_date'])\n",
    "jail_ppl['release_date'] = pd.to_datetime(jail_ppl['release_date'])\n",
    "jail_ppl['booking_days'] = jail_ppl['release_date'] - jail_ppl['booking_date']"
   ]
  },
  {
   "cell_type": "code",
   "execution_count": 41,
   "metadata": {
    "collapsed": true,
    "deletable": true,
    "editable": true
   },
   "outputs": [],
   "source": [
    "#Convert the days type to integer \n",
    "jail_ppl['booking_days'] = jail_ppl['booking_days'].astype('timedelta64[D]')"
   ]
  },
  {
   "cell_type": "code",
   "execution_count": 42,
   "metadata": {
    "collapsed": true,
    "deletable": true,
    "editable": true
   },
   "outputs": [],
   "source": [
    "jail_ppl.drop(['booking_date','release_date'], inplace=True, axis=1)"
   ]
  },
  {
   "cell_type": "code",
   "execution_count": 43,
   "metadata": {
    "collapsed": false,
    "deletable": true,
    "editable": true
   },
   "outputs": [
    {
     "data": {
      "text/html": [
       "<div>\n",
       "<style scoped>\n",
       "    .dataframe tbody tr th:only-of-type {\n",
       "        vertical-align: middle;\n",
       "    }\n",
       "\n",
       "    .dataframe tbody tr th {\n",
       "        vertical-align: top;\n",
       "    }\n",
       "\n",
       "    .dataframe thead th {\n",
       "        text-align: right;\n",
       "    }\n",
       "</style>\n",
       "<table border=\"1\" class=\"dataframe\">\n",
       "  <thead>\n",
       "    <tr style=\"text-align: right;\">\n",
       "      <th></th>\n",
       "      <th>mni_no</th>\n",
       "      <th>case_no</th>\n",
       "      <th>booking_no</th>\n",
       "      <th>arresting_agency</th>\n",
       "      <th>bail_type</th>\n",
       "      <th>bail_amt</th>\n",
       "      <th>re-entry</th>\n",
       "      <th>personid</th>\n",
       "      <th>dob</th>\n",
       "      <th>race</th>\n",
       "      <th>gender</th>\n",
       "      <th>city</th>\n",
       "      <th>state</th>\n",
       "      <th>zip</th>\n",
       "      <th>age</th>\n",
       "      <th>booking_days</th>\n",
       "    </tr>\n",
       "  </thead>\n",
       "  <tbody>\n",
       "    <tr>\n",
       "      <th>0</th>\n",
       "      <td>488544</td>\n",
       "      <td>09CR03128</td>\n",
       "      <td>10000005</td>\n",
       "      <td>OLATHE P.D.</td>\n",
       "      <td>PR</td>\n",
       "      <td>7500.0</td>\n",
       "      <td>0</td>\n",
       "      <td>NaN</td>\n",
       "      <td>NaT</td>\n",
       "      <td>NaN</td>\n",
       "      <td>NaN</td>\n",
       "      <td>NaN</td>\n",
       "      <td>NaN</td>\n",
       "      <td>NaN</td>\n",
       "      <td>NaN</td>\n",
       "      <td>142.0</td>\n",
       "    </tr>\n",
       "    <tr>\n",
       "      <th>1</th>\n",
       "      <td>167776</td>\n",
       "      <td>10DV00011</td>\n",
       "      <td>10000008</td>\n",
       "      <td>GARDNER P.D.</td>\n",
       "      <td>SUR</td>\n",
       "      <td>5000.0</td>\n",
       "      <td>1</td>\n",
       "      <td>1079925.0</td>\n",
       "      <td>1981-05-21</td>\n",
       "      <td>W</td>\n",
       "      <td>M</td>\n",
       "      <td>Lawrence</td>\n",
       "      <td>KS</td>\n",
       "      <td>66046-3250</td>\n",
       "      <td>37.0</td>\n",
       "      <td>3.0</td>\n",
       "    </tr>\n",
       "    <tr>\n",
       "      <th>2</th>\n",
       "      <td>594130</td>\n",
       "      <td>10CR00011</td>\n",
       "      <td>10000010</td>\n",
       "      <td>SHAWNEE P.D.</td>\n",
       "      <td>SUR</td>\n",
       "      <td>6000.0</td>\n",
       "      <td>0</td>\n",
       "      <td>NaN</td>\n",
       "      <td>NaT</td>\n",
       "      <td>NaN</td>\n",
       "      <td>NaN</td>\n",
       "      <td>NaN</td>\n",
       "      <td>NaN</td>\n",
       "      <td>NaN</td>\n",
       "      <td>NaN</td>\n",
       "      <td>1.0</td>\n",
       "    </tr>\n",
       "    <tr>\n",
       "      <th>3</th>\n",
       "      <td>82738</td>\n",
       "      <td>10DV00004</td>\n",
       "      <td>10000017</td>\n",
       "      <td>OVERLAND PARK P.D.</td>\n",
       "      <td>SUR</td>\n",
       "      <td>1500.0</td>\n",
       "      <td>0</td>\n",
       "      <td>1080427.0</td>\n",
       "      <td>1968-06-19</td>\n",
       "      <td>W</td>\n",
       "      <td>M</td>\n",
       "      <td>Overland Park</td>\n",
       "      <td>KS</td>\n",
       "      <td>66212</td>\n",
       "      <td>50.0</td>\n",
       "      <td>1.0</td>\n",
       "    </tr>\n",
       "    <tr>\n",
       "      <th>4</th>\n",
       "      <td>481746</td>\n",
       "      <td>10DV00013</td>\n",
       "      <td>10000020</td>\n",
       "      <td>OLATHE P.D.</td>\n",
       "      <td>SUR</td>\n",
       "      <td>15000.0</td>\n",
       "      <td>0</td>\n",
       "      <td>NaN</td>\n",
       "      <td>NaT</td>\n",
       "      <td>NaN</td>\n",
       "      <td>NaN</td>\n",
       "      <td>NaN</td>\n",
       "      <td>NaN</td>\n",
       "      <td>NaN</td>\n",
       "      <td>NaN</td>\n",
       "      <td>4.0</td>\n",
       "    </tr>\n",
       "  </tbody>\n",
       "</table>\n",
       "</div>"
      ],
      "text/plain": [
       "   mni_no    case_no  booking_no    arresting_agency bail_type  bail_amt  \\\n",
       "0  488544  09CR03128    10000005         OLATHE P.D.        PR    7500.0   \n",
       "1  167776  10DV00011    10000008        GARDNER P.D.       SUR    5000.0   \n",
       "2  594130  10CR00011    10000010        SHAWNEE P.D.       SUR    6000.0   \n",
       "3   82738  10DV00004    10000017  OVERLAND PARK P.D.       SUR    1500.0   \n",
       "4  481746  10DV00013    10000020         OLATHE P.D.       SUR   15000.0   \n",
       "\n",
       "   re-entry   personid        dob race gender           city state  \\\n",
       "0         0        NaN        NaT  NaN    NaN            NaN   NaN   \n",
       "1         1  1079925.0 1981-05-21    W      M       Lawrence    KS   \n",
       "2         0        NaN        NaT  NaN    NaN            NaN   NaN   \n",
       "3         0  1080427.0 1968-06-19    W      M  Overland Park    KS   \n",
       "4         0        NaN        NaT  NaN    NaN            NaN   NaN   \n",
       "\n",
       "          zip   age  booking_days  \n",
       "0         NaN   NaN         142.0  \n",
       "1  66046-3250  37.0           3.0  \n",
       "2         NaN   NaN           1.0  \n",
       "3       66212  50.0           1.0  \n",
       "4         NaN   NaN           4.0  "
      ]
     },
     "execution_count": 43,
     "metadata": {},
     "output_type": "execute_result"
    }
   ],
   "source": [
    "jail_ppl.head()"
   ]
  },
  {
   "cell_type": "code",
   "execution_count": 44,
   "metadata": {
    "collapsed": true,
    "deletable": true,
    "editable": true
   },
   "outputs": [],
   "source": [
    "mentalhealth = mentalhealth.dropna(subset = ['personid'])"
   ]
  },
  {
   "cell_type": "code",
   "execution_count": 45,
   "metadata": {
    "collapsed": false,
    "deletable": true,
    "editable": true
   },
   "outputs": [
    {
     "data": {
      "text/html": [
       "<div>\n",
       "<style scoped>\n",
       "    .dataframe tbody tr th:only-of-type {\n",
       "        vertical-align: middle;\n",
       "    }\n",
       "\n",
       "    .dataframe tbody tr th {\n",
       "        vertical-align: top;\n",
       "    }\n",
       "\n",
       "    .dataframe thead th {\n",
       "        text-align: right;\n",
       "    }\n",
       "</style>\n",
       "<table border=\"1\" class=\"dataframe\">\n",
       "  <thead>\n",
       "    <tr style=\"text-align: right;\">\n",
       "      <th></th>\n",
       "      <th>personid</th>\n",
       "      <th>admit_date</th>\n",
       "      <th>dschrg_date</th>\n",
       "      <th>program</th>\n",
       "      <th>pri_dx_code</th>\n",
       "      <th>pri_dx_value</th>\n",
       "      <th>refferal_source</th>\n",
       "    </tr>\n",
       "  </thead>\n",
       "  <tbody>\n",
       "    <tr>\n",
       "      <th>1</th>\n",
       "      <td>1012840.0</td>\n",
       "      <td>2003-06-16 00:00:00</td>\n",
       "      <td>NaN</td>\n",
       "      <td>ADULT MH PROGRAM</td>\n",
       "      <td>F25.0</td>\n",
       "      <td>Schizoaffective disorder, bipolar type</td>\n",
       "      <td>Self</td>\n",
       "    </tr>\n",
       "    <tr>\n",
       "      <th>2</th>\n",
       "      <td>1054604.0</td>\n",
       "      <td>2012-10-30 00:00:00</td>\n",
       "      <td>NaN</td>\n",
       "      <td>ADULT MH PROGRAM</td>\n",
       "      <td>F31.64</td>\n",
       "      <td>Bipolar disord, crnt episode mixed, severe, w ...</td>\n",
       "      <td>Self</td>\n",
       "    </tr>\n",
       "    <tr>\n",
       "      <th>3</th>\n",
       "      <td>1102739.0</td>\n",
       "      <td>2008-01-28 00:00:00</td>\n",
       "      <td>NaN</td>\n",
       "      <td>ADULT MH PROGRAM</td>\n",
       "      <td>F31.30</td>\n",
       "      <td>Bipolar disord, crnt epsd depress, mild or mod...</td>\n",
       "      <td>Self</td>\n",
       "    </tr>\n",
       "    <tr>\n",
       "      <th>4</th>\n",
       "      <td>1098897.0</td>\n",
       "      <td>2006-10-04 00:00:00</td>\n",
       "      <td>NaN</td>\n",
       "      <td>ADULT MH PROGRAM</td>\n",
       "      <td>F90.0</td>\n",
       "      <td>Attn-defct hyperactivity disorder, predom inat...</td>\n",
       "      <td>Self</td>\n",
       "    </tr>\n",
       "    <tr>\n",
       "      <th>5</th>\n",
       "      <td>1057771.0</td>\n",
       "      <td>2003-05-02 00:00:00</td>\n",
       "      <td>NaN</td>\n",
       "      <td>ADULT MH PROGRAM</td>\n",
       "      <td>F25.0</td>\n",
       "      <td>Schizoaffective disorder, bipolar type</td>\n",
       "      <td>Self</td>\n",
       "    </tr>\n",
       "  </tbody>\n",
       "</table>\n",
       "</div>"
      ],
      "text/plain": [
       "    personid           admit_date dschrg_date           program pri_dx_code  \\\n",
       "1  1012840.0  2003-06-16 00:00:00         NaN  ADULT MH PROGRAM       F25.0   \n",
       "2  1054604.0  2012-10-30 00:00:00         NaN  ADULT MH PROGRAM      F31.64   \n",
       "3  1102739.0  2008-01-28 00:00:00         NaN  ADULT MH PROGRAM      F31.30   \n",
       "4  1098897.0  2006-10-04 00:00:00         NaN  ADULT MH PROGRAM       F90.0   \n",
       "5  1057771.0  2003-05-02 00:00:00         NaN  ADULT MH PROGRAM       F25.0   \n",
       "\n",
       "                                        pri_dx_value refferal_source  \n",
       "1             Schizoaffective disorder, bipolar type            Self  \n",
       "2  Bipolar disord, crnt episode mixed, severe, w ...            Self  \n",
       "3  Bipolar disord, crnt epsd depress, mild or mod...            Self  \n",
       "4  Attn-defct hyperactivity disorder, predom inat...            Self  \n",
       "5             Schizoaffective disorder, bipolar type            Self  "
      ]
     },
     "execution_count": 45,
     "metadata": {},
     "output_type": "execute_result"
    }
   ],
   "source": [
    "mentalhealth.head()"
   ]
  },
  {
   "cell_type": "code",
   "execution_count": 46,
   "metadata": {
    "collapsed": true,
    "deletable": true,
    "editable": true
   },
   "outputs": [],
   "source": [
    "mentalhealth['dschrg_date'].fillna('2018-01-01 00:00:00', inplace = True)"
   ]
  },
  {
   "cell_type": "code",
   "execution_count": 47,
   "metadata": {
    "collapsed": true,
    "deletable": true,
    "editable": true
   },
   "outputs": [],
   "source": [
    "#Convert column type from string to datetime\n",
    "mentalhealth['admit_date'] = pd.to_datetime(mentalhealth['admit_date'])\n",
    "mentalhealth['dschrg_date'] = pd.to_datetime(mentalhealth['dschrg_date'], errors='ignore')\n",
    "mentalhealth['treatment_days'] = mentalhealth['dschrg_date'] - mentalhealth['admit_date']"
   ]
  },
  {
   "cell_type": "code",
   "execution_count": 48,
   "metadata": {
    "collapsed": true,
    "deletable": true,
    "editable": true
   },
   "outputs": [],
   "source": [
    "#Convert the days type to integer \n",
    "mentalhealth['treatment_days'] = mentalhealth['treatment_days'].astype('timedelta64[D]')"
   ]
  },
  {
   "cell_type": "code",
   "execution_count": 49,
   "metadata": {
    "collapsed": false,
    "deletable": true,
    "editable": true
   },
   "outputs": [
    {
     "data": {
      "text/plain": [
       "1    5313.0\n",
       "2    1889.0\n",
       "3    3626.0\n",
       "4    4107.0\n",
       "5    5358.0\n",
       "Name: treatment_days, dtype: float64"
      ]
     },
     "execution_count": 49,
     "metadata": {},
     "output_type": "execute_result"
    }
   ],
   "source": [
    "mentalhealth.treatment_days.head()"
   ]
  },
  {
   "cell_type": "code",
   "execution_count": 50,
   "metadata": {
    "collapsed": true,
    "deletable": true,
    "editable": true
   },
   "outputs": [],
   "source": [
    "def  checking_for_nulls(dataframe):\n",
    "    '''\n",
    "    Given a dataframe, checks for columns which have NaN or Nulls,\n",
    "        and returns a list with the name of those features which have NaN or Nulls.\n",
    "        \n",
    "    Input:\n",
    "        dataframe\n",
    "        \n",
    "    Output:\n",
    "        features_with_nulls: list of strings\n",
    "    '''\n",
    "    features = dataframe.columns\n",
    "    features_with_nulls = []\n",
    "\n",
    "    for column in df.columns:    \n",
    "        if df[column].isnull().sum() > 0:\n",
    "            features_with_nulls.append(column)\n",
    "    \n",
    "    return features_with_nulls"
   ]
  },
  {
   "cell_type": "code",
   "execution_count": 51,
   "metadata": {
    "collapsed": true,
    "deletable": true,
    "editable": true
   },
   "outputs": [],
   "source": [
    "def fill_in_missing_data (dataframe, features, criteria):\n",
    "    '''\n",
    "    Given a dataframe and a criteria (options: mean, median or mode),\n",
    "        fills in the NaN or Null values in that column for the dataframe\n",
    "        based on the given criteria\n",
    "        \n",
    "    Input:\n",
    "        dataframe\n",
    "        criteria: string\n",
    "    '''\n",
    "    \n",
    "    for feature in features:\n",
    "        if criteria == 'mean': input_value = df[feature].mean() \n",
    "        if criteria == 'median': input_value = df[feature].median() \n",
    "        if criteria == 'mode': input_value = df[feature].mode()\n",
    "        \n",
    "        dataframe[feature] = dataframe[feature].fillna(input_value)"
   ]
  },
  {
   "cell_type": "code",
   "execution_count": 52,
   "metadata": {
    "collapsed": true,
    "deletable": true,
    "editable": true
   },
   "outputs": [],
   "source": [
    "jail_ppl = jail_ppl.dropna(subset = ['personid'])"
   ]
  },
  {
   "cell_type": "code",
   "execution_count": 53,
   "metadata": {
    "collapsed": false,
    "deletable": true,
    "editable": true
   },
   "outputs": [
    {
     "data": {
      "text/plain": [
       "(9136, 16)"
      ]
     },
     "execution_count": 53,
     "metadata": {},
     "output_type": "execute_result"
    }
   ],
   "source": [
    "jail_ppl.shape"
   ]
  },
  {
   "cell_type": "code",
   "execution_count": 54,
   "metadata": {
    "collapsed": true,
    "deletable": true,
    "editable": true
   },
   "outputs": [],
   "source": [
    "health = mentalhealth[[\"personid\", \"treatment_days\"]]"
   ]
  },
  {
   "cell_type": "code",
   "execution_count": 55,
   "metadata": {
    "collapsed": false,
    "deletable": true,
    "editable": true
   },
   "outputs": [
    {
     "data": {
      "text/html": [
       "<div>\n",
       "<style scoped>\n",
       "    .dataframe tbody tr th:only-of-type {\n",
       "        vertical-align: middle;\n",
       "    }\n",
       "\n",
       "    .dataframe tbody tr th {\n",
       "        vertical-align: top;\n",
       "    }\n",
       "\n",
       "    .dataframe thead th {\n",
       "        text-align: right;\n",
       "    }\n",
       "</style>\n",
       "<table border=\"1\" class=\"dataframe\">\n",
       "  <thead>\n",
       "    <tr style=\"text-align: right;\">\n",
       "      <th></th>\n",
       "      <th>personid</th>\n",
       "      <th>treatment_days</th>\n",
       "    </tr>\n",
       "  </thead>\n",
       "  <tbody>\n",
       "    <tr>\n",
       "      <th>1</th>\n",
       "      <td>1012840.0</td>\n",
       "      <td>5313.0</td>\n",
       "    </tr>\n",
       "    <tr>\n",
       "      <th>2</th>\n",
       "      <td>1054604.0</td>\n",
       "      <td>1889.0</td>\n",
       "    </tr>\n",
       "    <tr>\n",
       "      <th>3</th>\n",
       "      <td>1102739.0</td>\n",
       "      <td>3626.0</td>\n",
       "    </tr>\n",
       "    <tr>\n",
       "      <th>4</th>\n",
       "      <td>1098897.0</td>\n",
       "      <td>4107.0</td>\n",
       "    </tr>\n",
       "    <tr>\n",
       "      <th>5</th>\n",
       "      <td>1057771.0</td>\n",
       "      <td>5358.0</td>\n",
       "    </tr>\n",
       "  </tbody>\n",
       "</table>\n",
       "</div>"
      ],
      "text/plain": [
       "    personid  treatment_days\n",
       "1  1012840.0          5313.0\n",
       "2  1054604.0          1889.0\n",
       "3  1102739.0          3626.0\n",
       "4  1098897.0          4107.0\n",
       "5  1057771.0          5358.0"
      ]
     },
     "execution_count": 55,
     "metadata": {},
     "output_type": "execute_result"
    }
   ],
   "source": [
    "health.head()"
   ]
  },
  {
   "cell_type": "code",
   "execution_count": 56,
   "metadata": {
    "collapsed": true,
    "deletable": true,
    "editable": true
   },
   "outputs": [],
   "source": [
    "df = pd.merge(jail_ppl, health, on=\"personid\", how='left')"
   ]
  },
  {
   "cell_type": "code",
   "execution_count": 57,
   "metadata": {
    "collapsed": false,
    "deletable": true,
    "editable": true
   },
   "outputs": [
    {
     "data": {
      "text/plain": [
       "(9823, 17)"
      ]
     },
     "execution_count": 57,
     "metadata": {},
     "output_type": "execute_result"
    }
   ],
   "source": [
    "df.shape"
   ]
  },
  {
   "cell_type": "code",
   "execution_count": 58,
   "metadata": {
    "collapsed": false,
    "deletable": true,
    "editable": true
   },
   "outputs": [
    {
     "data": {
      "text/plain": [
       "6556"
      ]
     },
     "execution_count": 58,
     "metadata": {},
     "output_type": "execute_result"
    }
   ],
   "source": [
    "df.personid.nunique()"
   ]
  },
  {
   "cell_type": "code",
   "execution_count": 59,
   "metadata": {
    "collapsed": false,
    "deletable": true,
    "editable": true
   },
   "outputs": [
    {
     "data": {
      "text/html": [
       "<div>\n",
       "<style scoped>\n",
       "    .dataframe tbody tr th:only-of-type {\n",
       "        vertical-align: middle;\n",
       "    }\n",
       "\n",
       "    .dataframe tbody tr th {\n",
       "        vertical-align: top;\n",
       "    }\n",
       "\n",
       "    .dataframe thead th {\n",
       "        text-align: right;\n",
       "    }\n",
       "</style>\n",
       "<table border=\"1\" class=\"dataframe\">\n",
       "  <thead>\n",
       "    <tr style=\"text-align: right;\">\n",
       "      <th></th>\n",
       "      <th>mni_no</th>\n",
       "      <th>case_no</th>\n",
       "      <th>booking_no</th>\n",
       "      <th>arresting_agency</th>\n",
       "      <th>bail_type</th>\n",
       "      <th>bail_amt</th>\n",
       "      <th>re-entry</th>\n",
       "      <th>personid</th>\n",
       "      <th>dob</th>\n",
       "      <th>race</th>\n",
       "      <th>gender</th>\n",
       "      <th>city</th>\n",
       "      <th>state</th>\n",
       "      <th>zip</th>\n",
       "      <th>age</th>\n",
       "      <th>booking_days</th>\n",
       "      <th>treatment_days</th>\n",
       "    </tr>\n",
       "  </thead>\n",
       "  <tbody>\n",
       "    <tr>\n",
       "      <th>9818</th>\n",
       "      <td>386507</td>\n",
       "      <td>15JV01408</td>\n",
       "      <td>15001276</td>\n",
       "      <td>MISSION P.D.</td>\n",
       "      <td>PR</td>\n",
       "      <td>750.0</td>\n",
       "      <td>1</td>\n",
       "      <td>1075036.0</td>\n",
       "      <td>1998-02-03</td>\n",
       "      <td>W</td>\n",
       "      <td>F</td>\n",
       "      <td>Mission</td>\n",
       "      <td>KS</td>\n",
       "      <td>66202</td>\n",
       "      <td>20.0</td>\n",
       "      <td>17.0</td>\n",
       "      <td>248.0</td>\n",
       "    </tr>\n",
       "    <tr>\n",
       "      <th>9819</th>\n",
       "      <td>388197</td>\n",
       "      <td>15JV01406</td>\n",
       "      <td>15001312</td>\n",
       "      <td>OLATHE P.D.</td>\n",
       "      <td>NaN</td>\n",
       "      <td>NaN</td>\n",
       "      <td>1</td>\n",
       "      <td>1082668.0</td>\n",
       "      <td>1998-02-16</td>\n",
       "      <td>W</td>\n",
       "      <td>M</td>\n",
       "      <td>Overland Park</td>\n",
       "      <td>KS</td>\n",
       "      <td>66202</td>\n",
       "      <td>20.0</td>\n",
       "      <td>19.0</td>\n",
       "      <td>106.0</td>\n",
       "    </tr>\n",
       "    <tr>\n",
       "      <th>9820</th>\n",
       "      <td>459495</td>\n",
       "      <td>14JV00909</td>\n",
       "      <td>15001408</td>\n",
       "      <td>JOHNSON COUNTY SHERIFF'S DEPARTMENT</td>\n",
       "      <td>NaN</td>\n",
       "      <td>NaN</td>\n",
       "      <td>1</td>\n",
       "      <td>1087638.0</td>\n",
       "      <td>1998-07-30</td>\n",
       "      <td>B</td>\n",
       "      <td>M</td>\n",
       "      <td>Merriam</td>\n",
       "      <td>KS</td>\n",
       "      <td>66203</td>\n",
       "      <td>20.0</td>\n",
       "      <td>23.0</td>\n",
       "      <td>NaN</td>\n",
       "    </tr>\n",
       "    <tr>\n",
       "      <th>9821</th>\n",
       "      <td>388197</td>\n",
       "      <td>15JV01406</td>\n",
       "      <td>16000075</td>\n",
       "      <td>JOHNSON COUNTY SHERIFF'S DEPARTMENT</td>\n",
       "      <td>NaN</td>\n",
       "      <td>NaN</td>\n",
       "      <td>1</td>\n",
       "      <td>1082668.0</td>\n",
       "      <td>1998-02-16</td>\n",
       "      <td>W</td>\n",
       "      <td>M</td>\n",
       "      <td>Overland Park</td>\n",
       "      <td>KS</td>\n",
       "      <td>66202</td>\n",
       "      <td>20.0</td>\n",
       "      <td>30.0</td>\n",
       "      <td>106.0</td>\n",
       "    </tr>\n",
       "    <tr>\n",
       "      <th>9822</th>\n",
       "      <td>409499</td>\n",
       "      <td>16JV00281</td>\n",
       "      <td>16000257</td>\n",
       "      <td>MERRIAM P.D.</td>\n",
       "      <td>NaN</td>\n",
       "      <td>NaN</td>\n",
       "      <td>0</td>\n",
       "      <td>1084674.0</td>\n",
       "      <td>2000-10-26</td>\n",
       "      <td>B</td>\n",
       "      <td>M</td>\n",
       "      <td>Merriam</td>\n",
       "      <td>KS</td>\n",
       "      <td>66203</td>\n",
       "      <td>18.0</td>\n",
       "      <td>1.0</td>\n",
       "      <td>NaN</td>\n",
       "    </tr>\n",
       "  </tbody>\n",
       "</table>\n",
       "</div>"
      ],
      "text/plain": [
       "      mni_no    case_no  booking_no                     arresting_agency  \\\n",
       "9818  386507  15JV01408    15001276                         MISSION P.D.   \n",
       "9819  388197  15JV01406    15001312                          OLATHE P.D.   \n",
       "9820  459495  14JV00909    15001408  JOHNSON COUNTY SHERIFF'S DEPARTMENT   \n",
       "9821  388197  15JV01406    16000075  JOHNSON COUNTY SHERIFF'S DEPARTMENT   \n",
       "9822  409499  16JV00281    16000257                         MERRIAM P.D.   \n",
       "\n",
       "     bail_type  bail_amt  re-entry   personid        dob race gender  \\\n",
       "9818        PR     750.0         1  1075036.0 1998-02-03    W      F   \n",
       "9819       NaN       NaN         1  1082668.0 1998-02-16    W      M   \n",
       "9820       NaN       NaN         1  1087638.0 1998-07-30    B      M   \n",
       "9821       NaN       NaN         1  1082668.0 1998-02-16    W      M   \n",
       "9822       NaN       NaN         0  1084674.0 2000-10-26    B      M   \n",
       "\n",
       "               city state    zip   age  booking_days  treatment_days  \n",
       "9818        Mission    KS  66202  20.0          17.0           248.0  \n",
       "9819  Overland Park    KS  66202  20.0          19.0           106.0  \n",
       "9820        Merriam    KS  66203  20.0          23.0             NaN  \n",
       "9821  Overland Park    KS  66202  20.0          30.0           106.0  \n",
       "9822        Merriam    KS  66203  18.0           1.0             NaN  "
      ]
     },
     "execution_count": 59,
     "metadata": {},
     "output_type": "execute_result"
    }
   ],
   "source": [
    "df.tail()"
   ]
  },
  {
   "cell_type": "code",
   "execution_count": 60,
   "metadata": {
    "collapsed": true,
    "deletable": true,
    "editable": true
   },
   "outputs": [],
   "source": [
    "df['treatment_days'].fillna(-1, inplace = True)"
   ]
  },
  {
   "cell_type": "code",
   "execution_count": 61,
   "metadata": {
    "collapsed": true,
    "deletable": true,
    "editable": true
   },
   "outputs": [],
   "source": [
    "df['mental_health'] = np.where(df['treatment_days']>=0.0, 1, 0)"
   ]
  },
  {
   "cell_type": "code",
   "execution_count": 62,
   "metadata": {
    "collapsed": false,
    "deletable": true,
    "editable": true
   },
   "outputs": [
    {
     "data": {
      "text/html": [
       "<div>\n",
       "<style scoped>\n",
       "    .dataframe tbody tr th:only-of-type {\n",
       "        vertical-align: middle;\n",
       "    }\n",
       "\n",
       "    .dataframe tbody tr th {\n",
       "        vertical-align: top;\n",
       "    }\n",
       "\n",
       "    .dataframe thead th {\n",
       "        text-align: right;\n",
       "    }\n",
       "</style>\n",
       "<table border=\"1\" class=\"dataframe\">\n",
       "  <thead>\n",
       "    <tr style=\"text-align: right;\">\n",
       "      <th></th>\n",
       "      <th>mni_no</th>\n",
       "      <th>case_no</th>\n",
       "      <th>booking_no</th>\n",
       "      <th>arresting_agency</th>\n",
       "      <th>bail_type</th>\n",
       "      <th>bail_amt</th>\n",
       "      <th>re-entry</th>\n",
       "      <th>personid</th>\n",
       "      <th>dob</th>\n",
       "      <th>race</th>\n",
       "      <th>gender</th>\n",
       "      <th>city</th>\n",
       "      <th>state</th>\n",
       "      <th>zip</th>\n",
       "      <th>age</th>\n",
       "      <th>booking_days</th>\n",
       "      <th>treatment_days</th>\n",
       "      <th>mental_health</th>\n",
       "    </tr>\n",
       "  </thead>\n",
       "  <tbody>\n",
       "    <tr>\n",
       "      <th>9818</th>\n",
       "      <td>386507</td>\n",
       "      <td>15JV01408</td>\n",
       "      <td>15001276</td>\n",
       "      <td>MISSION P.D.</td>\n",
       "      <td>PR</td>\n",
       "      <td>750.0</td>\n",
       "      <td>1</td>\n",
       "      <td>1075036.0</td>\n",
       "      <td>1998-02-03</td>\n",
       "      <td>W</td>\n",
       "      <td>F</td>\n",
       "      <td>Mission</td>\n",
       "      <td>KS</td>\n",
       "      <td>66202</td>\n",
       "      <td>20.0</td>\n",
       "      <td>17.0</td>\n",
       "      <td>248.0</td>\n",
       "      <td>1</td>\n",
       "    </tr>\n",
       "    <tr>\n",
       "      <th>9819</th>\n",
       "      <td>388197</td>\n",
       "      <td>15JV01406</td>\n",
       "      <td>15001312</td>\n",
       "      <td>OLATHE P.D.</td>\n",
       "      <td>NaN</td>\n",
       "      <td>NaN</td>\n",
       "      <td>1</td>\n",
       "      <td>1082668.0</td>\n",
       "      <td>1998-02-16</td>\n",
       "      <td>W</td>\n",
       "      <td>M</td>\n",
       "      <td>Overland Park</td>\n",
       "      <td>KS</td>\n",
       "      <td>66202</td>\n",
       "      <td>20.0</td>\n",
       "      <td>19.0</td>\n",
       "      <td>106.0</td>\n",
       "      <td>1</td>\n",
       "    </tr>\n",
       "    <tr>\n",
       "      <th>9820</th>\n",
       "      <td>459495</td>\n",
       "      <td>14JV00909</td>\n",
       "      <td>15001408</td>\n",
       "      <td>JOHNSON COUNTY SHERIFF'S DEPARTMENT</td>\n",
       "      <td>NaN</td>\n",
       "      <td>NaN</td>\n",
       "      <td>1</td>\n",
       "      <td>1087638.0</td>\n",
       "      <td>1998-07-30</td>\n",
       "      <td>B</td>\n",
       "      <td>M</td>\n",
       "      <td>Merriam</td>\n",
       "      <td>KS</td>\n",
       "      <td>66203</td>\n",
       "      <td>20.0</td>\n",
       "      <td>23.0</td>\n",
       "      <td>-1.0</td>\n",
       "      <td>0</td>\n",
       "    </tr>\n",
       "    <tr>\n",
       "      <th>9821</th>\n",
       "      <td>388197</td>\n",
       "      <td>15JV01406</td>\n",
       "      <td>16000075</td>\n",
       "      <td>JOHNSON COUNTY SHERIFF'S DEPARTMENT</td>\n",
       "      <td>NaN</td>\n",
       "      <td>NaN</td>\n",
       "      <td>1</td>\n",
       "      <td>1082668.0</td>\n",
       "      <td>1998-02-16</td>\n",
       "      <td>W</td>\n",
       "      <td>M</td>\n",
       "      <td>Overland Park</td>\n",
       "      <td>KS</td>\n",
       "      <td>66202</td>\n",
       "      <td>20.0</td>\n",
       "      <td>30.0</td>\n",
       "      <td>106.0</td>\n",
       "      <td>1</td>\n",
       "    </tr>\n",
       "    <tr>\n",
       "      <th>9822</th>\n",
       "      <td>409499</td>\n",
       "      <td>16JV00281</td>\n",
       "      <td>16000257</td>\n",
       "      <td>MERRIAM P.D.</td>\n",
       "      <td>NaN</td>\n",
       "      <td>NaN</td>\n",
       "      <td>0</td>\n",
       "      <td>1084674.0</td>\n",
       "      <td>2000-10-26</td>\n",
       "      <td>B</td>\n",
       "      <td>M</td>\n",
       "      <td>Merriam</td>\n",
       "      <td>KS</td>\n",
       "      <td>66203</td>\n",
       "      <td>18.0</td>\n",
       "      <td>1.0</td>\n",
       "      <td>-1.0</td>\n",
       "      <td>0</td>\n",
       "    </tr>\n",
       "  </tbody>\n",
       "</table>\n",
       "</div>"
      ],
      "text/plain": [
       "      mni_no    case_no  booking_no                     arresting_agency  \\\n",
       "9818  386507  15JV01408    15001276                         MISSION P.D.   \n",
       "9819  388197  15JV01406    15001312                          OLATHE P.D.   \n",
       "9820  459495  14JV00909    15001408  JOHNSON COUNTY SHERIFF'S DEPARTMENT   \n",
       "9821  388197  15JV01406    16000075  JOHNSON COUNTY SHERIFF'S DEPARTMENT   \n",
       "9822  409499  16JV00281    16000257                         MERRIAM P.D.   \n",
       "\n",
       "     bail_type  bail_amt  re-entry   personid        dob race gender  \\\n",
       "9818        PR     750.0         1  1075036.0 1998-02-03    W      F   \n",
       "9819       NaN       NaN         1  1082668.0 1998-02-16    W      M   \n",
       "9820       NaN       NaN         1  1087638.0 1998-07-30    B      M   \n",
       "9821       NaN       NaN         1  1082668.0 1998-02-16    W      M   \n",
       "9822       NaN       NaN         0  1084674.0 2000-10-26    B      M   \n",
       "\n",
       "               city state    zip   age  booking_days  treatment_days  \\\n",
       "9818        Mission    KS  66202  20.0          17.0           248.0   \n",
       "9819  Overland Park    KS  66202  20.0          19.0           106.0   \n",
       "9820        Merriam    KS  66203  20.0          23.0            -1.0   \n",
       "9821  Overland Park    KS  66202  20.0          30.0           106.0   \n",
       "9822        Merriam    KS  66203  18.0           1.0            -1.0   \n",
       "\n",
       "      mental_health  \n",
       "9818              1  \n",
       "9819              1  \n",
       "9820              0  \n",
       "9821              1  \n",
       "9822              0  "
      ]
     },
     "execution_count": 62,
     "metadata": {},
     "output_type": "execute_result"
    }
   ],
   "source": [
    "df.tail()"
   ]
  },
  {
   "cell_type": "code",
   "execution_count": 63,
   "metadata": {
    "collapsed": true,
    "deletable": true,
    "editable": true
   },
   "outputs": [],
   "source": [
    "cols_to_fill = checking_for_nulls(df)"
   ]
  },
  {
   "cell_type": "code",
   "execution_count": 64,
   "metadata": {
    "collapsed": false,
    "deletable": true,
    "editable": true
   },
   "outputs": [
    {
     "data": {
      "text/plain": [
       "['bail_type', 'bail_amt', 'city', 'state', 'zip', 'booking_days']"
      ]
     },
     "execution_count": 64,
     "metadata": {},
     "output_type": "execute_result"
    }
   ],
   "source": [
    "cols_to_fill"
   ]
  },
  {
   "cell_type": "code",
   "execution_count": 65,
   "metadata": {
    "collapsed": true,
    "deletable": true,
    "editable": true
   },
   "outputs": [],
   "source": [
    "fill_in_missing_data(df, ['bail_amt', 'booking_days'], 'median')"
   ]
  },
  {
   "cell_type": "code",
   "execution_count": 66,
   "metadata": {
    "collapsed": false,
    "deletable": true,
    "editable": true
   },
   "outputs": [
    {
     "data": {
      "text/plain": [
       "0    SUR\n",
       "dtype: object"
      ]
     },
     "execution_count": 66,
     "metadata": {},
     "output_type": "execute_result"
    }
   ],
   "source": [
    "df['bail_type'].mode()"
   ]
  },
  {
   "cell_type": "code",
   "execution_count": 67,
   "metadata": {
    "collapsed": true,
    "deletable": true,
    "editable": true
   },
   "outputs": [],
   "source": [
    "df['bail_type'] = df['bail_type'].fillna('SUR')"
   ]
  },
  {
   "cell_type": "code",
   "execution_count": 68,
   "metadata": {
    "collapsed": false,
    "deletable": true,
    "editable": true
   },
   "outputs": [
    {
     "data": {
      "text/plain": [
       "['city', 'state', 'zip']"
      ]
     },
     "execution_count": 68,
     "metadata": {},
     "output_type": "execute_result"
    }
   ],
   "source": [
    "checking_for_nulls(df)"
   ]
  },
  {
   "cell_type": "code",
   "execution_count": 69,
   "metadata": {
    "collapsed": false,
    "deletable": true,
    "editable": true
   },
   "outputs": [
    {
     "data": {
      "text/html": [
       "<div>\n",
       "<style scoped>\n",
       "    .dataframe tbody tr th:only-of-type {\n",
       "        vertical-align: middle;\n",
       "    }\n",
       "\n",
       "    .dataframe tbody tr th {\n",
       "        vertical-align: top;\n",
       "    }\n",
       "\n",
       "    .dataframe thead th {\n",
       "        text-align: right;\n",
       "    }\n",
       "</style>\n",
       "<table border=\"1\" class=\"dataframe\">\n",
       "  <thead>\n",
       "    <tr style=\"text-align: right;\">\n",
       "      <th></th>\n",
       "      <th>mni_no</th>\n",
       "      <th>case_no</th>\n",
       "      <th>booking_no</th>\n",
       "      <th>arresting_agency</th>\n",
       "      <th>bail_type</th>\n",
       "      <th>bail_amt</th>\n",
       "      <th>re-entry</th>\n",
       "      <th>personid</th>\n",
       "      <th>dob</th>\n",
       "      <th>race</th>\n",
       "      <th>gender</th>\n",
       "      <th>city</th>\n",
       "      <th>state</th>\n",
       "      <th>zip</th>\n",
       "      <th>age</th>\n",
       "      <th>booking_days</th>\n",
       "      <th>treatment_days</th>\n",
       "      <th>mental_health</th>\n",
       "    </tr>\n",
       "  </thead>\n",
       "  <tbody>\n",
       "    <tr>\n",
       "      <th>0</th>\n",
       "      <td>167776</td>\n",
       "      <td>10DV00011</td>\n",
       "      <td>10000008</td>\n",
       "      <td>GARDNER P.D.</td>\n",
       "      <td>SUR</td>\n",
       "      <td>5000.0</td>\n",
       "      <td>1</td>\n",
       "      <td>1079925.0</td>\n",
       "      <td>1981-05-21</td>\n",
       "      <td>W</td>\n",
       "      <td>M</td>\n",
       "      <td>Lawrence</td>\n",
       "      <td>KS</td>\n",
       "      <td>66046-3250</td>\n",
       "      <td>37.0</td>\n",
       "      <td>3.0</td>\n",
       "      <td>-1.0</td>\n",
       "      <td>0</td>\n",
       "    </tr>\n",
       "    <tr>\n",
       "      <th>1</th>\n",
       "      <td>82738</td>\n",
       "      <td>10DV00004</td>\n",
       "      <td>10000017</td>\n",
       "      <td>OVERLAND PARK P.D.</td>\n",
       "      <td>SUR</td>\n",
       "      <td>1500.0</td>\n",
       "      <td>0</td>\n",
       "      <td>1080427.0</td>\n",
       "      <td>1968-06-19</td>\n",
       "      <td>W</td>\n",
       "      <td>M</td>\n",
       "      <td>Overland Park</td>\n",
       "      <td>KS</td>\n",
       "      <td>66212</td>\n",
       "      <td>50.0</td>\n",
       "      <td>1.0</td>\n",
       "      <td>-1.0</td>\n",
       "      <td>0</td>\n",
       "    </tr>\n",
       "    <tr>\n",
       "      <th>2</th>\n",
       "      <td>457048</td>\n",
       "      <td>10CR00037</td>\n",
       "      <td>10000030</td>\n",
       "      <td>OLATHE P.D.</td>\n",
       "      <td>SUR</td>\n",
       "      <td>2500.0</td>\n",
       "      <td>0</td>\n",
       "      <td>1086672.0</td>\n",
       "      <td>1979-03-23</td>\n",
       "      <td>W</td>\n",
       "      <td>M</td>\n",
       "      <td>Shawnee</td>\n",
       "      <td>KS</td>\n",
       "      <td>66226</td>\n",
       "      <td>39.0</td>\n",
       "      <td>50.0</td>\n",
       "      <td>-1.0</td>\n",
       "      <td>0</td>\n",
       "    </tr>\n",
       "    <tr>\n",
       "      <th>3</th>\n",
       "      <td>369139</td>\n",
       "      <td>10CR00010</td>\n",
       "      <td>10000033</td>\n",
       "      <td>LENEXA P.D.</td>\n",
       "      <td>CA</td>\n",
       "      <td>5000.0</td>\n",
       "      <td>1</td>\n",
       "      <td>1095350.0</td>\n",
       "      <td>1972-08-02</td>\n",
       "      <td>W</td>\n",
       "      <td>M</td>\n",
       "      <td>NaN</td>\n",
       "      <td>NaN</td>\n",
       "      <td>NaN</td>\n",
       "      <td>46.0</td>\n",
       "      <td>13.0</td>\n",
       "      <td>-1.0</td>\n",
       "      <td>0</td>\n",
       "    </tr>\n",
       "    <tr>\n",
       "      <th>4</th>\n",
       "      <td>110321</td>\n",
       "      <td>09CR02898</td>\n",
       "      <td>10000041</td>\n",
       "      <td>JOHNSON COUNTY SHERIFF'S DEPARTMENT</td>\n",
       "      <td>SUR</td>\n",
       "      <td>7500.0</td>\n",
       "      <td>1</td>\n",
       "      <td>1085452.0</td>\n",
       "      <td>1976-02-05</td>\n",
       "      <td>W</td>\n",
       "      <td>F</td>\n",
       "      <td>Shawnee</td>\n",
       "      <td>KS</td>\n",
       "      <td>66227</td>\n",
       "      <td>42.0</td>\n",
       "      <td>13.0</td>\n",
       "      <td>-1.0</td>\n",
       "      <td>0</td>\n",
       "    </tr>\n",
       "  </tbody>\n",
       "</table>\n",
       "</div>"
      ],
      "text/plain": [
       "   mni_no    case_no  booking_no                     arresting_agency  \\\n",
       "0  167776  10DV00011    10000008                         GARDNER P.D.   \n",
       "1   82738  10DV00004    10000017                   OVERLAND PARK P.D.   \n",
       "2  457048  10CR00037    10000030                          OLATHE P.D.   \n",
       "3  369139  10CR00010    10000033                          LENEXA P.D.   \n",
       "4  110321  09CR02898    10000041  JOHNSON COUNTY SHERIFF'S DEPARTMENT   \n",
       "\n",
       "  bail_type  bail_amt  re-entry   personid        dob race gender  \\\n",
       "0       SUR    5000.0         1  1079925.0 1981-05-21    W      M   \n",
       "1       SUR    1500.0         0  1080427.0 1968-06-19    W      M   \n",
       "2       SUR    2500.0         0  1086672.0 1979-03-23    W      M   \n",
       "3        CA    5000.0         1  1095350.0 1972-08-02    W      M   \n",
       "4       SUR    7500.0         1  1085452.0 1976-02-05    W      F   \n",
       "\n",
       "            city state         zip   age  booking_days  treatment_days  \\\n",
       "0       Lawrence    KS  66046-3250  37.0           3.0            -1.0   \n",
       "1  Overland Park    KS       66212  50.0           1.0            -1.0   \n",
       "2        Shawnee    KS       66226  39.0          50.0            -1.0   \n",
       "3            NaN   NaN         NaN  46.0          13.0            -1.0   \n",
       "4        Shawnee    KS       66227  42.0          13.0            -1.0   \n",
       "\n",
       "   mental_health  \n",
       "0              0  \n",
       "1              0  \n",
       "2              0  \n",
       "3              0  \n",
       "4              0  "
      ]
     },
     "execution_count": 69,
     "metadata": {},
     "output_type": "execute_result"
    }
   ],
   "source": [
    "df.head()"
   ]
  },
  {
   "cell_type": "code",
   "execution_count": 70,
   "metadata": {
    "collapsed": true,
    "deletable": true,
    "editable": true
   },
   "outputs": [],
   "source": [
    "#2 explore\n",
    "def create_graph(df, x, method='mean', graph_type='line'):\n",
    "    '''\n",
    "    Generate distribution graph for specific variable\n",
    "    \n",
    "    Input:\n",
    "        df: (pandas dataframe)\n",
    "        x(string): the variable/attribute you want to explore\n",
    "        graph_typee(string): the type of graph you want to draw: line, bar, scatter\n",
    "        method (string): mean, median or sum\n",
    "        \n",
    "    Return:\n",
    "        a graph for a selected attribute. \n",
    "    '''\n",
    "    y = 're-entry'\n",
    "    cols = [x, y]\n",
    "    if method == 'mean':\n",
    "        var = df[cols].groupby(x).mean()\n",
    "    elif method == 'median':\n",
    "        var = df[cols].groupby(x).median()\n",
    "    elif method == 'sum':\n",
    "        var = df[cols].groupby(x).sum()\n",
    "    graph = var.plot(kind=graph_type, use_index=False, figsize=(8,4))\n"
   ]
  },
  {
   "cell_type": "code",
   "execution_count": 71,
   "metadata": {
    "collapsed": true,
    "deletable": true,
    "editable": true
   },
   "outputs": [],
   "source": [
    "create_graph(df, 'bail_amt', 'sum')"
   ]
  },
  {
   "cell_type": "code",
   "execution_count": 72,
   "metadata": {
    "collapsed": false,
    "deletable": true,
    "editable": true
   },
   "outputs": [],
   "source": [
    "create_graph(df, 'booking_days', 'sum')"
   ]
  },
  {
   "cell_type": "code",
   "execution_count": 73,
   "metadata": {
    "collapsed": true,
    "deletable": true,
    "editable": true
   },
   "outputs": [],
   "source": [
    "import matplotlib.pyplot as plt\n",
    "import seaborn as sns; sns.set()\n",
    "%matplotlib inline"
   ]
  },
  {
   "cell_type": "code",
   "execution_count": 74,
   "metadata": {
    "collapsed": true,
    "deletable": true,
    "editable": true
   },
   "outputs": [],
   "source": [
    "def corr_matrix(df):\n",
    "    '''\n",
    "    Creates a heatmap that shows the correlations between the different variables in a dataframe.\n",
    "    \n",
    "    Input:\n",
    "        df: a dataframe\n",
    "        title: name of the correlation_matrix\n",
    "        \n",
    "    Return:\n",
    "        Outputs a heatmatrix showing correlations\n",
    "    \n",
    "    \n",
    "    '''\n",
    "    f, ax = plt.subplots(figsize=(10, 8))\n",
    "    corr = df.corr()\n",
    "    sns.heatmap(corr, \n",
    "                xticklabels=corr.columns.values,\n",
    "                yticklabels=corr.columns.values, \n",
    "                mask=np.zeros_like(corr, dtype=np.bool), \n",
    "                cmap=sns.diverging_palette(220, 10, as_cmap=True),\n",
    "            square=True, ax=ax)"
   ]
  },
  {
   "cell_type": "code",
   "execution_count": 75,
   "metadata": {
    "collapsed": false,
    "deletable": true,
    "editable": true
   },
   "outputs": [
    {
     "data": {
      "image/png": "[encoded data removed]",
      "text/plain": [
       "<matplotlib.figure.Figure at 0x10c6147f0>"
      ]
     },
     "metadata": {},
     "output_type": "display_data"
    }
   ],
   "source": [
    "corr_matrix(df)"
   ]
  },
  {
   "cell_type": "code",
   "execution_count": 76,
   "metadata": {
    "collapsed": false,
    "deletable": true,
    "editable": true
   },
   "outputs": [
    {
     "data": {
      "text/plain": [
       "Index(['mni_no', 'case_no', 'booking_no', 'arresting_agency', 'bail_type',\n",
       "       'bail_amt', 're-entry', 'personid', 'dob', 'race', 'gender', 'city',\n",
       "       'state', 'zip', 'age', 'booking_days', 'treatment_days',\n",
       "       'mental_health'],\n",
       "      dtype='object')"
      ]
     },
     "execution_count": 76,
     "metadata": {},
     "output_type": "execute_result"
    }
   ],
   "source": [
    "df.columns"
   ]
  },
  {
   "cell_type": "code",
   "execution_count": 77,
   "metadata": {
    "collapsed": true,
    "deletable": true,
    "editable": true
   },
   "outputs": [],
   "source": [
    "df = df.drop(['case_no', 'booking_no', 'personid'], axis=1)"
   ]
  },
  {
   "cell_type": "code",
   "execution_count": 78,
   "metadata": {
    "collapsed": true,
    "deletable": true,
    "editable": true
   },
   "outputs": [],
   "source": [
    "df.to_csv('mni_df.csv', index=False)"
   ]
  },
  {
   "cell_type": "code",
   "execution_count": 79,
   "metadata": {
    "collapsed": false,
    "deletable": true,
    "editable": true
   },
   "outputs": [
    {
     "data": {
      "text/html": [
       "<div>\n",
       "<style scoped>\n",
       "    .dataframe tbody tr th:only-of-type {\n",
       "        vertical-align: middle;\n",
       "    }\n",
       "\n",
       "    .dataframe tbody tr th {\n",
       "        vertical-align: top;\n",
       "    }\n",
       "\n",
       "    .dataframe thead th {\n",
       "        text-align: right;\n",
       "    }\n",
       "</style>\n",
       "<table border=\"1\" class=\"dataframe\">\n",
       "  <thead>\n",
       "    <tr style=\"text-align: right;\">\n",
       "      <th></th>\n",
       "      <th>mni_no</th>\n",
       "      <th>arresting_agency</th>\n",
       "      <th>bail_type</th>\n",
       "      <th>bail_amt</th>\n",
       "      <th>re-entry</th>\n",
       "      <th>dob</th>\n",
       "      <th>race</th>\n",
       "      <th>gender</th>\n",
       "      <th>city</th>\n",
       "      <th>state</th>\n",
       "      <th>zip</th>\n",
       "      <th>age</th>\n",
       "      <th>booking_days</th>\n",
       "      <th>treatment_days</th>\n",
       "      <th>mental_health</th>\n",
       "    </tr>\n",
       "  </thead>\n",
       "  <tbody>\n",
       "    <tr>\n",
       "      <th>0</th>\n",
       "      <td>167776</td>\n",
       "      <td>GARDNER P.D.</td>\n",
       "      <td>SUR</td>\n",
       "      <td>5000.0</td>\n",
       "      <td>1</td>\n",
       "      <td>1981-05-21</td>\n",
       "      <td>W</td>\n",
       "      <td>M</td>\n",
       "      <td>Lawrence</td>\n",
       "      <td>KS</td>\n",
       "      <td>66046-3250</td>\n",
       "      <td>37.0</td>\n",
       "      <td>3.0</td>\n",
       "      <td>-1.0</td>\n",
       "      <td>0</td>\n",
       "    </tr>\n",
       "    <tr>\n",
       "      <th>1</th>\n",
       "      <td>82738</td>\n",
       "      <td>OVERLAND PARK P.D.</td>\n",
       "      <td>SUR</td>\n",
       "      <td>1500.0</td>\n",
       "      <td>0</td>\n",
       "      <td>1968-06-19</td>\n",
       "      <td>W</td>\n",
       "      <td>M</td>\n",
       "      <td>Overland Park</td>\n",
       "      <td>KS</td>\n",
       "      <td>66212</td>\n",
       "      <td>50.0</td>\n",
       "      <td>1.0</td>\n",
       "      <td>-1.0</td>\n",
       "      <td>0</td>\n",
       "    </tr>\n",
       "    <tr>\n",
       "      <th>2</th>\n",
       "      <td>457048</td>\n",
       "      <td>OLATHE P.D.</td>\n",
       "      <td>SUR</td>\n",
       "      <td>2500.0</td>\n",
       "      <td>0</td>\n",
       "      <td>1979-03-23</td>\n",
       "      <td>W</td>\n",
       "      <td>M</td>\n",
       "      <td>Shawnee</td>\n",
       "      <td>KS</td>\n",
       "      <td>66226</td>\n",
       "      <td>39.0</td>\n",
       "      <td>50.0</td>\n",
       "      <td>-1.0</td>\n",
       "      <td>0</td>\n",
       "    </tr>\n",
       "    <tr>\n",
       "      <th>3</th>\n",
       "      <td>369139</td>\n",
       "      <td>LENEXA P.D.</td>\n",
       "      <td>CA</td>\n",
       "      <td>5000.0</td>\n",
       "      <td>1</td>\n",
       "      <td>1972-08-02</td>\n",
       "      <td>W</td>\n",
       "      <td>M</td>\n",
       "      <td>NaN</td>\n",
       "      <td>NaN</td>\n",
       "      <td>NaN</td>\n",
       "      <td>46.0</td>\n",
       "      <td>13.0</td>\n",
       "      <td>-1.0</td>\n",
       "      <td>0</td>\n",
       "    </tr>\n",
       "    <tr>\n",
       "      <th>4</th>\n",
       "      <td>110321</td>\n",
       "      <td>JOHNSON COUNTY SHERIFF'S DEPARTMENT</td>\n",
       "      <td>SUR</td>\n",
       "      <td>7500.0</td>\n",
       "      <td>1</td>\n",
       "      <td>1976-02-05</td>\n",
       "      <td>W</td>\n",
       "      <td>F</td>\n",
       "      <td>Shawnee</td>\n",
       "      <td>KS</td>\n",
       "      <td>66227</td>\n",
       "      <td>42.0</td>\n",
       "      <td>13.0</td>\n",
       "      <td>-1.0</td>\n",
       "      <td>0</td>\n",
       "    </tr>\n",
       "  </tbody>\n",
       "</table>\n",
       "</div>"
      ],
      "text/plain": [
       "   mni_no                     arresting_agency bail_type  bail_amt  re-entry  \\\n",
       "0  167776                         GARDNER P.D.       SUR    5000.0         1   \n",
       "1   82738                   OVERLAND PARK P.D.       SUR    1500.0         0   \n",
       "2  457048                          OLATHE P.D.       SUR    2500.0         0   \n",
       "3  369139                          LENEXA P.D.        CA    5000.0         1   \n",
       "4  110321  JOHNSON COUNTY SHERIFF'S DEPARTMENT       SUR    7500.0         1   \n",
       "\n",
       "         dob race gender           city state         zip   age  booking_days  \\\n",
       "0 1981-05-21    W      M       Lawrence    KS  66046-3250  37.0           3.0   \n",
       "1 1968-06-19    W      M  Overland Park    KS       66212  50.0           1.0   \n",
       "2 1979-03-23    W      M        Shawnee    KS       66226  39.0          50.0   \n",
       "3 1972-08-02    W      M            NaN   NaN         NaN  46.0          13.0   \n",
       "4 1976-02-05    W      F        Shawnee    KS       66227  42.0          13.0   \n",
       "\n",
       "   treatment_days  mental_health  \n",
       "0            -1.0              0  \n",
       "1            -1.0              0  \n",
       "2            -1.0              0  \n",
       "3            -1.0              0  \n",
       "4            -1.0              0  "
      ]
     },
     "execution_count": 79,
     "metadata": {},
     "output_type": "execute_result"
    }
   ],
   "source": [
    "df.head()"
   ]
  },
  {
   "cell_type": "code",
   "execution_count": null,
   "metadata": {
    "collapsed": true,
    "deletable": true,
    "editable": true
   },
   "outputs": [],
   "source": []
  }
 ],
 "metadata": {
  "kernelspec": {
   "display_name": "Python 3",
   "language": "python",
   "name": "python3"
  },
  "language_info": {
   "codemirror_mode": {
    "name": "ipython",
    "version": 3
   },
   "file_extension": ".py",
   "mimetype": "text/x-python",
   "name": "python",
   "nbconvert_exporter": "python",
   "pygments_lexer": "ipython3",
   "version": "3.6.5"
  }
 },
 "nbformat": 4,
 "nbformat_minor": 2
}
