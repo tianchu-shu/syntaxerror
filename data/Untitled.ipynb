{
 "cells": [
  {
   "cell_type": "code",
   "execution_count": 2,
   "metadata": {
    "collapsed": true,
    "deletable": true,
    "editable": true
   },
   "outputs": [],
   "source": [
    "import pandas as pd\n",
    "import numpy as np"
   ]
  },
  {
   "cell_type": "code",
   "execution_count": 3,
   "metadata": {
    "collapsed": false,
    "deletable": true,
    "editable": true
   },
   "outputs": [],
   "source": [
    "withbooking = pd.read_csv(\"fixed_withbooking.csv\")\n",
    "mental = pd.read_csv(\"mentalhealth.csv\")\n",
    "fips = pd.read_csv(\"with_fips.csv\")\n",
    "acs = pd.read_csv(\"unique_acs.csv\")"
   ]
  },
  {
   "cell_type": "code",
   "execution_count": 4,
   "metadata": {
    "collapsed": false
   },
   "outputs": [
    {
     "data": {
      "text/plain": [
       "Index(['Unnamed: 0', 'mni_no', 'dedupe_id', 'dob', 'sex', 'race', 'mar_stat',\n",
       "       'city', 'state', 'zip', 'case_no', 'case_type', 'booking_no',\n",
       "       'arresting_agency', 'arresting_agency_type', 'booking_date',\n",
       "       'release_date', 'bail_type', 'bail_amt', 'bailed_out'],\n",
       "      dtype='object')"
      ]
     },
     "execution_count": 4,
     "metadata": {},
     "output_type": "execute_result"
    }
   ],
   "source": [
    "withbooking.columns"
   ]
  },
  {
   "cell_type": "code",
   "execution_count": 5,
   "metadata": {
    "collapsed": true
   },
   "outputs": [],
   "source": [
    "withbooking = withbooking.drop(['Unnamed: 0', 'mni_no'], axis=1)"
   ]
  },
  {
   "cell_type": "code",
   "execution_count": 6,
   "metadata": {
    "collapsed": false
   },
   "outputs": [
    {
     "data": {
      "text/plain": [
       "Index(['personid', 'dob', 'race', 'sex', 'city', 'state', 'zip', 'tract2010id',\n",
       "       'blockgroup2010id', 'block2010id', 'admit_date', 'dschrg_date',\n",
       "       'program', 'pri_dx_code', 'pri_dx_value', 'refferal_source'],\n",
       "      dtype='object')"
      ]
     },
     "execution_count": 6,
     "metadata": {},
     "output_type": "execute_result"
    }
   ],
   "source": [
    "mental.columns"
   ]
  },
  {
   "cell_type": "code",
   "execution_count": null,
   "metadata": {
    "collapsed": true
   },
   "outputs": [],
   "source": [
    "mental = mental[['']]"
   ]
  }
 ],
 "metadata": {
  "kernelspec": {
   "display_name": "Python 3",
   "language": "python",
   "name": "python3"
  },
  "language_info": {
   "codemirror_mode": {
    "name": "ipython",
    "version": 3
   },
   "file_extension": ".py",
   "mimetype": "text/x-python",
   "name": "python",
   "nbconvert_exporter": "python",
   "pygments_lexer": "ipython3",
   "version": "3.6.5"
  }
 },
 "nbformat": 4,
 "nbformat_minor": 2
}
