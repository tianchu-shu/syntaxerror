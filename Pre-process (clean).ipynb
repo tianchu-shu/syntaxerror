{
 "cells": [
  {
   "cell_type": "code",
   "execution_count": 1,
   "metadata": {},
   "outputs": [],
   "source": [
    "import numpy as np\n",
    "import pandas as pd\n",
    "import matplotlib.pyplot as plt\n",
    "import seaborn as sns; sns.set()\n",
    "from sklearn.ensemble import RandomForestClassifier, BaggingClassifier, AdaBoostClassifier\n",
    "from sklearn.linear_model import LogisticRegression\n",
    "from sklearn.tree import DecisionTreeClassifier\n",
    "from sklearn.neighbors import KNeighborsClassifier\n",
    "from sklearn.svm import SVC\n",
    "from sklearn.model_selection import train_test_split, ParameterGrid\n",
    "from sklearn.metrics import *\n",
    "import time\n",
    "\n",
    "%matplotlib inline"
   ]
  },
  {
   "cell_type": "code",
   "execution_count": 2,
   "metadata": {},
   "outputs": [],
   "source": [
    "jailbooking = pd.read_csv(\"booking.csv\")\n",
    "entries = pd.read_csv(\"entries_201805311548.csv\")\n",
    "mentalhealth = pd.read_csv('health.csv')\n",
    "person = pd.read_csv('person.csv')"
   ]
  },
  {
   "cell_type": "code",
   "execution_count": 3,
   "metadata": {},
   "outputs": [
    {
     "data": {
      "text/plain": [
       "Index(['src', 'foreign_id', 'entry_id', 'known_linked_entry_id', 'hash_ssn',\n",
       "       'hash_ssn4', 'hash_fname', 'hash_lname', 'dob', 'race', 'sex',\n",
       "       'block2010id', 'date', 'dedupe_id'],\n",
       "      dtype='object')"
      ]
     },
     "execution_count": 3,
     "metadata": {},
     "output_type": "execute_result"
    }
   ],
   "source": [
    "entries.columns"
   ]
  },
  {
   "cell_type": "code",
   "execution_count": 4,
   "metadata": {},
   "outputs": [
    {
     "data": {
      "text/plain": [
       "Index(['hash_ssn', 'hash_ssn4_dob', 'mni_no', 'dob', 'original_race', 'race',\n",
       "       'original_gender', 'sex', 'city', 'state', 'zip', 'country',\n",
       "       'us_zip_first_five', 'us_zip_last_four', 'tract2010id',\n",
       "       'blockgroup2010id', 'block2010id', 'joco_resident'],\n",
       "      dtype='object')"
      ]
     },
     "execution_count": 4,
     "metadata": {},
     "output_type": "execute_result"
    }
   ],
   "source": [
    "person.columns"
   ]
  },
  {
   "cell_type": "code",
   "execution_count": 5,
   "metadata": {},
   "outputs": [
    {
     "data": {
      "text/plain": [
       "555765"
      ]
     },
     "execution_count": 5,
     "metadata": {},
     "output_type": "execute_result"
    }
   ],
   "source": [
    "entries['dedupe_id'].nunique()"
   ]
  },
  {
   "cell_type": "code",
   "execution_count": 6,
   "metadata": {},
   "outputs": [
    {
     "data": {
      "text/plain": [
       "21243"
      ]
     },
     "execution_count": 6,
     "metadata": {},
     "output_type": "execute_result"
    }
   ],
   "source": [
    "mentalhealth['dedupe_id'].nunique()"
   ]
  },
  {
   "cell_type": "code",
   "execution_count": 7,
   "metadata": {},
   "outputs": [],
   "source": [
    "mentalhealth = mentalhealth.dropna(subset=['dedupe_id'])\n",
    "entries = entries.dropna(subset=['dedupe_id'])\n",
    "person = person.dropna(subset=['mni_no'])"
   ]
  },
  {
   "cell_type": "code",
   "execution_count": 8,
   "metadata": {},
   "outputs": [],
   "source": [
    "entries.rename(columns={'foreign_id' : 'mni_no'}, inplace=True)\n",
    "entries = entries[[\"mni_no\", \"dedupe_id\", 'dob', 'race', 'sex']]"
   ]
  },
  {
   "cell_type": "code",
   "execution_count": 9,
   "metadata": {},
   "outputs": [
    {
     "data": {
      "text/plain": [
       "Index(['mni_no', 'dedupe_id', 'dob', 'race', 'sex'], dtype='object')"
      ]
     },
     "execution_count": 9,
     "metadata": {},
     "output_type": "execute_result"
    }
   ],
   "source": [
    "entries.columns"
   ]
  },
  {
   "cell_type": "code",
   "execution_count": 10,
   "metadata": {},
   "outputs": [
    {
     "data": {
      "text/plain": [
       "Index(['hash_ssn', 'hash_ssn4_dob', 'mni_no', 'dob', 'original_race', 'race',\n",
       "       'original_gender', 'sex', 'city', 'state', 'zip', 'country',\n",
       "       'us_zip_first_five', 'us_zip_last_four', 'tract2010id',\n",
       "       'blockgroup2010id', 'block2010id', 'joco_resident'],\n",
       "      dtype='object')"
      ]
     },
     "execution_count": 10,
     "metadata": {},
     "output_type": "execute_result"
    }
   ],
   "source": [
    "person.columns"
   ]
  },
  {
   "cell_type": "code",
   "execution_count": 11,
   "metadata": {},
   "outputs": [],
   "source": [
    "person = entries.merge(person[['city', 'state', 'zip', 'mni_no']], how=\"inner\", on='mni_no')"
   ]
  },
  {
   "cell_type": "code",
   "execution_count": 12,
   "metadata": {},
   "outputs": [
    {
     "data": {
      "text/plain": [
       "(27011, 8)"
      ]
     },
     "execution_count": 12,
     "metadata": {},
     "output_type": "execute_result"
    }
   ],
   "source": [
    "person.shape"
   ]
  },
  {
   "cell_type": "code",
   "execution_count": 16,
   "metadata": {},
   "outputs": [],
   "source": [
    "health = person.merge(mentalhealth[['admit_date', 'dschrg_date', 'program', 'refferal_source', 'case_id', 'dedupe_id']], how=\"left\", on='dedupe_id')"
   ]
  },
  {
   "cell_type": "code",
   "execution_count": 17,
   "metadata": {},
   "outputs": [
    {
     "data": {
      "text/plain": [
       "(28785, 13)"
      ]
     },
     "execution_count": 17,
     "metadata": {},
     "output_type": "execute_result"
    }
   ],
   "source": [
    "health.shape"
   ]
  },
  {
   "cell_type": "code",
   "execution_count": 18,
   "metadata": {},
   "outputs": [
    {
     "data": {
      "text/plain": [
       "Index(['mni_no', 'dedupe_id', 'dob', 'race', 'sex', 'city', 'state', 'zip',\n",
       "       'admit_date', 'dschrg_date', 'program', 'refferal_source', 'case_id'],\n",
       "      dtype='object')"
      ]
     },
     "execution_count": 18,
     "metadata": {},
     "output_type": "execute_result"
    }
   ],
   "source": [
    "health.columns"
   ]
  },
  {
   "cell_type": "code",
   "execution_count": 19,
   "metadata": {},
   "outputs": [
    {
     "data": {
      "text/plain": [
       "Index(['mni_no', 'case_no', 'case_type', 'booking_no', 'arresting_agency',\n",
       "       'arresting_agency_type', 'booking_date', 'release_date', 'bail_type',\n",
       "       'bail_amt', 'bailed_out'],\n",
       "      dtype='object')"
      ]
     },
     "execution_count": 19,
     "metadata": {},
     "output_type": "execute_result"
    }
   ],
   "source": [
    "jailbooking.columns"
   ]
  },
  {
   "cell_type": "code",
   "execution_count": 20,
   "metadata": {},
   "outputs": [
    {
     "data": {
      "text/plain": [
       "(28579, 11)"
      ]
     },
     "execution_count": 20,
     "metadata": {},
     "output_type": "execute_result"
    }
   ],
   "source": [
    "jailbooking.shape"
   ]
  },
  {
   "cell_type": "code",
   "execution_count": 21,
   "metadata": {},
   "outputs": [],
   "source": [
    "jailbooking = jailbooking.drop_duplicates(['mni_no'])"
   ]
  },
  {
   "cell_type": "code",
   "execution_count": 22,
   "metadata": {},
   "outputs": [],
   "source": [
    "jailbooking = jailbooking.dropna(subset =['mni_no'])"
   ]
  },
  {
   "cell_type": "code",
   "execution_count": 23,
   "metadata": {},
   "outputs": [],
   "source": [
    "jailbooking = jailbooking.drop_duplicates(['booking_no'])"
   ]
  },
  {
   "cell_type": "code",
   "execution_count": 24,
   "metadata": {},
   "outputs": [
    {
     "data": {
      "text/plain": [
       "(21782, 11)"
      ]
     },
     "execution_count": 24,
     "metadata": {},
     "output_type": "execute_result"
    }
   ],
   "source": [
    "jailbooking.shape"
   ]
  },
  {
   "cell_type": "code",
   "execution_count": 25,
   "metadata": {},
   "outputs": [],
   "source": [
    "df = pd.merge(health, jailbooking, on='mni_no', how='inner')"
   ]
  },
  {
   "cell_type": "code",
   "execution_count": 26,
   "metadata": {},
   "outputs": [
    {
     "data": {
      "text/plain": [
       "(28294, 23)"
      ]
     },
     "execution_count": 26,
     "metadata": {},
     "output_type": "execute_result"
    }
   ],
   "source": [
    "df.shape"
   ]
  },
  {
   "cell_type": "code",
   "execution_count": 27,
   "metadata": {},
   "outputs": [
    {
     "data": {
      "text/html": [
       "<div>\n",
       "<style scoped>\n",
       "    .dataframe tbody tr th:only-of-type {\n",
       "        vertical-align: middle;\n",
       "    }\n",
       "\n",
       "    .dataframe tbody tr th {\n",
       "        vertical-align: top;\n",
       "    }\n",
       "\n",
       "    .dataframe thead th {\n",
       "        text-align: right;\n",
       "    }\n",
       "</style>\n",
       "<table border=\"1\" class=\"dataframe\">\n",
       "  <thead>\n",
       "    <tr style=\"text-align: right;\">\n",
       "      <th></th>\n",
       "      <th>dedupe_id</th>\n",
       "      <th>mni_no</th>\n",
       "    </tr>\n",
       "  </thead>\n",
       "  <tbody>\n",
       "    <tr>\n",
       "      <th>0</th>\n",
       "      <td>296410.0</td>\n",
       "      <td>431835</td>\n",
       "    </tr>\n",
       "    <tr>\n",
       "      <th>1</th>\n",
       "      <td>350849.0</td>\n",
       "      <td>658145</td>\n",
       "    </tr>\n",
       "    <tr>\n",
       "      <th>2</th>\n",
       "      <td>350849.0</td>\n",
       "      <td>658145</td>\n",
       "    </tr>\n",
       "    <tr>\n",
       "      <th>3</th>\n",
       "      <td>370683.0</td>\n",
       "      <td>655865</td>\n",
       "    </tr>\n",
       "    <tr>\n",
       "      <th>4</th>\n",
       "      <td>467807.0</td>\n",
       "      <td>631990</td>\n",
       "    </tr>\n",
       "    <tr>\n",
       "      <th>5</th>\n",
       "      <td>603445.0</td>\n",
       "      <td>62537</td>\n",
       "    </tr>\n",
       "    <tr>\n",
       "      <th>6</th>\n",
       "      <td>136527.0</td>\n",
       "      <td>62537</td>\n",
       "    </tr>\n",
       "    <tr>\n",
       "      <th>7</th>\n",
       "      <td>103594.0</td>\n",
       "      <td>510773</td>\n",
       "    </tr>\n",
       "    <tr>\n",
       "      <th>8</th>\n",
       "      <td>221941.0</td>\n",
       "      <td>704863</td>\n",
       "    </tr>\n",
       "    <tr>\n",
       "      <th>9</th>\n",
       "      <td>230580.0</td>\n",
       "      <td>587326</td>\n",
       "    </tr>\n",
       "    <tr>\n",
       "      <th>10</th>\n",
       "      <td>257633.0</td>\n",
       "      <td>494538</td>\n",
       "    </tr>\n",
       "    <tr>\n",
       "      <th>11</th>\n",
       "      <td>625852.0</td>\n",
       "      <td>538055</td>\n",
       "    </tr>\n",
       "    <tr>\n",
       "      <th>12</th>\n",
       "      <td>677201.0</td>\n",
       "      <td>611871</td>\n",
       "    </tr>\n",
       "    <tr>\n",
       "      <th>13</th>\n",
       "      <td>407156.0</td>\n",
       "      <td>548064</td>\n",
       "    </tr>\n",
       "    <tr>\n",
       "      <th>14</th>\n",
       "      <td>407156.0</td>\n",
       "      <td>548064</td>\n",
       "    </tr>\n",
       "    <tr>\n",
       "      <th>15</th>\n",
       "      <td>719282.0</td>\n",
       "      <td>639327</td>\n",
       "    </tr>\n",
       "    <tr>\n",
       "      <th>16</th>\n",
       "      <td>507663.0</td>\n",
       "      <td>560448</td>\n",
       "    </tr>\n",
       "    <tr>\n",
       "      <th>17</th>\n",
       "      <td>507663.0</td>\n",
       "      <td>560448</td>\n",
       "    </tr>\n",
       "    <tr>\n",
       "      <th>18</th>\n",
       "      <td>434968.0</td>\n",
       "      <td>133202</td>\n",
       "    </tr>\n",
       "    <tr>\n",
       "      <th>19</th>\n",
       "      <td>187773.0</td>\n",
       "      <td>133202</td>\n",
       "    </tr>\n",
       "    <tr>\n",
       "      <th>20</th>\n",
       "      <td>485384.0</td>\n",
       "      <td>674854</td>\n",
       "    </tr>\n",
       "    <tr>\n",
       "      <th>21</th>\n",
       "      <td>493874.0</td>\n",
       "      <td>645970</td>\n",
       "    </tr>\n",
       "    <tr>\n",
       "      <th>22</th>\n",
       "      <td>493874.0</td>\n",
       "      <td>645970</td>\n",
       "    </tr>\n",
       "    <tr>\n",
       "      <th>23</th>\n",
       "      <td>52283.0</td>\n",
       "      <td>432839</td>\n",
       "    </tr>\n",
       "    <tr>\n",
       "      <th>24</th>\n",
       "      <td>180569.0</td>\n",
       "      <td>602267</td>\n",
       "    </tr>\n",
       "    <tr>\n",
       "      <th>25</th>\n",
       "      <td>558373.0</td>\n",
       "      <td>617016</td>\n",
       "    </tr>\n",
       "    <tr>\n",
       "      <th>26</th>\n",
       "      <td>566543.0</td>\n",
       "      <td>176049</td>\n",
       "    </tr>\n",
       "    <tr>\n",
       "      <th>27</th>\n",
       "      <td>346598.0</td>\n",
       "      <td>176049</td>\n",
       "    </tr>\n",
       "    <tr>\n",
       "      <th>28</th>\n",
       "      <td>308180.0</td>\n",
       "      <td>671058</td>\n",
       "    </tr>\n",
       "    <tr>\n",
       "      <th>29</th>\n",
       "      <td>394315.0</td>\n",
       "      <td>640603</td>\n",
       "    </tr>\n",
       "    <tr>\n",
       "      <th>...</th>\n",
       "      <td>...</td>\n",
       "      <td>...</td>\n",
       "    </tr>\n",
       "    <tr>\n",
       "      <th>28264</th>\n",
       "      <td>678984.0</td>\n",
       "      <td>492430</td>\n",
       "    </tr>\n",
       "    <tr>\n",
       "      <th>28265</th>\n",
       "      <td>545694.0</td>\n",
       "      <td>677360</td>\n",
       "    </tr>\n",
       "    <tr>\n",
       "      <th>28266</th>\n",
       "      <td>104118.0</td>\n",
       "      <td>379240</td>\n",
       "    </tr>\n",
       "    <tr>\n",
       "      <th>28267</th>\n",
       "      <td>311605.0</td>\n",
       "      <td>633964</td>\n",
       "    </tr>\n",
       "    <tr>\n",
       "      <th>28268</th>\n",
       "      <td>202474.0</td>\n",
       "      <td>541430</td>\n",
       "    </tr>\n",
       "    <tr>\n",
       "      <th>28269</th>\n",
       "      <td>245151.0</td>\n",
       "      <td>655398</td>\n",
       "    </tr>\n",
       "    <tr>\n",
       "      <th>28270</th>\n",
       "      <td>249832.0</td>\n",
       "      <td>624272</td>\n",
       "    </tr>\n",
       "    <tr>\n",
       "      <th>28271</th>\n",
       "      <td>285052.0</td>\n",
       "      <td>462094</td>\n",
       "    </tr>\n",
       "    <tr>\n",
       "      <th>28272</th>\n",
       "      <td>690936.0</td>\n",
       "      <td>626473</td>\n",
       "    </tr>\n",
       "    <tr>\n",
       "      <th>28273</th>\n",
       "      <td>690936.0</td>\n",
       "      <td>626473</td>\n",
       "    </tr>\n",
       "    <tr>\n",
       "      <th>28274</th>\n",
       "      <td>690936.0</td>\n",
       "      <td>626473</td>\n",
       "    </tr>\n",
       "    <tr>\n",
       "      <th>28275</th>\n",
       "      <td>690936.0</td>\n",
       "      <td>626473</td>\n",
       "    </tr>\n",
       "    <tr>\n",
       "      <th>28276</th>\n",
       "      <td>690936.0</td>\n",
       "      <td>626473</td>\n",
       "    </tr>\n",
       "    <tr>\n",
       "      <th>28277</th>\n",
       "      <td>690936.0</td>\n",
       "      <td>626473</td>\n",
       "    </tr>\n",
       "    <tr>\n",
       "      <th>28278</th>\n",
       "      <td>520357.0</td>\n",
       "      <td>690425</td>\n",
       "    </tr>\n",
       "    <tr>\n",
       "      <th>28279</th>\n",
       "      <td>336053.0</td>\n",
       "      <td>605025</td>\n",
       "    </tr>\n",
       "    <tr>\n",
       "      <th>28280</th>\n",
       "      <td>666277.0</td>\n",
       "      <td>391679</td>\n",
       "    </tr>\n",
       "    <tr>\n",
       "      <th>28281</th>\n",
       "      <td>406007.0</td>\n",
       "      <td>488996</td>\n",
       "    </tr>\n",
       "    <tr>\n",
       "      <th>28282</th>\n",
       "      <td>415976.0</td>\n",
       "      <td>200879</td>\n",
       "    </tr>\n",
       "    <tr>\n",
       "      <th>28283</th>\n",
       "      <td>426246.0</td>\n",
       "      <td>454140</td>\n",
       "    </tr>\n",
       "    <tr>\n",
       "      <th>28284</th>\n",
       "      <td>584985.0</td>\n",
       "      <td>636784</td>\n",
       "    </tr>\n",
       "    <tr>\n",
       "      <th>28285</th>\n",
       "      <td>511213.0</td>\n",
       "      <td>588004</td>\n",
       "    </tr>\n",
       "    <tr>\n",
       "      <th>28286</th>\n",
       "      <td>547198.0</td>\n",
       "      <td>535129</td>\n",
       "    </tr>\n",
       "    <tr>\n",
       "      <th>28287</th>\n",
       "      <td>553570.0</td>\n",
       "      <td>660353</td>\n",
       "    </tr>\n",
       "    <tr>\n",
       "      <th>28288</th>\n",
       "      <td>621293.0</td>\n",
       "      <td>371848</td>\n",
       "    </tr>\n",
       "    <tr>\n",
       "      <th>28289</th>\n",
       "      <td>666131.0</td>\n",
       "      <td>664658</td>\n",
       "    </tr>\n",
       "    <tr>\n",
       "      <th>28290</th>\n",
       "      <td>681518.0</td>\n",
       "      <td>629181</td>\n",
       "    </tr>\n",
       "    <tr>\n",
       "      <th>28291</th>\n",
       "      <td>697574.0</td>\n",
       "      <td>627435</td>\n",
       "    </tr>\n",
       "    <tr>\n",
       "      <th>28292</th>\n",
       "      <td>745135.0</td>\n",
       "      <td>494689</td>\n",
       "    </tr>\n",
       "    <tr>\n",
       "      <th>28293</th>\n",
       "      <td>745135.0</td>\n",
       "      <td>494689</td>\n",
       "    </tr>\n",
       "  </tbody>\n",
       "</table>\n",
       "<p>28294 rows × 2 columns</p>\n",
       "</div>"
      ],
      "text/plain": [
       "       dedupe_id  mni_no\n",
       "0       296410.0  431835\n",
       "1       350849.0  658145\n",
       "2       350849.0  658145\n",
       "3       370683.0  655865\n",
       "4       467807.0  631990\n",
       "5       603445.0   62537\n",
       "6       136527.0   62537\n",
       "7       103594.0  510773\n",
       "8       221941.0  704863\n",
       "9       230580.0  587326\n",
       "10      257633.0  494538\n",
       "11      625852.0  538055\n",
       "12      677201.0  611871\n",
       "13      407156.0  548064\n",
       "14      407156.0  548064\n",
       "15      719282.0  639327\n",
       "16      507663.0  560448\n",
       "17      507663.0  560448\n",
       "18      434968.0  133202\n",
       "19      187773.0  133202\n",
       "20      485384.0  674854\n",
       "21      493874.0  645970\n",
       "22      493874.0  645970\n",
       "23       52283.0  432839\n",
       "24      180569.0  602267\n",
       "25      558373.0  617016\n",
       "26      566543.0  176049\n",
       "27      346598.0  176049\n",
       "28      308180.0  671058\n",
       "29      394315.0  640603\n",
       "...          ...     ...\n",
       "28264   678984.0  492430\n",
       "28265   545694.0  677360\n",
       "28266   104118.0  379240\n",
       "28267   311605.0  633964\n",
       "28268   202474.0  541430\n",
       "28269   245151.0  655398\n",
       "28270   249832.0  624272\n",
       "28271   285052.0  462094\n",
       "28272   690936.0  626473\n",
       "28273   690936.0  626473\n",
       "28274   690936.0  626473\n",
       "28275   690936.0  626473\n",
       "28276   690936.0  626473\n",
       "28277   690936.0  626473\n",
       "28278   520357.0  690425\n",
       "28279   336053.0  605025\n",
       "28280   666277.0  391679\n",
       "28281   406007.0  488996\n",
       "28282   415976.0  200879\n",
       "28283   426246.0  454140\n",
       "28284   584985.0  636784\n",
       "28285   511213.0  588004\n",
       "28286   547198.0  535129\n",
       "28287   553570.0  660353\n",
       "28288   621293.0  371848\n",
       "28289   666131.0  664658\n",
       "28290   681518.0  629181\n",
       "28291   697574.0  627435\n",
       "28292   745135.0  494689\n",
       "28293   745135.0  494689\n",
       "\n",
       "[28294 rows x 2 columns]"
      ]
     },
     "execution_count": 27,
     "metadata": {},
     "output_type": "execute_result"
    }
   ],
   "source": [
    "df[['dedupe_id','mni_no']]"
   ]
  },
  {
   "cell_type": "code",
   "execution_count": 28,
   "metadata": {},
   "outputs": [
    {
     "data": {
      "text/plain": [
       "Index(['mni_no', 'dedupe_id', 'dob', 'race', 'sex', 'city', 'state', 'zip',\n",
       "       'admit_date', 'dschrg_date', 'program', 'refferal_source', 'case_id',\n",
       "       'case_no', 'case_type', 'booking_no', 'arresting_agency',\n",
       "       'arresting_agency_type', 'booking_date', 'release_date', 'bail_type',\n",
       "       'bail_amt', 'bailed_out'],\n",
       "      dtype='object')"
      ]
     },
     "execution_count": 28,
     "metadata": {},
     "output_type": "execute_result"
    }
   ],
   "source": [
    "df.columns"
   ]
  },
  {
   "cell_type": "code",
   "execution_count": 29,
   "metadata": {},
   "outputs": [],
   "source": [
    "def convert_datetime(df, cols):\n",
    "    for col in cols:\n",
    "        df[col] = pd.to_datetime(df[col])"
   ]
  },
  {
   "cell_type": "code",
   "execution_count": 30,
   "metadata": {},
   "outputs": [],
   "source": [
    "convert_datetime(df, ['admit_date', 'dschrg_date', 'booking_date', 'release_date', 'dob'])"
   ]
  },
  {
   "cell_type": "code",
   "execution_count": 31,
   "metadata": {},
   "outputs": [],
   "source": [
    "#3 Pre-Process & Filling Missing Data#3 Pre-P \n",
    "def Detect_missing_value(df):\n",
    "    '''\n",
    "    Find out the columns have missing values\n",
    "\n",
    "    Input:\n",
    "        df: (pandas dataframe)\n",
    " \n",
    "    Returns:\n",
    "        a list of those column names\n",
    "    '''\n",
    "    rv = []\n",
    "    for col in df.columns:\n",
    "        if df[col].count() < df.shape[0]:\n",
    "            rv.append(col)\n",
    "            print(col, \"has missing values.\")\n",
    "    return rv"
   ]
  },
  {
   "cell_type": "code",
   "execution_count": 32,
   "metadata": {},
   "outputs": [
    {
     "name": "stdout",
     "output_type": "stream",
     "text": [
      "dob has missing values.\n",
      "race has missing values.\n",
      "sex has missing values.\n",
      "city has missing values.\n",
      "state has missing values.\n",
      "zip has missing values.\n",
      "admit_date has missing values.\n",
      "dschrg_date has missing values.\n",
      "program has missing values.\n",
      "refferal_source has missing values.\n",
      "case_id has missing values.\n",
      "release_date has missing values.\n",
      "bail_type has missing values.\n",
      "bail_amt has missing values.\n"
     ]
    },
    {
     "data": {
      "text/plain": [
       "['dob',\n",
       " 'race',\n",
       " 'sex',\n",
       " 'city',\n",
       " 'state',\n",
       " 'zip',\n",
       " 'admit_date',\n",
       " 'dschrg_date',\n",
       " 'program',\n",
       " 'refferal_source',\n",
       " 'case_id',\n",
       " 'release_date',\n",
       " 'bail_type',\n",
       " 'bail_amt']"
      ]
     },
     "execution_count": 32,
     "metadata": {},
     "output_type": "execute_result"
    }
   ],
   "source": [
    "Detect_missing_value(df)"
   ]
  },
  {
   "cell_type": "code",
   "execution_count": 33,
   "metadata": {},
   "outputs": [
    {
     "data": {
      "text/plain": [
       "Index(['mni_no', 'dedupe_id', 'case_id', 'booking_no', 'bail_amt',\n",
       "       'bailed_out'],\n",
       "      dtype='object')"
      ]
     },
     "execution_count": 33,
     "metadata": {},
     "output_type": "execute_result"
    }
   ],
   "source": [
    "# get numeric columns \n",
    "num_cols = df._get_numeric_data().columns\n",
    "num_cols"
   ]
  },
  {
   "cell_type": "code",
   "execution_count": 34,
   "metadata": {},
   "outputs": [
    {
     "data": {
      "text/plain": [
       "557      SUR\n",
       "558      SUR\n",
       "712       PR\n",
       "713       PR\n",
       "864       PR\n",
       "865       PR\n",
       "1184      PR\n",
       "1202     GPS\n",
       "1321      PR\n",
       "1452      PR\n",
       "1453      PR\n",
       "1612      PR\n",
       "2703     SUR\n",
       "2704     SUR\n",
       "2705     SUR\n",
       "3360     SUR\n",
       "3383     SUR\n",
       "3514      PR\n",
       "3515      PR\n",
       "4046     SUR\n",
       "4320      PR\n",
       "4441     SUR\n",
       "4486     SUR\n",
       "4507      PR\n",
       "4867      PR\n",
       "4868      PR\n",
       "5276     SUR\n",
       "5277     SUR\n",
       "5323     SUR\n",
       "5981     SUR\n",
       "        ... \n",
       "21075    SUR\n",
       "22224    SUR\n",
       "22421    SUR\n",
       "22621     CA\n",
       "22641    SUR\n",
       "22642    SUR\n",
       "23111    SUR\n",
       "23596     PR\n",
       "23865    SUR\n",
       "23873    SUR\n",
       "23972    SUR\n",
       "23973    SUR\n",
       "24030    SUR\n",
       "24130    SUR\n",
       "25094    SUR\n",
       "25117     PR\n",
       "25156    SUR\n",
       "25165     PR\n",
       "25212    SUR\n",
       "25213     CA\n",
       "25483     PR\n",
       "25581    SUR\n",
       "25705    SUR\n",
       "26358    SUR\n",
       "26575    SUR\n",
       "26854     PR\n",
       "27312    SUR\n",
       "27799     PR\n",
       "28257    SUR\n",
       "28258    SUR\n",
       "Name: bail_type, Length: 130, dtype: object"
      ]
     },
     "execution_count": 34,
     "metadata": {},
     "output_type": "execute_result"
    }
   ],
   "source": [
    "df[df['bail_amt']==0].bail_type"
   ]
  },
  {
   "cell_type": "code",
   "execution_count": 35,
   "metadata": {},
   "outputs": [
    {
     "data": {
      "text/plain": [
       "['race',\n",
       " 'case_no',\n",
       " 'admit_date',\n",
       " 'dschrg_date',\n",
       " 'dob',\n",
       " 'arresting_agency_type',\n",
       " 'booking_date',\n",
       " 'sex',\n",
       " 'program',\n",
       " 'arresting_agency',\n",
       " 'refferal_source',\n",
       " 'release_date',\n",
       " 'city',\n",
       " 'case_type',\n",
       " 'state',\n",
       " 'zip',\n",
       " 'bail_type']"
      ]
     },
     "execution_count": 35,
     "metadata": {},
     "output_type": "execute_result"
    }
   ],
   "source": [
    "#and then find out categorical columns\n",
    "cate_cols = list(set(df.columns) - set(num_cols))\n",
    "cate_cols"
   ]
  },
  {
   "cell_type": "code",
   "execution_count": 36,
   "metadata": {},
   "outputs": [],
   "source": [
    "def Fill_in(df, cols, method=\"mean\"):\n",
    "    '''\n",
    "    Filling in missing values with \"mean\" or \"median\"\n",
    "    \n",
    "    Inputs:\n",
    "        df: (pandas dataframe)\n",
    "        a list of those column names\n",
    "        method (string): mean or median\n",
    " \n",
    "    Returns:\n",
    "        pandas dataframe\n",
    "    '''\n",
    "    for col in cols:\n",
    "        if method =='mean':\n",
    "            val = df[col].mean()\n",
    "        elif method =='median':\n",
    "            val = df[col].median()\n",
    "        elif method =='mode':\n",
    "            val = df[col].mode()\n",
    "            val = str(val)\n",
    "        elif method == 'missing':\n",
    "            val = \"missing\"\n",
    "        df[col] = df[col].fillna(val)\n",
    "        print ('Filling missing value for {} using {}'.format(col, method))\n",
    "    return df"
   ]
  },
  {
   "cell_type": "code",
   "execution_count": 37,
   "metadata": {},
   "outputs": [
    {
     "name": "stdout",
     "output_type": "stream",
     "text": [
      "Filling missing value for city using missing\n",
      "Filling missing value for state using missing\n",
      "Filling missing value for sex using missing\n",
      "Filling missing value for race using missing\n"
     ]
    }
   ],
   "source": [
    "df = Fill_in(df, ['city', 'state', 'sex', 'race'], \"missing\")"
   ]
  },
  {
   "cell_type": "code",
   "execution_count": 38,
   "metadata": {},
   "outputs": [],
   "source": [
    "fill_with_mode = ['arresting_agency_type', 'arresting_agency', 'bail_type', 'case_type']"
   ]
  },
  {
   "cell_type": "code",
   "execution_count": 39,
   "metadata": {},
   "outputs": [
    {
     "name": "stdout",
     "output_type": "stream",
     "text": [
      "Filling missing value for arresting_agency_type using mode\n",
      "Filling missing value for arresting_agency using mode\n",
      "Filling missing value for bail_type using mode\n",
      "Filling missing value for case_type using mode\n",
      "Filling missing value for bail_amt using median\n"
     ]
    }
   ],
   "source": [
    "df = Fill_in(df, fill_with_mode, \"mode\")\n",
    "df = Fill_in(df, ['bail_amt'], \"median\")"
   ]
  },
  {
   "cell_type": "code",
   "execution_count": 40,
   "metadata": {},
   "outputs": [
    {
     "name": "stdout",
     "output_type": "stream",
     "text": [
      "dob has missing values.\n",
      "zip has missing values.\n",
      "admit_date has missing values.\n",
      "dschrg_date has missing values.\n",
      "program has missing values.\n",
      "refferal_source has missing values.\n",
      "case_id has missing values.\n",
      "release_date has missing values.\n"
     ]
    },
    {
     "data": {
      "text/plain": [
       "['dob',\n",
       " 'zip',\n",
       " 'admit_date',\n",
       " 'dschrg_date',\n",
       " 'program',\n",
       " 'refferal_source',\n",
       " 'case_id',\n",
       " 'release_date']"
      ]
     },
     "execution_count": 40,
     "metadata": {},
     "output_type": "execute_result"
    }
   ],
   "source": [
    "Detect_missing_value(df)"
   ]
  },
  {
   "cell_type": "code",
   "execution_count": 41,
   "metadata": {},
   "outputs": [
    {
     "data": {
      "text/plain": [
       "0    True\n",
       "1    True\n",
       "2    True\n",
       "3    True\n",
       "4    True\n",
       "Name: bailed_out, dtype: bool"
      ]
     },
     "execution_count": 41,
     "metadata": {},
     "output_type": "execute_result"
    }
   ],
   "source": [
    "df['bailed_out'].head()"
   ]
  },
  {
   "cell_type": "code",
   "execution_count": 42,
   "metadata": {},
   "outputs": [],
   "source": [
    "#convert dummy var\n",
    "df['bailed_out'] = df['bailed_out']*1"
   ]
  },
  {
   "cell_type": "code",
   "execution_count": 43,
   "metadata": {},
   "outputs": [],
   "source": [
    "df.to_csv('df.csv', index=False)"
   ]
  },
  {
   "cell_type": "code",
   "execution_count": null,
   "metadata": {},
   "outputs": [],
   "source": [
    "##################up to now"
   ]
  },
  {
   "cell_type": "code",
   "execution_count": null,
   "metadata": {},
   "outputs": [],
   "source": [
    "#2 explore\n",
    "def create_graph(df, x, y, method='mean', graph_type='line'):\n",
    "    '''\n",
    "    Generate distribution graph for specific variable\n",
    "    \n",
    "    Input:\n",
    "        df: (pandas dataframe)\n",
    "        x(string): the variable/attribute you want to explore\n",
    "        graph_typee(string): the type of graph you want to draw: line, bar, scatter\n",
    "        method (string): mean, median or sum\n",
    "        \n",
    "    Return:\n",
    "        a graph for a selected attribute. \n",
    "    '''\n",
    "    cols = [x, y]\n",
    "    if method == 'mean':\n",
    "        var = df[cols].groupby(x).mean()\n",
    "    elif method == 'median':\n",
    "        var = df[cols].groupby(x).median()\n",
    "    elif method == 'sum':\n",
    "        var = df[cols].goupby(x).sum()\n",
    "    graph = var.plot(kind=graph_type, use_index=False, figsize=(8,4))\n"
   ]
  },
  {
   "cell_type": "code",
   "execution_count": null,
   "metadata": {},
   "outputs": [],
   "source": []
  },
  {
   "cell_type": "code",
   "execution_count": null,
   "metadata": {},
   "outputs": [],
   "source": []
  },
  {
   "cell_type": "code",
   "execution_count": null,
   "metadata": {},
   "outputs": [],
   "source": [
    "mni_df = df.groupby(['dedupe_id']).size().reset_index(name='re-entry')"
   ]
  },
  {
   "cell_type": "code",
   "execution_count": null,
   "metadata": {},
   "outputs": [],
   "source": [
    "mni_df.tail()"
   ]
  },
  {
   "cell_type": "code",
   "execution_count": null,
   "metadata": {},
   "outputs": [],
   "source": [
    "mni_df.head()"
   ]
  },
  {
   "cell_type": "code",
   "execution_count": null,
   "metadata": {},
   "outputs": [],
   "source": [
    "df['re-entry'] = np.where(mni_df['re-entry']>1, 1, 0)"
   ]
  },
  {
   "cell_type": "code",
   "execution_count": null,
   "metadata": {},
   "outputs": [],
   "source": [
    "mni_df.head()"
   ]
  },
  {
   "cell_type": "code",
   "execution_count": null,
   "metadata": {},
   "outputs": [],
   "source": [
    "jail = jailbooking.merge(mni_df, how=\"left\")"
   ]
  },
  {
   "cell_type": "code",
   "execution_count": null,
   "metadata": {},
   "outputs": [],
   "source": [
    "jail.tail()"
   ]
  },
  {
   "cell_type": "code",
   "execution_count": null,
   "metadata": {},
   "outputs": [],
   "source": [
    "person.drop(['tract2010id', 'blockgroup2010id', 'block2010id'], inplace=True, axis=1)"
   ]
  },
  {
   "cell_type": "code",
   "execution_count": null,
   "metadata": {},
   "outputs": [],
   "source": [
    "person.columns"
   ]
  },
  {
   "cell_type": "code",
   "execution_count": null,
   "metadata": {},
   "outputs": [],
   "source": [
    "jail_ppl = jail.merge(person, how=\"left\", on=\"mni_no\")"
   ]
  },
  {
   "cell_type": "code",
   "execution_count": null,
   "metadata": {},
   "outputs": [],
   "source": [
    "jail_ppl.shape"
   ]
  },
  {
   "cell_type": "code",
   "execution_count": null,
   "metadata": {},
   "outputs": [],
   "source": [
    "mentalhealth = pd.read_csv(\"mentalhealth.csv\")"
   ]
  },
  {
   "cell_type": "code",
   "execution_count": null,
   "metadata": {},
   "outputs": [],
   "source": [
    "mentalhealth.columns"
   ]
  },
  {
   "cell_type": "code",
   "execution_count": null,
   "metadata": {},
   "outputs": [],
   "source": [
    "mentalhealth.shape"
   ]
  },
  {
   "cell_type": "code",
   "execution_count": null,
   "metadata": {},
   "outputs": [],
   "source": [
    "mentalhealth.drop(['dob','city', 'race', 'sex', 'state', 'zip', 'tract2010id',\n",
    "       'blockgroup2010id', 'block2010id'], inplace=True, axis=1)"
   ]
  },
  {
   "cell_type": "code",
   "execution_count": null,
   "metadata": {},
   "outputs": [],
   "source": [
    "jail_ppl.head()"
   ]
  },
  {
   "cell_type": "code",
   "execution_count": null,
   "metadata": {},
   "outputs": [],
   "source": [
    "jail_ppl['dob'] = pd.to_datetime(jail_ppl['dob'])\n",
    "for i, row in jail_ppl.iterrows():\n",
    "    jail_ppl['age']= pd.to_datetime('2018-06-01').year - jail_ppl['dob'].dt.year"
   ]
  },
  {
   "cell_type": "code",
   "execution_count": null,
   "metadata": {},
   "outputs": [],
   "source": [
    "df.to_csv('df.csv', index=False)\n",
    "jail_ppl['booking_days'] = jail_ppl['release_date'] - jail_ppl['booking_date']"
   ]
  },
  {
   "cell_type": "code",
   "execution_count": null,
   "metadata": {},
   "outputs": [],
   "source": [
    "#Convert the days type to integer \n",
    "jail_ppl['booking_days'] = jail_ppl['booking_days'].astype('timedelta64[D]')"
   ]
  },
  {
   "cell_type": "code",
   "execution_count": null,
   "metadata": {},
   "outputs": [],
   "source": [
    "jail_ppl.drop(['booking_date','release_date'], inplace=True, axis=1)"
   ]
  },
  {
   "cell_type": "code",
   "execution_count": null,
   "metadata": {},
   "outputs": [],
   "source": [
    "jail_ppl.head()"
   ]
  },
  {
   "cell_type": "code",
   "execution_count": null,
   "metadata": {},
   "outputs": [],
   "source": [
    "mentalhealth = mentalhealth.dropna(subset = ['personid'])"
   ]
  },
  {
   "cell_type": "code",
   "execution_count": null,
   "metadata": {},
   "outputs": [],
   "source": [
    "mentalhealth.head()"
   ]
  },
  {
   "cell_type": "code",
   "execution_count": null,
   "metadata": {},
   "outputs": [],
   "source": [
    "mentalhealth['dschrg_date'].fillna('2018-01-01 00:00:00', inplace = True)"
   ]
  },
  {
   "cell_type": "code",
   "execution_count": null,
   "metadata": {},
   "outputs": [],
   "source": [
    "#Convert column type from string to datetime\n",
    "mentalhealth['admit_date'] = pd.to_datetime(mentalhealth['admit_date'])\n",
    "mentalhealth['dschrg_date'] = pd.to_datetime(mentalhealth['dschrg_date'], errors='ignore')\n",
    "mentalhealth['treatment_days'] = mentalhealth['dschrg_date'] - mentalhealth['admit_date']"
   ]
  },
  {
   "cell_type": "code",
   "execution_count": null,
   "metadata": {},
   "outputs": [],
   "source": [
    "#Convert the days type to integer \n",
    "mentalhealth['treatment_days'] = mentalhealth['treatment_days'].astype('timedelta64[D]')"
   ]
  },
  {
   "cell_type": "code",
   "execution_count": null,
   "metadata": {},
   "outputs": [],
   "source": [
    "mentalhealth.treatment_days.head()"
   ]
  },
  {
   "cell_type": "code",
   "execution_count": null,
   "metadata": {},
   "outputs": [],
   "source": [
    "def  checking_for_nulls(dataframe):\n",
    "    '''\n",
    "    Given a dataframe, checks for columns which have NaN or Nulls,\n",
    "        and returns a list with the name of those features which have NaN or Nulls.\n",
    "        \n",
    "    Input:\n",
    "        dataframe\n",
    "        \n",
    "    Output:\n",
    "        features_with_nulls: list of strings\n",
    "    '''\n",
    "    features = dataframe.columns\n",
    "    features_with_nulls = []\n",
    "\n",
    "    for column in df.columns:    \n",
    "        if df[column].isnull().sum() > 0:\n",
    "            features_with_nulls.append(column)\n",
    "    \n",
    "    return features_with_nulls"
   ]
  },
  {
   "cell_type": "code",
   "execution_count": null,
   "metadata": {},
   "outputs": [],
   "source": [
    "def fill_in_missing_data (dataframe, features, criteria):\n",
    "    '''\n",
    "    Given a dataframe and a criteria (options: mean, median or mode),\n",
    "        fills in the NaN or Null values in that column for the dataframe\n",
    "        based on the given criteria\n",
    "        \n",
    "    Input:\n",
    "        dataframe\n",
    "        criteria: string\n",
    "    '''\n",
    "    \n",
    "    for feature in features:\n",
    "        if criteria == 'mean': input_value = df[feature].mean() \n",
    "        if criteria == 'median': input_value = df[feature].median() \n",
    "        if criteria == 'mode': input_value = df[feature].mode()\n",
    "        \n",
    "        dataframe[feature] = dataframe[feature].fillna(input_value)"
   ]
  },
  {
   "cell_type": "code",
   "execution_count": null,
   "metadata": {},
   "outputs": [],
   "source": [
    "jail_ppl = jail_ppl.dropna(subset = ['personid'])"
   ]
  },
  {
   "cell_type": "code",
   "execution_count": null,
   "metadata": {},
   "outputs": [],
   "source": [
    "jail_ppl.shape"
   ]
  },
  {
   "cell_type": "code",
   "execution_count": null,
   "metadata": {},
   "outputs": [],
   "source": [
    "health = mentalhealth[[\"personid\", \"treatment_days\"]]"
   ]
  },
  {
   "cell_type": "code",
   "execution_count": null,
   "metadata": {},
   "outputs": [],
   "source": [
    "health.head()"
   ]
  },
  {
   "cell_type": "code",
   "execution_count": null,
   "metadata": {},
   "outputs": [],
   "source": [
    "df = pd.merge(jail_ppl, health, on=\"personid\", how='left')"
   ]
  },
  {
   "cell_type": "code",
   "execution_count": null,
   "metadata": {},
   "outputs": [],
   "source": [
    "df.shape"
   ]
  },
  {
   "cell_type": "code",
   "execution_count": null,
   "metadata": {},
   "outputs": [],
   "source": [
    "df.personid.nunique()"
   ]
  },
  {
   "cell_type": "code",
   "execution_count": null,
   "metadata": {},
   "outputs": [],
   "source": [
    "df.tail()"
   ]
  },
  {
   "cell_type": "code",
   "execution_count": null,
   "metadata": {},
   "outputs": [],
   "source": [
    "df['treatment_days'].fillna(-1, inplace = True)"
   ]
  },
  {
   "cell_type": "code",
   "execution_count": null,
   "metadata": {},
   "outputs": [],
   "source": [
    "df['mental_health'] = np.where(df['treatment_days']>=0.0, 1, 0)"
   ]
  },
  {
   "cell_type": "code",
   "execution_count": null,
   "metadata": {},
   "outputs": [],
   "source": [
    "df.tail()"
   ]
  },
  {
   "cell_type": "code",
   "execution_count": null,
   "metadata": {},
   "outputs": [],
   "source": [
    "cols_to_fill = checking_for_nulls(df)"
   ]
  },
  {
   "cell_type": "code",
   "execution_count": null,
   "metadata": {},
   "outputs": [],
   "source": [
    "cols_to_fill"
   ]
  },
  {
   "cell_type": "code",
   "execution_count": null,
   "metadata": {},
   "outputs": [],
   "source": [
    "fill_in_missing_data(df, ['bail_amt', 'booking_days'], 'median')"
   ]
  },
  {
   "cell_type": "code",
   "execution_count": null,
   "metadata": {},
   "outputs": [],
   "source": [
    "df['bail_type'].mode()"
   ]
  },
  {
   "cell_type": "code",
   "execution_count": null,
   "metadata": {},
   "outputs": [],
   "source": [
    "df['bail_type'] = df['bail_type'].fillna('SUR')"
   ]
  },
  {
   "cell_type": "code",
   "execution_count": null,
   "metadata": {},
   "outputs": [],
   "source": [
    "checking_for_nulls(df)"
   ]
  },
  {
   "cell_type": "code",
   "execution_count": null,
   "metadata": {},
   "outputs": [],
   "source": [
    "df.head()"
   ]
  },
  {
   "cell_type": "code",
   "execution_count": null,
   "metadata": {},
   "outputs": [],
   "source": [
    "create_graph(df, 'bail_amt', 'sum')"
   ]
  },
  {
   "cell_type": "code",
   "execution_count": null,
   "metadata": {},
   "outputs": [],
   "source": [
    "create_graph(df, 'booking_days', 'sum')"
   ]
  },
  {
   "cell_type": "code",
   "execution_count": null,
   "metadata": {},
   "outputs": [],
   "source": [
    "import matplotlib.pyplot as plt\n",
    "import seaborn as sns; sns.set()\n",
    "%matplotlib inline"
   ]
  },
  {
   "cell_type": "code",
   "execution_count": null,
   "metadata": {},
   "outputs": [],
   "source": [
    "def corr_matrix(df):\n",
    "    '''\n",
    "    Creates a heatmap that shows the correlations between the different variables in a dataframe.\n",
    "    \n",
    "    Input:\n",
    "        df: a dataframe\n",
    "        title: name of the correlation_matrix\n",
    "        \n",
    "    Return:\n",
    "        Outputs a heatmatrix showing correlations\n",
    "    \n",
    "    \n",
    "    '''\n",
    "    f, ax = plt.subplots(figsize=(10, 8))\n",
    "    corr = df.corr()\n",
    "    sns.heatmap(corr, \n",
    "                xticklabels=corr.columns.values,\n",
    "                yticklabels=corr.columns.values, \n",
    "                mask=np.zeros_like(corr, dtype=np.bool), \n",
    "                cmap=sns.diverging_palette(220, 10, as_cmap=True),\n",
    "            square=True, ax=ax)"
   ]
  },
  {
   "cell_type": "code",
   "execution_count": null,
   "metadata": {},
   "outputs": [],
   "source": [
    "corr_matrix(df)"
   ]
  },
  {
   "cell_type": "code",
   "execution_count": null,
   "metadata": {},
   "outputs": [],
   "source": [
    "df.columns"
   ]
  },
  {
   "cell_type": "code",
   "execution_count": null,
   "metadata": {},
   "outputs": [],
   "source": [
    "df = df.drop(['mni_no', 'case_no', 'booking_no', 'dob', 'personid'], axis=1)"
   ]
  },
  {
   "cell_type": "code",
   "execution_count": null,
   "metadata": {},
   "outputs": [],
   "source": [
    "df.to_csv('df.csv', index=False)"
   ]
  }
 ],
 "metadata": {
  "kernelspec": {
   "display_name": "Python 3",
   "language": "python",
   "name": "python3"
  },
  "language_info": {
   "codemirror_mode": {
    "name": "ipython",
    "version": 3
   },
   "file_extension": ".py",
   "mimetype": "text/x-python",
   "name": "python",
   "nbconvert_exporter": "python",
   "pygments_lexer": "ipython3",
   "version": "3.6.4"
  }
 },
 "nbformat": 4,
 "nbformat_minor": 2
}
