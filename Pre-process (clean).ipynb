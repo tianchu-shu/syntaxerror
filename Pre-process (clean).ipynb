{
 "cells": [
  {
   "cell_type": "code",
   "execution_count": 41,
   "metadata": {},
   "outputs": [],
   "source": [
    "import numpy as np\n",
    "import pandas as pd\n",
    "import matplotlib.pyplot as plt\n",
    "import seaborn as sns; sns.set()\n",
    "from sklearn.ensemble import RandomForestClassifier, BaggingClassifier, AdaBoostClassifier\n",
    "from sklearn.linear_model import LogisticRegression\n",
    "from sklearn.tree import DecisionTreeClassifier\n",
    "from sklearn.neighbors import KNeighborsClassifier\n",
    "from sklearn.svm import SVC\n",
    "from sklearn.model_selection import train_test_split, ParameterGrid\n",
    "from sklearn.metrics import *\n",
    "import time\n",
    "\n",
    "%matplotlib inline"
   ]
  },
  {
   "cell_type": "code",
   "execution_count": 2,
   "metadata": {},
   "outputs": [],
   "source": [
    "jailbooking = pd.read_csv(\"booking.csv\")\n",
    "person = pd.read_csv(\"person.csv\")\n",
    "mentalhealth = pd.read_csv('health.csv')\n",
    "ind = pd.read_csv(\"individuals.csv\")"
   ]
  },
  {
   "cell_type": "code",
   "execution_count": 3,
   "metadata": {},
   "outputs": [
    {
     "data": {
      "text/plain": [
       "555765"
      ]
     },
     "execution_count": 3,
     "metadata": {},
     "output_type": "execute_result"
    }
   ],
   "source": [
    "ind['dedupe_id'].nunique()"
   ]
  },
  {
   "cell_type": "code",
   "execution_count": 4,
   "metadata": {},
   "outputs": [
    {
     "data": {
      "text/plain": [
       "21243"
      ]
     },
     "execution_count": 4,
     "metadata": {},
     "output_type": "execute_result"
    }
   ],
   "source": [
    "mentalhealth['dedupe_id'].nunique()"
   ]
  },
  {
   "cell_type": "code",
   "execution_count": 5,
   "metadata": {},
   "outputs": [],
   "source": [
    "mentalhealth = mentalhealth.dropna(subset=['dedupe_id'])"
   ]
  },
  {
   "cell_type": "code",
   "execution_count": 6,
   "metadata": {},
   "outputs": [],
   "source": [
    "health = ind.merge(mentalhealth[['city', 'state', 'zip', 'admit_date', 'dschrg_date', 'program', 'pri_dx_code', 'pri_dx_value', 'refferal_source', 'case_id', 'dedupe_id']], how=\"inner\", on='dedupe_id')"
   ]
  },
  {
   "cell_type": "code",
   "execution_count": 7,
   "metadata": {},
   "outputs": [
    {
     "data": {
      "text/plain": [
       "(26090, 17)"
      ]
     },
     "execution_count": 7,
     "metadata": {},
     "output_type": "execute_result"
    }
   ],
   "source": [
    "health.shape"
   ]
  },
  {
   "cell_type": "code",
   "execution_count": 8,
   "metadata": {},
   "outputs": [
    {
     "data": {
      "text/plain": [
       "Index(['dedupe_id', 'hash_ssn', 'hash_lname', 'hash_fname', 'sex', 'dob',\n",
       "       'race', 'city', 'state', 'zip', 'admit_date', 'dschrg_date', 'program',\n",
       "       'pri_dx_code', 'pri_dx_value', 'refferal_source', 'case_id'],\n",
       "      dtype='object')"
      ]
     },
     "execution_count": 8,
     "metadata": {},
     "output_type": "execute_result"
    }
   ],
   "source": [
    "health.columns"
   ]
  },
  {
   "cell_type": "code",
   "execution_count": 9,
   "metadata": {},
   "outputs": [],
   "source": [
    "health.drop(['hash_lname', 'hash_fname'], axis = 1, inplace = True)"
   ]
  },
  {
   "cell_type": "code",
   "execution_count": 10,
   "metadata": {},
   "outputs": [
    {
     "data": {
      "text/html": [
       "<div>\n",
       "<style scoped>\n",
       "    .dataframe tbody tr th:only-of-type {\n",
       "        vertical-align: middle;\n",
       "    }\n",
       "\n",
       "    .dataframe tbody tr th {\n",
       "        vertical-align: top;\n",
       "    }\n",
       "\n",
       "    .dataframe thead th {\n",
       "        text-align: right;\n",
       "    }\n",
       "</style>\n",
       "<table border=\"1\" class=\"dataframe\">\n",
       "  <thead>\n",
       "    <tr style=\"text-align: right;\">\n",
       "      <th></th>\n",
       "      <th>dedupe_id</th>\n",
       "      <th>hash_ssn</th>\n",
       "      <th>sex</th>\n",
       "      <th>dob</th>\n",
       "      <th>race</th>\n",
       "      <th>city</th>\n",
       "      <th>state</th>\n",
       "      <th>zip</th>\n",
       "      <th>admit_date</th>\n",
       "      <th>dschrg_date</th>\n",
       "      <th>program</th>\n",
       "      <th>pri_dx_code</th>\n",
       "      <th>pri_dx_value</th>\n",
       "      <th>refferal_source</th>\n",
       "      <th>case_id</th>\n",
       "    </tr>\n",
       "  </thead>\n",
       "  <tbody>\n",
       "    <tr>\n",
       "      <th>26085</th>\n",
       "      <td>752514.0</td>\n",
       "      <td>57881f86d4756862d6fbd5cf9c2a968395df8534b11b41...</td>\n",
       "      <td>MALE</td>\n",
       "      <td>1991-02-15</td>\n",
       "      <td>WHITE</td>\n",
       "      <td>OLATHE</td>\n",
       "      <td>KS</td>\n",
       "      <td>66061.0</td>\n",
       "      <td>2009-09-21 00:00:00</td>\n",
       "      <td>2010-07-21 00:00:00</td>\n",
       "      <td>CSS PGM</td>\n",
       "      <td>296.6</td>\n",
       "      <td>BIPOLAR DISORDER, MIXED, UNSPECIFIED</td>\n",
       "      <td>SELF</td>\n",
       "      <td>7163</td>\n",
       "    </tr>\n",
       "    <tr>\n",
       "      <th>26086</th>\n",
       "      <td>752514.0</td>\n",
       "      <td>57881f86d4756862d6fbd5cf9c2a968395df8534b11b41...</td>\n",
       "      <td>MALE</td>\n",
       "      <td>1991-02-15</td>\n",
       "      <td>WHITE</td>\n",
       "      <td>OLATHE</td>\n",
       "      <td>KS</td>\n",
       "      <td>66061.0</td>\n",
       "      <td>2011-10-13 00:00:00</td>\n",
       "      <td>2014-03-11 00:00:00</td>\n",
       "      <td>MEDICATION ONLY</td>\n",
       "      <td>296.52</td>\n",
       "      <td>BIPOLAR DISORDER, DEPRESSED, MODERATE</td>\n",
       "      <td>SELF</td>\n",
       "      <td>7164</td>\n",
       "    </tr>\n",
       "    <tr>\n",
       "      <th>26087</th>\n",
       "      <td>752518.0</td>\n",
       "      <td>044f165411124f0eff56116d1fdf54355c9bf33d833e0b...</td>\n",
       "      <td>MALE</td>\n",
       "      <td>1993-05-07</td>\n",
       "      <td>WHITE</td>\n",
       "      <td>OLATHE</td>\n",
       "      <td>KS</td>\n",
       "      <td>66061.0</td>\n",
       "      <td>2015-05-26 00:00:00</td>\n",
       "      <td>2015-05-26 00:00:00</td>\n",
       "      <td>ADMISSION PROGRAM</td>\n",
       "      <td>F43.20</td>\n",
       "      <td>ADJUSTMENT DISORDER, UNSPECIFIED</td>\n",
       "      <td>SELF</td>\n",
       "      <td>374</td>\n",
       "    </tr>\n",
       "    <tr>\n",
       "      <th>26088</th>\n",
       "      <td>752567.0</td>\n",
       "      <td>NaN</td>\n",
       "      <td>MALE</td>\n",
       "      <td>1966-03-14</td>\n",
       "      <td>WHITE</td>\n",
       "      <td>OVERLAND PARK</td>\n",
       "      <td>KS</td>\n",
       "      <td>66224.0</td>\n",
       "      <td>2012-04-11 00:00:00</td>\n",
       "      <td>2012-06-13 00:00:00</td>\n",
       "      <td>EMERGENCY SRV</td>\n",
       "      <td>296.9</td>\n",
       "      <td>UNSPECIFIED AFFECTIVE PSYCHOSIS</td>\n",
       "      <td>SELF</td>\n",
       "      <td>26096</td>\n",
       "    </tr>\n",
       "    <tr>\n",
       "      <th>26089</th>\n",
       "      <td>752814.0</td>\n",
       "      <td>141e4b915e369b29ceda05a5bcaa146bc31ef0cb1aa54d...</td>\n",
       "      <td>MALE</td>\n",
       "      <td>1979-03-27</td>\n",
       "      <td>WHITE</td>\n",
       "      <td>SHAWNEE</td>\n",
       "      <td>KS</td>\n",
       "      <td>66216.0</td>\n",
       "      <td>2010-01-20 00:00:00</td>\n",
       "      <td>2010-06-28 00:00:00</td>\n",
       "      <td>OUTPATIENT</td>\n",
       "      <td>296.33</td>\n",
       "      <td>MAJOR DEPRESSIVE DISORDER, RECURRENT, SEVERE W...</td>\n",
       "      <td>SELF</td>\n",
       "      <td>1625</td>\n",
       "    </tr>\n",
       "  </tbody>\n",
       "</table>\n",
       "</div>"
      ],
      "text/plain": [
       "       dedupe_id                                           hash_ssn   sex  \\\n",
       "26085   752514.0  57881f86d4756862d6fbd5cf9c2a968395df8534b11b41...  MALE   \n",
       "26086   752514.0  57881f86d4756862d6fbd5cf9c2a968395df8534b11b41...  MALE   \n",
       "26087   752518.0  044f165411124f0eff56116d1fdf54355c9bf33d833e0b...  MALE   \n",
       "26088   752567.0                                                NaN  MALE   \n",
       "26089   752814.0  141e4b915e369b29ceda05a5bcaa146bc31ef0cb1aa54d...  MALE   \n",
       "\n",
       "              dob   race             city state      zip           admit_date  \\\n",
       "26085  1991-02-15  WHITE  OLATHE             KS  66061.0  2009-09-21 00:00:00   \n",
       "26086  1991-02-15  WHITE  OLATHE             KS  66061.0  2011-10-13 00:00:00   \n",
       "26087  1993-05-07  WHITE           OLATHE    KS  66061.0  2015-05-26 00:00:00   \n",
       "26088  1966-03-14  WHITE  OVERLAND PARK      KS  66224.0  2012-04-11 00:00:00   \n",
       "26089  1979-03-27  WHITE  SHAWNEE            KS  66216.0  2010-01-20 00:00:00   \n",
       "\n",
       "               dschrg_date            program pri_dx_code  \\\n",
       "26085  2010-07-21 00:00:00    CSS PGM               296.6   \n",
       "26086  2014-03-11 00:00:00    MEDICATION ONLY      296.52   \n",
       "26087  2015-05-26 00:00:00  ADMISSION PROGRAM      F43.20   \n",
       "26088  2012-06-13 00:00:00    EMERGENCY SRV         296.9   \n",
       "26089  2010-06-28 00:00:00    OUTPATIENT           296.33   \n",
       "\n",
       "                                            pri_dx_value refferal_source  \\\n",
       "26085               BIPOLAR DISORDER, MIXED, UNSPECIFIED            SELF   \n",
       "26086              BIPOLAR DISORDER, DEPRESSED, MODERATE            SELF   \n",
       "26087                   ADJUSTMENT DISORDER, UNSPECIFIED            SELF   \n",
       "26088                    UNSPECIFIED AFFECTIVE PSYCHOSIS            SELF   \n",
       "26089  MAJOR DEPRESSIVE DISORDER, RECURRENT, SEVERE W...            SELF   \n",
       "\n",
       "       case_id  \n",
       "26085     7163  \n",
       "26086     7164  \n",
       "26087      374  \n",
       "26088    26096  \n",
       "26089     1625  "
      ]
     },
     "execution_count": 10,
     "metadata": {},
     "output_type": "execute_result"
    }
   ],
   "source": [
    "health.tail()"
   ]
  },
  {
   "cell_type": "code",
   "execution_count": 11,
   "metadata": {},
   "outputs": [
    {
     "data": {
      "text/plain": [
       "Index(['mni_no', 'case_no', 'case_type', 'booking_no', 'arresting_agency',\n",
       "       'arresting_agency_type', 'booking_date', 'release_date', 'bail_type',\n",
       "       'bail_amt', 'bailed_out'],\n",
       "      dtype='object')"
      ]
     },
     "execution_count": 11,
     "metadata": {},
     "output_type": "execute_result"
    }
   ],
   "source": [
    "jailbooking.columns"
   ]
  },
  {
   "cell_type": "code",
   "execution_count": 12,
   "metadata": {},
   "outputs": [
    {
     "data": {
      "text/plain": [
       "Index(['hash_ssn', 'hash_ssn4_dob', 'mni_no', 'dob', 'original_race', 'race',\n",
       "       'original_gender', 'sex', 'city', 'state', 'zip', 'country',\n",
       "       'us_zip_first_five', 'us_zip_last_four', 'tract2010id',\n",
       "       'blockgroup2010id', 'block2010id', 'joco_resident'],\n",
       "      dtype='object')"
      ]
     },
     "execution_count": 12,
     "metadata": {},
     "output_type": "execute_result"
    }
   ],
   "source": [
    "person.columns"
   ]
  },
  {
   "cell_type": "code",
   "execution_count": 13,
   "metadata": {},
   "outputs": [],
   "source": [
    "person = person.drop_duplicates(['hash_ssn'])"
   ]
  },
  {
   "cell_type": "code",
   "execution_count": 14,
   "metadata": {},
   "outputs": [],
   "source": [
    "df = pd.merge(health, person[['hash_ssn', 'mni_no']], on='hash_ssn', how='inner')"
   ]
  },
  {
   "cell_type": "code",
   "execution_count": 15,
   "metadata": {},
   "outputs": [
    {
     "data": {
      "text/plain": [
       "(7415, 16)"
      ]
     },
     "execution_count": 15,
     "metadata": {},
     "output_type": "execute_result"
    }
   ],
   "source": [
    "df.shape"
   ]
  },
  {
   "cell_type": "code",
   "execution_count": 16,
   "metadata": {},
   "outputs": [
    {
     "data": {
      "text/html": [
       "<div>\n",
       "<style scoped>\n",
       "    .dataframe tbody tr th:only-of-type {\n",
       "        vertical-align: middle;\n",
       "    }\n",
       "\n",
       "    .dataframe tbody tr th {\n",
       "        vertical-align: top;\n",
       "    }\n",
       "\n",
       "    .dataframe thead th {\n",
       "        text-align: right;\n",
       "    }\n",
       "</style>\n",
       "<table border=\"1\" class=\"dataframe\">\n",
       "  <thead>\n",
       "    <tr style=\"text-align: right;\">\n",
       "      <th></th>\n",
       "      <th>dedupe_id</th>\n",
       "      <th>hash_ssn</th>\n",
       "      <th>sex</th>\n",
       "      <th>dob</th>\n",
       "      <th>race</th>\n",
       "      <th>city</th>\n",
       "      <th>state</th>\n",
       "      <th>zip</th>\n",
       "      <th>admit_date</th>\n",
       "      <th>dschrg_date</th>\n",
       "      <th>program</th>\n",
       "      <th>pri_dx_code</th>\n",
       "      <th>pri_dx_value</th>\n",
       "      <th>refferal_source</th>\n",
       "      <th>case_id</th>\n",
       "      <th>mni_no</th>\n",
       "    </tr>\n",
       "  </thead>\n",
       "  <tbody>\n",
       "    <tr>\n",
       "      <th>7410</th>\n",
       "      <td>752077.0</td>\n",
       "      <td>5725c0f9f793c51a4aa200e8e7a99564286dd2d0d8ebe6...</td>\n",
       "      <td>FEMALE</td>\n",
       "      <td>1988-01-26</td>\n",
       "      <td>WHITE</td>\n",
       "      <td>SPRING HILL</td>\n",
       "      <td>KS</td>\n",
       "      <td>66083.0</td>\n",
       "      <td>2012-04-25 00:00:00</td>\n",
       "      <td>2012-10-11 00:00:00</td>\n",
       "      <td>OUTPATIENT</td>\n",
       "      <td>296.64</td>\n",
       "      <td>BIPOLAR DISORDER, MIXED, WITH PSYCHOTIC FEATURES</td>\n",
       "      <td>COMMUNITY CORRECITONS</td>\n",
       "      <td>7136</td>\n",
       "      <td>396310</td>\n",
       "    </tr>\n",
       "    <tr>\n",
       "      <th>7411</th>\n",
       "      <td>752325.0</td>\n",
       "      <td>1ffa7b84f6c2d6274fdccd4d2c251dd6d65a8c10ef6d5a...</td>\n",
       "      <td>MALE</td>\n",
       "      <td>1965-05-25</td>\n",
       "      <td>WHITE</td>\n",
       "      <td>OVERLAND PARK</td>\n",
       "      <td>KS</td>\n",
       "      <td>66212.0</td>\n",
       "      <td>2016-02-25 00:00:00</td>\n",
       "      <td>NaN</td>\n",
       "      <td>ADULT MH PROGRAM</td>\n",
       "      <td>F31.63</td>\n",
       "      <td>BIPOLAR DISORD, CRNT EPSD MIXED, SEVERE, W/O P...</td>\n",
       "      <td>GENERAL HOSPITAL</td>\n",
       "      <td>2606</td>\n",
       "      <td>293277</td>\n",
       "    </tr>\n",
       "    <tr>\n",
       "      <th>7412</th>\n",
       "      <td>752344.0</td>\n",
       "      <td>3fc6c953e9ffcb2980fa49980f46548919f23c801d9eec...</td>\n",
       "      <td>FEMALE</td>\n",
       "      <td>1988-07-24</td>\n",
       "      <td>WHITE</td>\n",
       "      <td>STILLWELL</td>\n",
       "      <td>KS</td>\n",
       "      <td>66085.0</td>\n",
       "      <td>2011-11-10 00:00:00</td>\n",
       "      <td>2012-02-24 00:00:00</td>\n",
       "      <td>OUTPATIENT</td>\n",
       "      <td>311</td>\n",
       "      <td>DEPRESSIVE DISORDER NOS</td>\n",
       "      <td>FRIENDS</td>\n",
       "      <td>5266</td>\n",
       "      <td>371282</td>\n",
       "    </tr>\n",
       "    <tr>\n",
       "      <th>7413</th>\n",
       "      <td>752514.0</td>\n",
       "      <td>57881f86d4756862d6fbd5cf9c2a968395df8534b11b41...</td>\n",
       "      <td>MALE</td>\n",
       "      <td>1991-02-15</td>\n",
       "      <td>WHITE</td>\n",
       "      <td>OLATHE</td>\n",
       "      <td>KS</td>\n",
       "      <td>66061.0</td>\n",
       "      <td>2009-09-21 00:00:00</td>\n",
       "      <td>2010-07-21 00:00:00</td>\n",
       "      <td>CSS PGM</td>\n",
       "      <td>296.6</td>\n",
       "      <td>BIPOLAR DISORDER, MIXED, UNSPECIFIED</td>\n",
       "      <td>SELF</td>\n",
       "      <td>7163</td>\n",
       "      <td>393408</td>\n",
       "    </tr>\n",
       "    <tr>\n",
       "      <th>7414</th>\n",
       "      <td>752514.0</td>\n",
       "      <td>57881f86d4756862d6fbd5cf9c2a968395df8534b11b41...</td>\n",
       "      <td>MALE</td>\n",
       "      <td>1991-02-15</td>\n",
       "      <td>WHITE</td>\n",
       "      <td>OLATHE</td>\n",
       "      <td>KS</td>\n",
       "      <td>66061.0</td>\n",
       "      <td>2011-10-13 00:00:00</td>\n",
       "      <td>2014-03-11 00:00:00</td>\n",
       "      <td>MEDICATION ONLY</td>\n",
       "      <td>296.52</td>\n",
       "      <td>BIPOLAR DISORDER, DEPRESSED, MODERATE</td>\n",
       "      <td>SELF</td>\n",
       "      <td>7164</td>\n",
       "      <td>393408</td>\n",
       "    </tr>\n",
       "  </tbody>\n",
       "</table>\n",
       "</div>"
      ],
      "text/plain": [
       "      dedupe_id                                           hash_ssn     sex  \\\n",
       "7410   752077.0  5725c0f9f793c51a4aa200e8e7a99564286dd2d0d8ebe6...  FEMALE   \n",
       "7411   752325.0  1ffa7b84f6c2d6274fdccd4d2c251dd6d65a8c10ef6d5a...    MALE   \n",
       "7412   752344.0  3fc6c953e9ffcb2980fa49980f46548919f23c801d9eec...  FEMALE   \n",
       "7413   752514.0  57881f86d4756862d6fbd5cf9c2a968395df8534b11b41...    MALE   \n",
       "7414   752514.0  57881f86d4756862d6fbd5cf9c2a968395df8534b11b41...    MALE   \n",
       "\n",
       "             dob   race             city state      zip           admit_date  \\\n",
       "7410  1988-01-26  WHITE  SPRING HILL        KS  66083.0  2012-04-25 00:00:00   \n",
       "7411  1965-05-25  WHITE    OVERLAND PARK    KS  66212.0  2016-02-25 00:00:00   \n",
       "7412  1988-07-24  WHITE  STILLWELL          KS  66085.0  2011-11-10 00:00:00   \n",
       "7413  1991-02-15  WHITE  OLATHE             KS  66061.0  2009-09-21 00:00:00   \n",
       "7414  1991-02-15  WHITE  OLATHE             KS  66061.0  2011-10-13 00:00:00   \n",
       "\n",
       "              dschrg_date           program pri_dx_code  \\\n",
       "7410  2012-10-11 00:00:00   OUTPATIENT           296.64   \n",
       "7411                  NaN  ADULT MH PROGRAM      F31.63   \n",
       "7412  2012-02-24 00:00:00   OUTPATIENT              311   \n",
       "7413  2010-07-21 00:00:00   CSS PGM               296.6   \n",
       "7414  2014-03-11 00:00:00   MEDICATION ONLY      296.52   \n",
       "\n",
       "                                           pri_dx_value  \\\n",
       "7410   BIPOLAR DISORDER, MIXED, WITH PSYCHOTIC FEATURES   \n",
       "7411  BIPOLAR DISORD, CRNT EPSD MIXED, SEVERE, W/O P...   \n",
       "7412                            DEPRESSIVE DISORDER NOS   \n",
       "7413               BIPOLAR DISORDER, MIXED, UNSPECIFIED   \n",
       "7414              BIPOLAR DISORDER, DEPRESSED, MODERATE   \n",
       "\n",
       "            refferal_source  case_id  mni_no  \n",
       "7410  COMMUNITY CORRECITONS     7136  396310  \n",
       "7411       GENERAL HOSPITAL     2606  293277  \n",
       "7412                FRIENDS     5266  371282  \n",
       "7413                   SELF     7163  393408  \n",
       "7414                   SELF     7164  393408  "
      ]
     },
     "execution_count": 16,
     "metadata": {},
     "output_type": "execute_result"
    }
   ],
   "source": [
    "df.tail()"
   ]
  },
  {
   "cell_type": "code",
   "execution_count": 17,
   "metadata": {},
   "outputs": [
    {
     "data": {
      "text/plain": [
       "(28579, 11)"
      ]
     },
     "execution_count": 17,
     "metadata": {},
     "output_type": "execute_result"
    }
   ],
   "source": [
    "jailbooking.shape"
   ]
  },
  {
   "cell_type": "code",
   "execution_count": 18,
   "metadata": {},
   "outputs": [
    {
     "data": {
      "text/plain": [
       "(28579, 11)"
      ]
     },
     "execution_count": 18,
     "metadata": {},
     "output_type": "execute_result"
    }
   ],
   "source": [
    "jailbooking.shape"
   ]
  },
  {
   "cell_type": "code",
   "execution_count": 19,
   "metadata": {},
   "outputs": [],
   "source": [
    "df = pd.merge(df, jailbooking, on='mni_no', how='inner')"
   ]
  },
  {
   "cell_type": "code",
   "execution_count": 20,
   "metadata": {},
   "outputs": [
    {
     "data": {
      "text/plain": [
       "(10007, 26)"
      ]
     },
     "execution_count": 20,
     "metadata": {},
     "output_type": "execute_result"
    }
   ],
   "source": [
    "df.shape"
   ]
  },
  {
   "cell_type": "code",
   "execution_count": 21,
   "metadata": {},
   "outputs": [
    {
     "data": {
      "text/plain": [
       "Index(['dedupe_id', 'hash_ssn', 'sex', 'dob', 'race', 'city', 'state', 'zip',\n",
       "       'admit_date', 'dschrg_date', 'program', 'pri_dx_code', 'pri_dx_value',\n",
       "       'refferal_source', 'case_id', 'mni_no', 'case_no', 'case_type',\n",
       "       'booking_no', 'arresting_agency', 'arresting_agency_type',\n",
       "       'booking_date', 'release_date', 'bail_type', 'bail_amt', 'bailed_out'],\n",
       "      dtype='object')"
      ]
     },
     "execution_count": 21,
     "metadata": {},
     "output_type": "execute_result"
    }
   ],
   "source": [
    "df.columns"
   ]
  },
  {
   "cell_type": "code",
   "execution_count": 22,
   "metadata": {},
   "outputs": [
    {
     "data": {
      "text/plain": [
       "22110"
      ]
     },
     "execution_count": 22,
     "metadata": {},
     "output_type": "execute_result"
    }
   ],
   "source": [
    "jailbooking.mni_no.nunique()"
   ]
  },
  {
   "cell_type": "code",
   "execution_count": 23,
   "metadata": {},
   "outputs": [],
   "source": [
    "def convert_datetime(df, cols):\n",
    "    for col in cols:\n",
    "        df[col] = pd.to_datetime(df[col])"
   ]
  },
  {
   "cell_type": "code",
   "execution_count": 24,
   "metadata": {},
   "outputs": [],
   "source": [
    "convert_datetime(df, ['admit_date', 'dschrg_date', 'booking_date', 'release_date', 'dob'])"
   ]
  },
  {
   "cell_type": "code",
   "execution_count": 26,
   "metadata": {},
   "outputs": [],
   "source": [
    "#3 Pre-Process & Filling Missing Data#3 Pre-P \n",
    "def Detect_missing_value(df):\n",
    "    '''\n",
    "    Find out the columns have missing values\n",
    "\n",
    "    Input:\n",
    "        df: (pandas dataframe)\n",
    " \n",
    "    Returns:\n",
    "        a list of those column names\n",
    "    '''\n",
    "    rv = []\n",
    "    for col in df.columns:\n",
    "        if df[col].count() < df.shape[0]:\n",
    "            rv.append(col)\n",
    "            print(col, \"has missing values.\")\n",
    "    return rv"
   ]
  },
  {
   "cell_type": "code",
   "execution_count": 27,
   "metadata": {},
   "outputs": [
    {
     "name": "stdout",
     "output_type": "stream",
     "text": [
      "hash_ssn has missing values.\n",
      "sex has missing values.\n",
      "race has missing values.\n",
      "city has missing values.\n",
      "state has missing values.\n",
      "zip has missing values.\n",
      "dschrg_date has missing values.\n",
      "pri_dx_value has missing values.\n",
      "refferal_source has missing values.\n",
      "arresting_agency has missing values.\n",
      "arresting_agency_type has missing values.\n",
      "release_date has missing values.\n",
      "bail_type has missing values.\n",
      "bail_amt has missing values.\n"
     ]
    },
    {
     "data": {
      "text/plain": [
       "['hash_ssn',\n",
       " 'sex',\n",
       " 'race',\n",
       " 'city',\n",
       " 'state',\n",
       " 'zip',\n",
       " 'dschrg_date',\n",
       " 'pri_dx_value',\n",
       " 'refferal_source',\n",
       " 'arresting_agency',\n",
       " 'arresting_agency_type',\n",
       " 'release_date',\n",
       " 'bail_type',\n",
       " 'bail_amt']"
      ]
     },
     "execution_count": 27,
     "metadata": {},
     "output_type": "execute_result"
    }
   ],
   "source": [
    "Detect_missing_value(df)"
   ]
  },
  {
   "cell_type": "code",
   "execution_count": 28,
   "metadata": {},
   "outputs": [
    {
     "data": {
      "text/plain": [
       "Index(['dedupe_id', 'zip', 'case_id', 'mni_no', 'booking_no', 'bail_amt',\n",
       "       'bailed_out'],\n",
       "      dtype='object')"
      ]
     },
     "execution_count": 28,
     "metadata": {},
     "output_type": "execute_result"
    }
   ],
   "source": [
    "# get numeric columns \n",
    "num_cols = df._get_numeric_data().columns\n",
    "num_cols"
   ]
  },
  {
   "cell_type": "code",
   "execution_count": 29,
   "metadata": {},
   "outputs": [
    {
     "data": {
      "text/plain": [
       "['dschrg_date',\n",
       " 'case_no',\n",
       " 'arresting_agency',\n",
       " 'release_date',\n",
       " 'pri_dx_value',\n",
       " 'city',\n",
       " 'arresting_agency_type',\n",
       " 'program',\n",
       " 'state',\n",
       " 'booking_date',\n",
       " 'sex',\n",
       " 'admit_date',\n",
       " 'hash_ssn',\n",
       " 'refferal_source',\n",
       " 'bail_type',\n",
       " 'race',\n",
       " 'dob',\n",
       " 'pri_dx_code',\n",
       " 'case_type']"
      ]
     },
     "execution_count": 29,
     "metadata": {},
     "output_type": "execute_result"
    }
   ],
   "source": [
    "#and then find out categorical columns\n",
    "cate_cols = list(set(df.columns) - set(num_cols))\n",
    "cate_cols"
   ]
  },
  {
   "cell_type": "code",
   "execution_count": 30,
   "metadata": {},
   "outputs": [],
   "source": [
    "def Fill_in(df, cols, method=\"mean\"):\n",
    "    '''\n",
    "    Filling in missing values with \"mean\" or \"median\"\n",
    "    \n",
    "    Inputs:\n",
    "        df: (pandas dataframe)\n",
    "        a list of those column names\n",
    "        method (string): mean or median\n",
    " \n",
    "    Returns:\n",
    "        pandas dataframe\n",
    "    '''\n",
    "    for col in cols:\n",
    "        if method =='mean':\n",
    "            val = df[col].mean()\n",
    "        elif method =='median':\n",
    "            val = df[col].median()\n",
    "        elif method =='mode':\n",
    "            val = df[col].mode()\n",
    "            val = str(val)\n",
    "        elif method == 'missing':\n",
    "            val = \"missing\"\n",
    "        df[col] = df[col].fillna(val)\n",
    "        print ('Filling missing value for {} using {}'.format(col, method))\n",
    "    return df"
   ]
  },
  {
   "cell_type": "code",
   "execution_count": 31,
   "metadata": {},
   "outputs": [
    {
     "name": "stdout",
     "output_type": "stream",
     "text": [
      "Filling missing value for city using missing\n",
      "Filling missing value for state using missing\n"
     ]
    }
   ],
   "source": [
    "df = Fill_in(df, ['city', 'state'], \"missing\")"
   ]
  },
  {
   "cell_type": "code",
   "execution_count": 32,
   "metadata": {},
   "outputs": [],
   "source": [
    "fill_with_mode = ['arresting_agency_type', 'arresting_agency', 'bail_type', 'race', 'program', 'refferal_source', 'sex',\n",
    " 'case_type', 'pri_dx_value']"
   ]
  },
  {
   "cell_type": "code",
   "execution_count": 33,
   "metadata": {},
   "outputs": [
    {
     "name": "stdout",
     "output_type": "stream",
     "text": [
      "Filling missing value for arresting_agency_type using mode\n",
      "Filling missing value for arresting_agency using mode\n",
      "Filling missing value for bail_type using mode\n",
      "Filling missing value for race using mode\n",
      "Filling missing value for program using mode\n",
      "Filling missing value for refferal_source using mode\n",
      "Filling missing value for sex using mode\n",
      "Filling missing value for case_type using mode\n",
      "Filling missing value for pri_dx_value using mode\n",
      "Filling missing value for bail_amt using median\n"
     ]
    }
   ],
   "source": [
    "df = Fill_in(df, fill_with_mode, \"mode\")\n",
    "df = Fill_in(df, ['bail_amt'], \"median\")"
   ]
  },
  {
   "cell_type": "code",
   "execution_count": 34,
   "metadata": {},
   "outputs": [
    {
     "name": "stdout",
     "output_type": "stream",
     "text": [
      "hash_ssn has missing values.\n",
      "zip has missing values.\n",
      "dschrg_date has missing values.\n",
      "release_date has missing values.\n"
     ]
    },
    {
     "data": {
      "text/plain": [
       "['hash_ssn', 'zip', 'dschrg_date', 'release_date']"
      ]
     },
     "execution_count": 34,
     "metadata": {},
     "output_type": "execute_result"
    }
   ],
   "source": [
    "Detect_missing_value(df)"
   ]
  },
  {
   "cell_type": "code",
   "execution_count": 25,
   "metadata": {},
   "outputs": [
    {
     "data": {
      "text/plain": [
       "0    True\n",
       "1    True\n",
       "2    True\n",
       "3    True\n",
       "4    True\n",
       "Name: bailed_out, dtype: bool"
      ]
     },
     "execution_count": 25,
     "metadata": {},
     "output_type": "execute_result"
    }
   ],
   "source": [
    "df['bailed_out'].head()"
   ]
  },
  {
   "cell_type": "code",
   "execution_count": 35,
   "metadata": {},
   "outputs": [],
   "source": [
    "#convert dummy var\n",
    "df['bailed_out'] = df['bailed_out']*1"
   ]
  },
  {
   "cell_type": "code",
   "execution_count": 63,
   "metadata": {},
   "outputs": [],
   "source": [
    "df.to_csv('df.csv', index=False)"
   ]
  },
  {
   "cell_type": "code",
   "execution_count": null,
   "metadata": {},
   "outputs": [],
   "source": [
    "##################up to now"
   ]
  },
  {
   "cell_type": "code",
   "execution_count": 38,
   "metadata": {},
   "outputs": [],
   "source": [
    "#2 explore\n",
    "def create_graph(df, x, y, method='mean', graph_type='line'):\n",
    "    '''\n",
    "    Generate distribution graph for specific variable\n",
    "    \n",
    "    Input:\n",
    "        df: (pandas dataframe)\n",
    "        x(string): the variable/attribute you want to explore\n",
    "        graph_typee(string): the type of graph you want to draw: line, bar, scatter\n",
    "        method (string): mean, median or sum\n",
    "        \n",
    "    Return:\n",
    "        a graph for a selected attribute. \n",
    "    '''\n",
    "    cols = [x, y]\n",
    "    if method == 'mean':\n",
    "        var = df[cols].groupby(x).mean()\n",
    "    elif method == 'median':\n",
    "        var = df[cols].groupby(x).median()\n",
    "    elif method == 'sum':\n",
    "        var = df[cols].groupby(x).sum()\n",
    "    graph = var.plot(kind=graph_type, use_index=False, figsize=(8,4))\n"
   ]
  },
  {
   "cell_type": "code",
   "execution_count": null,
   "metadata": {},
   "outputs": [],
   "source": []
  },
  {
   "cell_type": "code",
   "execution_count": null,
   "metadata": {},
   "outputs": [],
   "source": []
  },
  {
   "cell_type": "code",
   "execution_count": 28,
   "metadata": {},
   "outputs": [],
   "source": [
    "mni_df = df.groupby(['dedupe_id']).size().reset_index(name='re-entry')"
   ]
  },
  {
   "cell_type": "code",
   "execution_count": 29,
   "metadata": {},
   "outputs": [
    {
     "data": {
      "text/html": [
       "<div>\n",
       "<style scoped>\n",
       "    .dataframe tbody tr th:only-of-type {\n",
       "        vertical-align: middle;\n",
       "    }\n",
       "\n",
       "    .dataframe tbody tr th {\n",
       "        vertical-align: top;\n",
       "    }\n",
       "\n",
       "    .dataframe thead th {\n",
       "        text-align: right;\n",
       "    }\n",
       "</style>\n",
       "<table border=\"1\" class=\"dataframe\">\n",
       "  <thead>\n",
       "    <tr style=\"text-align: right;\">\n",
       "      <th></th>\n",
       "      <th>dedupe_id</th>\n",
       "      <th>re-entry</th>\n",
       "    </tr>\n",
       "  </thead>\n",
       "  <tbody>\n",
       "    <tr>\n",
       "      <th>6038</th>\n",
       "      <td>752173.0</td>\n",
       "      <td>1</td>\n",
       "    </tr>\n",
       "    <tr>\n",
       "      <th>6039</th>\n",
       "      <td>752325.0</td>\n",
       "      <td>1</td>\n",
       "    </tr>\n",
       "    <tr>\n",
       "      <th>6040</th>\n",
       "      <td>752344.0</td>\n",
       "      <td>1</td>\n",
       "    </tr>\n",
       "    <tr>\n",
       "      <th>6041</th>\n",
       "      <td>752514.0</td>\n",
       "      <td>10</td>\n",
       "    </tr>\n",
       "    <tr>\n",
       "      <th>6042</th>\n",
       "      <td>752567.0</td>\n",
       "      <td>1</td>\n",
       "    </tr>\n",
       "  </tbody>\n",
       "</table>\n",
       "</div>"
      ],
      "text/plain": [
       "      dedupe_id  re-entry\n",
       "6038   752173.0         1\n",
       "6039   752325.0         1\n",
       "6040   752344.0         1\n",
       "6041   752514.0        10\n",
       "6042   752567.0         1"
      ]
     },
     "execution_count": 29,
     "metadata": {},
     "output_type": "execute_result"
    }
   ],
   "source": [
    "mni_df.tail()"
   ]
  },
  {
   "cell_type": "code",
   "execution_count": 30,
   "metadata": {},
   "outputs": [
    {
     "data": {
      "text/html": [
       "<div>\n",
       "<style scoped>\n",
       "    .dataframe tbody tr th:only-of-type {\n",
       "        vertical-align: middle;\n",
       "    }\n",
       "\n",
       "    .dataframe tbody tr th {\n",
       "        vertical-align: top;\n",
       "    }\n",
       "\n",
       "    .dataframe thead th {\n",
       "        text-align: right;\n",
       "    }\n",
       "</style>\n",
       "<table border=\"1\" class=\"dataframe\">\n",
       "  <thead>\n",
       "    <tr style=\"text-align: right;\">\n",
       "      <th></th>\n",
       "      <th>dedupe_id</th>\n",
       "      <th>re-entry</th>\n",
       "    </tr>\n",
       "  </thead>\n",
       "  <tbody>\n",
       "    <tr>\n",
       "      <th>0</th>\n",
       "      <td>218.0</td>\n",
       "      <td>1</td>\n",
       "    </tr>\n",
       "    <tr>\n",
       "      <th>1</th>\n",
       "      <td>330.0</td>\n",
       "      <td>1</td>\n",
       "    </tr>\n",
       "    <tr>\n",
       "      <th>2</th>\n",
       "      <td>607.0</td>\n",
       "      <td>1</td>\n",
       "    </tr>\n",
       "    <tr>\n",
       "      <th>3</th>\n",
       "      <td>615.0</td>\n",
       "      <td>1</td>\n",
       "    </tr>\n",
       "    <tr>\n",
       "      <th>4</th>\n",
       "      <td>619.0</td>\n",
       "      <td>5</td>\n",
       "    </tr>\n",
       "  </tbody>\n",
       "</table>\n",
       "</div>"
      ],
      "text/plain": [
       "   dedupe_id  re-entry\n",
       "0      218.0         1\n",
       "1      330.0         1\n",
       "2      607.0         1\n",
       "3      615.0         1\n",
       "4      619.0         5"
      ]
     },
     "execution_count": 30,
     "metadata": {},
     "output_type": "execute_result"
    }
   ],
   "source": [
    "mni_df.head()"
   ]
  },
  {
   "cell_type": "code",
   "execution_count": 10,
   "metadata": {},
   "outputs": [],
   "source": [
    "df['re-entry'] = np.where(mni_df['re-entry']>1, 1, 0)"
   ]
  },
  {
   "cell_type": "code",
   "execution_count": 11,
   "metadata": {},
   "outputs": [
    {
     "data": {
      "text/html": [
       "<div>\n",
       "<style scoped>\n",
       "    .dataframe tbody tr th:only-of-type {\n",
       "        vertical-align: middle;\n",
       "    }\n",
       "\n",
       "    .dataframe tbody tr th {\n",
       "        vertical-align: top;\n",
       "    }\n",
       "\n",
       "    .dataframe thead th {\n",
       "        text-align: right;\n",
       "    }\n",
       "</style>\n",
       "<table border=\"1\" class=\"dataframe\">\n",
       "  <thead>\n",
       "    <tr style=\"text-align: right;\">\n",
       "      <th></th>\n",
       "      <th>mni_no</th>\n",
       "      <th>re-entry</th>\n",
       "    </tr>\n",
       "  </thead>\n",
       "  <tbody>\n",
       "    <tr>\n",
       "      <th>0</th>\n",
       "      <td>14</td>\n",
       "      <td>0</td>\n",
       "    </tr>\n",
       "    <tr>\n",
       "      <th>1</th>\n",
       "      <td>180</td>\n",
       "      <td>1</td>\n",
       "    </tr>\n",
       "    <tr>\n",
       "      <th>2</th>\n",
       "      <td>216</td>\n",
       "      <td>1</td>\n",
       "    </tr>\n",
       "    <tr>\n",
       "      <th>3</th>\n",
       "      <td>240</td>\n",
       "      <td>0</td>\n",
       "    </tr>\n",
       "    <tr>\n",
       "      <th>4</th>\n",
       "      <td>329</td>\n",
       "      <td>0</td>\n",
       "    </tr>\n",
       "  </tbody>\n",
       "</table>\n",
       "</div>"
      ],
      "text/plain": [
       "   mni_no  re-entry\n",
       "0      14         0\n",
       "1     180         1\n",
       "2     216         1\n",
       "3     240         0\n",
       "4     329         0"
      ]
     },
     "execution_count": 11,
     "metadata": {},
     "output_type": "execute_result"
    }
   ],
   "source": [
    "mni_df.head()"
   ]
  },
  {
   "cell_type": "code",
   "execution_count": 12,
   "metadata": {},
   "outputs": [],
   "source": [
    "jail = jailbooking.merge(mni_df, how=\"left\")"
   ]
  },
  {
   "cell_type": "code",
   "execution_count": 13,
   "metadata": {},
   "outputs": [
    {
     "data": {
      "text/html": [
       "<div>\n",
       "<style scoped>\n",
       "    .dataframe tbody tr th:only-of-type {\n",
       "        vertical-align: middle;\n",
       "    }\n",
       "\n",
       "    .dataframe tbody tr th {\n",
       "        vertical-align: top;\n",
       "    }\n",
       "\n",
       "    .dataframe thead th {\n",
       "        text-align: right;\n",
       "    }\n",
       "</style>\n",
       "<table border=\"1\" class=\"dataframe\">\n",
       "  <thead>\n",
       "    <tr style=\"text-align: right;\">\n",
       "      <th></th>\n",
       "      <th>mni_no</th>\n",
       "      <th>case_no</th>\n",
       "      <th>booking_no</th>\n",
       "      <th>arresting_agency</th>\n",
       "      <th>booking_date</th>\n",
       "      <th>release_date</th>\n",
       "      <th>bail_type</th>\n",
       "      <th>bail_amt</th>\n",
       "      <th>re-entry</th>\n",
       "    </tr>\n",
       "  </thead>\n",
       "  <tbody>\n",
       "    <tr>\n",
       "      <th>28574</th>\n",
       "      <td>688407</td>\n",
       "      <td>15JV00582</td>\n",
       "      <td>16000536</td>\n",
       "      <td>LENEXA P.D.</td>\n",
       "      <td>2016-04-29 00:00:00</td>\n",
       "      <td>2016-05-03 00:00:00</td>\n",
       "      <td>NaN</td>\n",
       "      <td>NaN</td>\n",
       "      <td>1</td>\n",
       "    </tr>\n",
       "    <tr>\n",
       "      <th>28575</th>\n",
       "      <td>698651</td>\n",
       "      <td>16JV00653</td>\n",
       "      <td>16000537</td>\n",
       "      <td>OLATHE P.D.</td>\n",
       "      <td>2016-04-29 00:00:00</td>\n",
       "      <td>2016-05-02 00:00:00</td>\n",
       "      <td>NaN</td>\n",
       "      <td>NaN</td>\n",
       "      <td>0</td>\n",
       "    </tr>\n",
       "    <tr>\n",
       "      <th>28576</th>\n",
       "      <td>679706</td>\n",
       "      <td>16JV00651</td>\n",
       "      <td>16000538</td>\n",
       "      <td>SHAWNEE P.D.</td>\n",
       "      <td>2016-04-30 00:00:00</td>\n",
       "      <td>2016-05-05 00:00:00</td>\n",
       "      <td>NaN</td>\n",
       "      <td>NaN</td>\n",
       "      <td>0</td>\n",
       "    </tr>\n",
       "    <tr>\n",
       "      <th>28577</th>\n",
       "      <td>675005</td>\n",
       "      <td>15JV00503</td>\n",
       "      <td>16000539</td>\n",
       "      <td>OVERLAND PARK P.D.</td>\n",
       "      <td>2016-04-30 00:00:00</td>\n",
       "      <td>2016-05-19 00:00:00</td>\n",
       "      <td>NaN</td>\n",
       "      <td>NaN</td>\n",
       "      <td>1</td>\n",
       "    </tr>\n",
       "    <tr>\n",
       "      <th>28578</th>\n",
       "      <td>554805</td>\n",
       "      <td>16JV00652</td>\n",
       "      <td>16000543</td>\n",
       "      <td>OVERLAND PARK P.D.</td>\n",
       "      <td>2016-04-30 00:00:00</td>\n",
       "      <td>2016-05-02 00:00:00</td>\n",
       "      <td>NaN</td>\n",
       "      <td>NaN</td>\n",
       "      <td>0</td>\n",
       "    </tr>\n",
       "  </tbody>\n",
       "</table>\n",
       "</div>"
      ],
      "text/plain": [
       "       mni_no    case_no  booking_no    arresting_agency         booking_date  \\\n",
       "28574  688407  15JV00582    16000536         LENEXA P.D.  2016-04-29 00:00:00   \n",
       "28575  698651  16JV00653    16000537         OLATHE P.D.  2016-04-29 00:00:00   \n",
       "28576  679706  16JV00651    16000538        SHAWNEE P.D.  2016-04-30 00:00:00   \n",
       "28577  675005  15JV00503    16000539  OVERLAND PARK P.D.  2016-04-30 00:00:00   \n",
       "28578  554805  16JV00652    16000543  OVERLAND PARK P.D.  2016-04-30 00:00:00   \n",
       "\n",
       "              release_date bail_type  bail_amt  re-entry  \n",
       "28574  2016-05-03 00:00:00       NaN       NaN         1  \n",
       "28575  2016-05-02 00:00:00       NaN       NaN         0  \n",
       "28576  2016-05-05 00:00:00       NaN       NaN         0  \n",
       "28577  2016-05-19 00:00:00       NaN       NaN         1  \n",
       "28578  2016-05-02 00:00:00       NaN       NaN         0  "
      ]
     },
     "execution_count": 13,
     "metadata": {},
     "output_type": "execute_result"
    }
   ],
   "source": [
    "jail.tail()"
   ]
  },
  {
   "cell_type": "code",
   "execution_count": 14,
   "metadata": {},
   "outputs": [],
   "source": [
    "person.drop(['tract2010id', 'blockgroup2010id', 'block2010id'], inplace=True, axis=1)"
   ]
  },
  {
   "cell_type": "code",
   "execution_count": 15,
   "metadata": {},
   "outputs": [
    {
     "data": {
      "text/plain": [
       "Index(['personid', 'mni_no', 'dob', 'race', 'gender', 'city', 'state', 'zip'], dtype='object')"
      ]
     },
     "execution_count": 15,
     "metadata": {},
     "output_type": "execute_result"
    }
   ],
   "source": [
    "person.columns"
   ]
  },
  {
   "cell_type": "code",
   "execution_count": 16,
   "metadata": {},
   "outputs": [],
   "source": [
    "jail_ppl = jail.merge(person, how=\"left\", on=\"mni_no\")"
   ]
  },
  {
   "cell_type": "code",
   "execution_count": 17,
   "metadata": {},
   "outputs": [
    {
     "data": {
      "text/plain": [
       "(28579, 16)"
      ]
     },
     "execution_count": 17,
     "metadata": {},
     "output_type": "execute_result"
    }
   ],
   "source": [
    "jail_ppl.shape"
   ]
  },
  {
   "cell_type": "code",
   "execution_count": 18,
   "metadata": {},
   "outputs": [],
   "source": [
    "mentalhealth = pd.read_csv(\"mentalhealth.csv\")"
   ]
  },
  {
   "cell_type": "code",
   "execution_count": 19,
   "metadata": {},
   "outputs": [
    {
     "data": {
      "text/plain": [
       "Index(['personid', 'dob', 'race', 'sex', 'city', 'state', 'zip', 'tract2010id',\n",
       "       'blockgroup2010id', 'block2010id', 'admit_date', 'dschrg_date',\n",
       "       'program', 'pri_dx_code', 'pri_dx_value', 'refferal_source'],\n",
       "      dtype='object')"
      ]
     },
     "execution_count": 19,
     "metadata": {},
     "output_type": "execute_result"
    }
   ],
   "source": [
    "mentalhealth.columns"
   ]
  },
  {
   "cell_type": "code",
   "execution_count": 20,
   "metadata": {},
   "outputs": [
    {
     "data": {
      "text/plain": [
       "(26097, 16)"
      ]
     },
     "execution_count": 20,
     "metadata": {},
     "output_type": "execute_result"
    }
   ],
   "source": [
    "mentalhealth.shape"
   ]
  },
  {
   "cell_type": "code",
   "execution_count": 21,
   "metadata": {},
   "outputs": [],
   "source": [
    "mentalhealth.drop(['dob','city', 'race', 'sex', 'state', 'zip', 'tract2010id',\n",
    "       'blockgroup2010id', 'block2010id'], inplace=True, axis=1)"
   ]
  },
  {
   "cell_type": "code",
   "execution_count": 22,
   "metadata": {},
   "outputs": [
    {
     "data": {
      "text/html": [
       "<div>\n",
       "<style scoped>\n",
       "    .dataframe tbody tr th:only-of-type {\n",
       "        vertical-align: middle;\n",
       "    }\n",
       "\n",
       "    .dataframe tbody tr th {\n",
       "        vertical-align: top;\n",
       "    }\n",
       "\n",
       "    .dataframe thead th {\n",
       "        text-align: right;\n",
       "    }\n",
       "</style>\n",
       "<table border=\"1\" class=\"dataframe\">\n",
       "  <thead>\n",
       "    <tr style=\"text-align: right;\">\n",
       "      <th></th>\n",
       "      <th>mni_no</th>\n",
       "      <th>case_no</th>\n",
       "      <th>booking_no</th>\n",
       "      <th>arresting_agency</th>\n",
       "      <th>booking_date</th>\n",
       "      <th>release_date</th>\n",
       "      <th>bail_type</th>\n",
       "      <th>bail_amt</th>\n",
       "      <th>re-entry</th>\n",
       "      <th>personid</th>\n",
       "      <th>dob</th>\n",
       "      <th>race</th>\n",
       "      <th>gender</th>\n",
       "      <th>city</th>\n",
       "      <th>state</th>\n",
       "      <th>zip</th>\n",
       "    </tr>\n",
       "  </thead>\n",
       "  <tbody>\n",
       "    <tr>\n",
       "      <th>0</th>\n",
       "      <td>488544</td>\n",
       "      <td>09CR03128</td>\n",
       "      <td>10000005</td>\n",
       "      <td>OLATHE P.D.</td>\n",
       "      <td>2010-01-01 00:00:00</td>\n",
       "      <td>2010-05-23 00:00:00</td>\n",
       "      <td>PR</td>\n",
       "      <td>7500.0</td>\n",
       "      <td>0</td>\n",
       "      <td>NaN</td>\n",
       "      <td>NaN</td>\n",
       "      <td>NaN</td>\n",
       "      <td>NaN</td>\n",
       "      <td>NaN</td>\n",
       "      <td>NaN</td>\n",
       "      <td>NaN</td>\n",
       "    </tr>\n",
       "    <tr>\n",
       "      <th>1</th>\n",
       "      <td>167776</td>\n",
       "      <td>10DV00011</td>\n",
       "      <td>10000008</td>\n",
       "      <td>GARDNER P.D.</td>\n",
       "      <td>2010-01-01 00:00:00</td>\n",
       "      <td>2010-01-04 00:00:00</td>\n",
       "      <td>SUR</td>\n",
       "      <td>5000.0</td>\n",
       "      <td>1</td>\n",
       "      <td>1079925.0</td>\n",
       "      <td>1981-05-21 00:00:00.0</td>\n",
       "      <td>W</td>\n",
       "      <td>M</td>\n",
       "      <td>Lawrence</td>\n",
       "      <td>KS</td>\n",
       "      <td>66046-3250</td>\n",
       "    </tr>\n",
       "    <tr>\n",
       "      <th>2</th>\n",
       "      <td>594130</td>\n",
       "      <td>10CR00011</td>\n",
       "      <td>10000010</td>\n",
       "      <td>SHAWNEE P.D.</td>\n",
       "      <td>2010-01-01 00:00:00</td>\n",
       "      <td>2010-01-02 00:00:00</td>\n",
       "      <td>SUR</td>\n",
       "      <td>6000.0</td>\n",
       "      <td>0</td>\n",
       "      <td>NaN</td>\n",
       "      <td>NaN</td>\n",
       "      <td>NaN</td>\n",
       "      <td>NaN</td>\n",
       "      <td>NaN</td>\n",
       "      <td>NaN</td>\n",
       "      <td>NaN</td>\n",
       "    </tr>\n",
       "    <tr>\n",
       "      <th>3</th>\n",
       "      <td>82738</td>\n",
       "      <td>10DV00004</td>\n",
       "      <td>10000017</td>\n",
       "      <td>OVERLAND PARK P.D.</td>\n",
       "      <td>2010-01-01 00:00:00</td>\n",
       "      <td>2010-01-02 00:00:00</td>\n",
       "      <td>SUR</td>\n",
       "      <td>1500.0</td>\n",
       "      <td>0</td>\n",
       "      <td>1080427.0</td>\n",
       "      <td>1968-06-19 00:00:00.0</td>\n",
       "      <td>W</td>\n",
       "      <td>M</td>\n",
       "      <td>Overland Park</td>\n",
       "      <td>KS</td>\n",
       "      <td>66212</td>\n",
       "    </tr>\n",
       "    <tr>\n",
       "      <th>4</th>\n",
       "      <td>481746</td>\n",
       "      <td>10DV00013</td>\n",
       "      <td>10000020</td>\n",
       "      <td>OLATHE P.D.</td>\n",
       "      <td>2010-01-01 00:00:00</td>\n",
       "      <td>2010-01-05 00:00:00</td>\n",
       "      <td>SUR</td>\n",
       "      <td>15000.0</td>\n",
       "      <td>0</td>\n",
       "      <td>NaN</td>\n",
       "      <td>NaN</td>\n",
       "      <td>NaN</td>\n",
       "      <td>NaN</td>\n",
       "      <td>NaN</td>\n",
       "      <td>NaN</td>\n",
       "      <td>NaN</td>\n",
       "    </tr>\n",
       "  </tbody>\n",
       "</table>\n",
       "</div>"
      ],
      "text/plain": [
       "   mni_no    case_no  booking_no    arresting_agency         booking_date  \\\n",
       "0  488544  09CR03128    10000005         OLATHE P.D.  2010-01-01 00:00:00   \n",
       "1  167776  10DV00011    10000008        GARDNER P.D.  2010-01-01 00:00:00   \n",
       "2  594130  10CR00011    10000010        SHAWNEE P.D.  2010-01-01 00:00:00   \n",
       "3   82738  10DV00004    10000017  OVERLAND PARK P.D.  2010-01-01 00:00:00   \n",
       "4  481746  10DV00013    10000020         OLATHE P.D.  2010-01-01 00:00:00   \n",
       "\n",
       "          release_date bail_type  bail_amt  re-entry   personid  \\\n",
       "0  2010-05-23 00:00:00        PR    7500.0         0        NaN   \n",
       "1  2010-01-04 00:00:00       SUR    5000.0         1  1079925.0   \n",
       "2  2010-01-02 00:00:00       SUR    6000.0         0        NaN   \n",
       "3  2010-01-02 00:00:00       SUR    1500.0         0  1080427.0   \n",
       "4  2010-01-05 00:00:00       SUR   15000.0         0        NaN   \n",
       "\n",
       "                     dob race gender           city state         zip  \n",
       "0                    NaN  NaN    NaN            NaN   NaN         NaN  \n",
       "1  1981-05-21 00:00:00.0    W      M       Lawrence    KS  66046-3250  \n",
       "2                    NaN  NaN    NaN            NaN   NaN         NaN  \n",
       "3  1968-06-19 00:00:00.0    W      M  Overland Park    KS       66212  \n",
       "4                    NaN  NaN    NaN            NaN   NaN         NaN  "
      ]
     },
     "execution_count": 22,
     "metadata": {},
     "output_type": "execute_result"
    }
   ],
   "source": [
    "jail_ppl.head()"
   ]
  },
  {
   "cell_type": "code",
   "execution_count": 23,
   "metadata": {},
   "outputs": [],
   "source": [
    "jail_ppl['dob'] = pd.to_datetime(jail_ppl['dob'])\n",
    "for i, row in jail_ppl.iterrows():\n",
    "    jail_ppl['age']= pd.to_datetime('2018-06-01').year - jail_ppl['dob'].dt.year"
   ]
  },
  {
   "cell_type": "code",
   "execution_count": 24,
   "metadata": {},
   "outputs": [],
   "source": [
    "df.to_csv('df.csv', index=False)\n",
    "jail_ppl['booking_days'] = jail_ppl['release_date'] - jail_ppl['booking_date']"
   ]
  },
  {
   "cell_type": "code",
   "execution_count": 25,
   "metadata": {},
   "outputs": [],
   "source": [
    "#Convert the days type to integer \n",
    "jail_ppl['booking_days'] = jail_ppl['booking_days'].astype('timedelta64[D]')"
   ]
  },
  {
   "cell_type": "code",
   "execution_count": 26,
   "metadata": {},
   "outputs": [],
   "source": [
    "jail_ppl.drop(['booking_date','release_date'], inplace=True, axis=1)"
   ]
  },
  {
   "cell_type": "code",
   "execution_count": 27,
   "metadata": {},
   "outputs": [
    {
     "data": {
      "text/html": [
       "<div>\n",
       "<style scoped>\n",
       "    .dataframe tbody tr th:only-of-type {\n",
       "        vertical-align: middle;\n",
       "    }\n",
       "\n",
       "    .dataframe tbody tr th {\n",
       "        vertical-align: top;\n",
       "    }\n",
       "\n",
       "    .dataframe thead th {\n",
       "        text-align: right;\n",
       "    }\n",
       "</style>\n",
       "<table border=\"1\" class=\"dataframe\">\n",
       "  <thead>\n",
       "    <tr style=\"text-align: right;\">\n",
       "      <th></th>\n",
       "      <th>mni_no</th>\n",
       "      <th>case_no</th>\n",
       "      <th>booking_no</th>\n",
       "      <th>arresting_agency</th>\n",
       "      <th>bail_type</th>\n",
       "      <th>bail_amt</th>\n",
       "      <th>re-entry</th>\n",
       "      <th>personid</th>\n",
       "      <th>dob</th>\n",
       "      <th>race</th>\n",
       "      <th>gender</th>\n",
       "      <th>city</th>\n",
       "      <th>state</th>\n",
       "      <th>zip</th>\n",
       "      <th>age</th>\n",
       "      <th>booking_days</th>\n",
       "    </tr>\n",
       "  </thead>\n",
       "  <tbody>\n",
       "    <tr>\n",
       "      <th>0</th>\n",
       "      <td>488544</td>\n",
       "      <td>09CR03128</td>\n",
       "      <td>10000005</td>\n",
       "      <td>OLATHE P.D.</td>\n",
       "      <td>PR</td>\n",
       "      <td>7500.0</td>\n",
       "      <td>0</td>\n",
       "      <td>NaN</td>\n",
       "      <td>NaT</td>\n",
       "      <td>NaN</td>\n",
       "      <td>NaN</td>\n",
       "      <td>NaN</td>\n",
       "      <td>NaN</td>\n",
       "      <td>NaN</td>\n",
       "      <td>NaN</td>\n",
       "      <td>142.0</td>\n",
       "    </tr>\n",
       "    <tr>\n",
       "      <th>1</th>\n",
       "      <td>167776</td>\n",
       "      <td>10DV00011</td>\n",
       "      <td>10000008</td>\n",
       "      <td>GARDNER P.D.</td>\n",
       "      <td>SUR</td>\n",
       "      <td>5000.0</td>\n",
       "      <td>1</td>\n",
       "      <td>1079925.0</td>\n",
       "      <td>1981-05-21</td>\n",
       "      <td>W</td>\n",
       "      <td>M</td>\n",
       "      <td>Lawrence</td>\n",
       "      <td>KS</td>\n",
       "      <td>66046-3250</td>\n",
       "      <td>37.0</td>\n",
       "      <td>3.0</td>\n",
       "    </tr>\n",
       "    <tr>\n",
       "      <th>2</th>\n",
       "      <td>594130</td>\n",
       "      <td>10CR00011</td>\n",
       "      <td>10000010</td>\n",
       "      <td>SHAWNEE P.D.</td>\n",
       "      <td>SUR</td>\n",
       "      <td>6000.0</td>\n",
       "      <td>0</td>\n",
       "      <td>NaN</td>\n",
       "      <td>NaT</td>\n",
       "      <td>NaN</td>\n",
       "      <td>NaN</td>\n",
       "      <td>NaN</td>\n",
       "      <td>NaN</td>\n",
       "      <td>NaN</td>\n",
       "      <td>NaN</td>\n",
       "      <td>1.0</td>\n",
       "    </tr>\n",
       "    <tr>\n",
       "      <th>3</th>\n",
       "      <td>82738</td>\n",
       "      <td>10DV00004</td>\n",
       "      <td>10000017</td>\n",
       "      <td>OVERLAND PARK P.D.</td>\n",
       "      <td>SUR</td>\n",
       "      <td>1500.0</td>\n",
       "      <td>0</td>\n",
       "      <td>1080427.0</td>\n",
       "      <td>1968-06-19</td>\n",
       "      <td>W</td>\n",
       "      <td>M</td>\n",
       "      <td>Overland Park</td>\n",
       "      <td>KS</td>\n",
       "      <td>66212</td>\n",
       "      <td>50.0</td>\n",
       "      <td>1.0</td>\n",
       "    </tr>\n",
       "    <tr>\n",
       "      <th>4</th>\n",
       "      <td>481746</td>\n",
       "      <td>10DV00013</td>\n",
       "      <td>10000020</td>\n",
       "      <td>OLATHE P.D.</td>\n",
       "      <td>SUR</td>\n",
       "      <td>15000.0</td>\n",
       "      <td>0</td>\n",
       "      <td>NaN</td>\n",
       "      <td>NaT</td>\n",
       "      <td>NaN</td>\n",
       "      <td>NaN</td>\n",
       "      <td>NaN</td>\n",
       "      <td>NaN</td>\n",
       "      <td>NaN</td>\n",
       "      <td>NaN</td>\n",
       "      <td>4.0</td>\n",
       "    </tr>\n",
       "  </tbody>\n",
       "</table>\n",
       "</div>"
      ],
      "text/plain": [
       "   mni_no    case_no  booking_no    arresting_agency bail_type  bail_amt  \\\n",
       "0  488544  09CR03128    10000005         OLATHE P.D.        PR    7500.0   \n",
       "1  167776  10DV00011    10000008        GARDNER P.D.       SUR    5000.0   \n",
       "2  594130  10CR00011    10000010        SHAWNEE P.D.       SUR    6000.0   \n",
       "3   82738  10DV00004    10000017  OVERLAND PARK P.D.       SUR    1500.0   \n",
       "4  481746  10DV00013    10000020         OLATHE P.D.       SUR   15000.0   \n",
       "\n",
       "   re-entry   personid        dob race gender           city state  \\\n",
       "0         0        NaN        NaT  NaN    NaN            NaN   NaN   \n",
       "1         1  1079925.0 1981-05-21    W      M       Lawrence    KS   \n",
       "2         0        NaN        NaT  NaN    NaN            NaN   NaN   \n",
       "3         0  1080427.0 1968-06-19    W      M  Overland Park    KS   \n",
       "4         0        NaN        NaT  NaN    NaN            NaN   NaN   \n",
       "\n",
       "          zip   age  booking_days  \n",
       "0         NaN   NaN         142.0  \n",
       "1  66046-3250  37.0           3.0  \n",
       "2         NaN   NaN           1.0  \n",
       "3       66212  50.0           1.0  \n",
       "4         NaN   NaN           4.0  "
      ]
     },
     "execution_count": 27,
     "metadata": {},
     "output_type": "execute_result"
    }
   ],
   "source": [
    "jail_ppl.head()"
   ]
  },
  {
   "cell_type": "code",
   "execution_count": 28,
   "metadata": {},
   "outputs": [],
   "source": [
    "mentalhealth = mentalhealth.dropna(subset = ['personid'])"
   ]
  },
  {
   "cell_type": "code",
   "execution_count": 29,
   "metadata": {},
   "outputs": [
    {
     "data": {
      "text/html": [
       "<div>\n",
       "<style scoped>\n",
       "    .dataframe tbody tr th:only-of-type {\n",
       "        vertical-align: middle;\n",
       "    }\n",
       "\n",
       "    .dataframe tbody tr th {\n",
       "        vertical-align: top;\n",
       "    }\n",
       "\n",
       "    .dataframe thead th {\n",
       "        text-align: right;\n",
       "    }\n",
       "</style>\n",
       "<table border=\"1\" class=\"dataframe\">\n",
       "  <thead>\n",
       "    <tr style=\"text-align: right;\">\n",
       "      <th></th>\n",
       "      <th>personid</th>\n",
       "      <th>admit_date</th>\n",
       "      <th>dschrg_date</th>\n",
       "      <th>program</th>\n",
       "      <th>pri_dx_code</th>\n",
       "      <th>pri_dx_value</th>\n",
       "      <th>refferal_source</th>\n",
       "    </tr>\n",
       "  </thead>\n",
       "  <tbody>\n",
       "    <tr>\n",
       "      <th>1</th>\n",
       "      <td>1012840.0</td>\n",
       "      <td>2003-06-16 00:00:00</td>\n",
       "      <td>NaN</td>\n",
       "      <td>ADULT MH PROGRAM</td>\n",
       "      <td>F25.0</td>\n",
       "      <td>Schizoaffective disorder, bipolar type</td>\n",
       "      <td>Self</td>\n",
       "    </tr>\n",
       "    <tr>\n",
       "      <th>2</th>\n",
       "      <td>1054604.0</td>\n",
       "      <td>2012-10-30 00:00:00</td>\n",
       "      <td>NaN</td>\n",
       "      <td>ADULT MH PROGRAM</td>\n",
       "      <td>F31.64</td>\n",
       "      <td>Bipolar disord, crnt episode mixed, severe, w ...</td>\n",
       "      <td>Self</td>\n",
       "    </tr>\n",
       "    <tr>\n",
       "      <th>3</th>\n",
       "      <td>1102739.0</td>\n",
       "      <td>2008-01-28 00:00:00</td>\n",
       "      <td>NaN</td>\n",
       "      <td>ADULT MH PROGRAM</td>\n",
       "      <td>F31.30</td>\n",
       "      <td>Bipolar disord, crnt epsd depress, mild or mod...</td>\n",
       "      <td>Self</td>\n",
       "    </tr>\n",
       "    <tr>\n",
       "      <th>4</th>\n",
       "      <td>1098897.0</td>\n",
       "      <td>2006-10-04 00:00:00</td>\n",
       "      <td>NaN</td>\n",
       "      <td>ADULT MH PROGRAM</td>\n",
       "      <td>F90.0</td>\n",
       "      <td>Attn-defct hyperactivity disorder, predom inat...</td>\n",
       "      <td>Self</td>\n",
       "    </tr>\n",
       "    <tr>\n",
       "      <th>5</th>\n",
       "      <td>1057771.0</td>\n",
       "      <td>2003-05-02 00:00:00</td>\n",
       "      <td>NaN</td>\n",
       "      <td>ADULT MH PROGRAM</td>\n",
       "      <td>F25.0</td>\n",
       "      <td>Schizoaffective disorder, bipolar type</td>\n",
       "      <td>Self</td>\n",
       "    </tr>\n",
       "  </tbody>\n",
       "</table>\n",
       "</div>"
      ],
      "text/plain": [
       "    personid           admit_date dschrg_date           program pri_dx_code  \\\n",
       "1  1012840.0  2003-06-16 00:00:00         NaN  ADULT MH PROGRAM       F25.0   \n",
       "2  1054604.0  2012-10-30 00:00:00         NaN  ADULT MH PROGRAM      F31.64   \n",
       "3  1102739.0  2008-01-28 00:00:00         NaN  ADULT MH PROGRAM      F31.30   \n",
       "4  1098897.0  2006-10-04 00:00:00         NaN  ADULT MH PROGRAM       F90.0   \n",
       "5  1057771.0  2003-05-02 00:00:00         NaN  ADULT MH PROGRAM       F25.0   \n",
       "\n",
       "                                        pri_dx_value refferal_source  \n",
       "1             Schizoaffective disorder, bipolar type            Self  \n",
       "2  Bipolar disord, crnt episode mixed, severe, w ...            Self  \n",
       "3  Bipolar disord, crnt epsd depress, mild or mod...            Self  \n",
       "4  Attn-defct hyperactivity disorder, predom inat...            Self  \n",
       "5             Schizoaffective disorder, bipolar type            Self  "
      ]
     },
     "execution_count": 29,
     "metadata": {},
     "output_type": "execute_result"
    }
   ],
   "source": [
    "mentalhealth.head()"
   ]
  },
  {
   "cell_type": "code",
   "execution_count": 30,
   "metadata": {},
   "outputs": [],
   "source": [
    "mentalhealth['dschrg_date'].fillna('2018-01-01 00:00:00', inplace = True)"
   ]
  },
  {
   "cell_type": "code",
   "execution_count": 31,
   "metadata": {},
   "outputs": [],
   "source": [
    "#Convert column type from string to datetime\n",
    "mentalhealth['admit_date'] = pd.to_datetime(mentalhealth['admit_date'])\n",
    "mentalhealth['dschrg_date'] = pd.to_datetime(mentalhealth['dschrg_date'], errors='ignore')\n",
    "mentalhealth['treatment_days'] = mentalhealth['dschrg_date'] - mentalhealth['admit_date']"
   ]
  },
  {
   "cell_type": "code",
   "execution_count": 32,
   "metadata": {},
   "outputs": [],
   "source": [
    "#Convert the days type to integer \n",
    "mentalhealth['treatment_days'] = mentalhealth['treatment_days'].astype('timedelta64[D]')"
   ]
  },
  {
   "cell_type": "code",
   "execution_count": 33,
   "metadata": {},
   "outputs": [
    {
     "data": {
      "text/plain": [
       "1    5313.0\n",
       "2    1889.0\n",
       "3    3626.0\n",
       "4    4107.0\n",
       "5    5358.0\n",
       "Name: treatment_days, dtype: float64"
      ]
     },
     "execution_count": 33,
     "metadata": {},
     "output_type": "execute_result"
    }
   ],
   "source": [
    "mentalhealth.treatment_days.head()"
   ]
  },
  {
   "cell_type": "code",
   "execution_count": 34,
   "metadata": {},
   "outputs": [],
   "source": [
    "def  checking_for_nulls(dataframe):\n",
    "    '''\n",
    "    Given a dataframe, checks for columns which have NaN or Nulls,\n",
    "        and returns a list with the name of those features which have NaN or Nulls.\n",
    "        \n",
    "    Input:\n",
    "        dataframe\n",
    "        \n",
    "    Output:\n",
    "        features_with_nulls: list of strings\n",
    "    '''\n",
    "    features = dataframe.columns\n",
    "    features_with_nulls = []\n",
    "\n",
    "    for column in df.columns:    \n",
    "        if df[column].isnull().sum() > 0:\n",
    "            features_with_nulls.append(column)\n",
    "    \n",
    "    return features_with_nulls"
   ]
  },
  {
   "cell_type": "code",
   "execution_count": 35,
   "metadata": {},
   "outputs": [],
   "source": [
    "def fill_in_missing_data (dataframe, features, criteria):\n",
    "    '''\n",
    "    Given a dataframe and a criteria (options: mean, median or mode),\n",
    "        fills in the NaN or Null values in that column for the dataframe\n",
    "        based on the given criteria\n",
    "        \n",
    "    Input:\n",
    "        dataframe\n",
    "        criteria: string\n",
    "    '''\n",
    "    \n",
    "    for feature in features:\n",
    "        if criteria == 'mean': input_value = df[feature].mean() \n",
    "        if criteria == 'median': input_value = df[feature].median() \n",
    "        if criteria == 'mode': input_value = df[feature].mode()\n",
    "        \n",
    "        dataframe[feature] = dataframe[feature].fillna(input_value)"
   ]
  },
  {
   "cell_type": "code",
   "execution_count": 36,
   "metadata": {},
   "outputs": [],
   "source": [
    "jail_ppl = jail_ppl.dropna(subset = ['personid'])"
   ]
  },
  {
   "cell_type": "code",
   "execution_count": 37,
   "metadata": {},
   "outputs": [
    {
     "data": {
      "text/plain": [
       "(9136, 16)"
      ]
     },
     "execution_count": 37,
     "metadata": {},
     "output_type": "execute_result"
    }
   ],
   "source": [
    "jail_ppl.shape"
   ]
  },
  {
   "cell_type": "code",
   "execution_count": 38,
   "metadata": {},
   "outputs": [],
   "source": [
    "health = mentalhealth[[\"personid\", \"treatment_days\"]]"
   ]
  },
  {
   "cell_type": "code",
   "execution_count": 39,
   "metadata": {},
   "outputs": [
    {
     "data": {
      "text/html": [
       "<div>\n",
       "<style scoped>\n",
       "    .dataframe tbody tr th:only-of-type {\n",
       "        vertical-align: middle;\n",
       "    }\n",
       "\n",
       "    .dataframe tbody tr th {\n",
       "        vertical-align: top;\n",
       "    }\n",
       "\n",
       "    .dataframe thead th {\n",
       "        text-align: right;\n",
       "    }\n",
       "</style>\n",
       "<table border=\"1\" class=\"dataframe\">\n",
       "  <thead>\n",
       "    <tr style=\"text-align: right;\">\n",
       "      <th></th>\n",
       "      <th>personid</th>\n",
       "      <th>treatment_days</th>\n",
       "    </tr>\n",
       "  </thead>\n",
       "  <tbody>\n",
       "    <tr>\n",
       "      <th>1</th>\n",
       "      <td>1012840.0</td>\n",
       "      <td>5313.0</td>\n",
       "    </tr>\n",
       "    <tr>\n",
       "      <th>2</th>\n",
       "      <td>1054604.0</td>\n",
       "      <td>1889.0</td>\n",
       "    </tr>\n",
       "    <tr>\n",
       "      <th>3</th>\n",
       "      <td>1102739.0</td>\n",
       "      <td>3626.0</td>\n",
       "    </tr>\n",
       "    <tr>\n",
       "      <th>4</th>\n",
       "      <td>1098897.0</td>\n",
       "      <td>4107.0</td>\n",
       "    </tr>\n",
       "    <tr>\n",
       "      <th>5</th>\n",
       "      <td>1057771.0</td>\n",
       "      <td>5358.0</td>\n",
       "    </tr>\n",
       "  </tbody>\n",
       "</table>\n",
       "</div>"
      ],
      "text/plain": [
       "    personid  treatment_days\n",
       "1  1012840.0          5313.0\n",
       "2  1054604.0          1889.0\n",
       "3  1102739.0          3626.0\n",
       "4  1098897.0          4107.0\n",
       "5  1057771.0          5358.0"
      ]
     },
     "execution_count": 39,
     "metadata": {},
     "output_type": "execute_result"
    }
   ],
   "source": [
    "health.head()"
   ]
  },
  {
   "cell_type": "code",
   "execution_count": 40,
   "metadata": {},
   "outputs": [],
   "source": [
    "df = pd.merge(jail_ppl, health, on=\"personid\", how='left')"
   ]
  },
  {
   "cell_type": "code",
   "execution_count": 41,
   "metadata": {},
   "outputs": [
    {
     "data": {
      "text/plain": [
       "(9823, 17)"
      ]
     },
     "execution_count": 41,
     "metadata": {},
     "output_type": "execute_result"
    }
   ],
   "source": [
    "df.shape"
   ]
  },
  {
   "cell_type": "code",
   "execution_count": 42,
   "metadata": {},
   "outputs": [
    {
     "data": {
      "text/plain": [
       "6556"
      ]
     },
     "execution_count": 42,
     "metadata": {},
     "output_type": "execute_result"
    }
   ],
   "source": [
    "df.personid.nunique()"
   ]
  },
  {
   "cell_type": "code",
   "execution_count": 43,
   "metadata": {},
   "outputs": [
    {
     "data": {
      "text/html": [
       "<div>\n",
       "<style scoped>\n",
       "    .dataframe tbody tr th:only-of-type {\n",
       "        vertical-align: middle;\n",
       "    }\n",
       "\n",
       "    .dataframe tbody tr th {\n",
       "        vertical-align: top;\n",
       "    }\n",
       "\n",
       "    .dataframe thead th {\n",
       "        text-align: right;\n",
       "    }\n",
       "</style>\n",
       "<table border=\"1\" class=\"dataframe\">\n",
       "  <thead>\n",
       "    <tr style=\"text-align: right;\">\n",
       "      <th></th>\n",
       "      <th>mni_no</th>\n",
       "      <th>case_no</th>\n",
       "      <th>booking_no</th>\n",
       "      <th>arresting_agency</th>\n",
       "      <th>bail_type</th>\n",
       "      <th>bail_amt</th>\n",
       "      <th>re-entry</th>\n",
       "      <th>personid</th>\n",
       "      <th>dob</th>\n",
       "      <th>race</th>\n",
       "      <th>gender</th>\n",
       "      <th>city</th>\n",
       "      <th>state</th>\n",
       "      <th>zip</th>\n",
       "      <th>age</th>\n",
       "      <th>booking_days</th>\n",
       "      <th>treatment_days</th>\n",
       "    </tr>\n",
       "  </thead>\n",
       "  <tbody>\n",
       "    <tr>\n",
       "      <th>9818</th>\n",
       "      <td>386507</td>\n",
       "      <td>15JV01408</td>\n",
       "      <td>15001276</td>\n",
       "      <td>MISSION P.D.</td>\n",
       "      <td>PR</td>\n",
       "      <td>750.0</td>\n",
       "      <td>1</td>\n",
       "      <td>1075036.0</td>\n",
       "      <td>1998-02-03</td>\n",
       "      <td>W</td>\n",
       "      <td>F</td>\n",
       "      <td>Mission</td>\n",
       "      <td>KS</td>\n",
       "      <td>66202</td>\n",
       "      <td>20.0</td>\n",
       "      <td>17.0</td>\n",
       "      <td>248.0</td>\n",
       "    </tr>\n",
       "    <tr>\n",
       "      <th>9819</th>\n",
       "      <td>388197</td>\n",
       "      <td>15JV01406</td>\n",
       "      <td>15001312</td>\n",
       "      <td>OLATHE P.D.</td>\n",
       "      <td>NaN</td>\n",
       "      <td>NaN</td>\n",
       "      <td>1</td>\n",
       "      <td>1082668.0</td>\n",
       "      <td>1998-02-16</td>\n",
       "      <td>W</td>\n",
       "      <td>M</td>\n",
       "      <td>Overland Park</td>\n",
       "      <td>KS</td>\n",
       "      <td>66202</td>\n",
       "      <td>20.0</td>\n",
       "      <td>19.0</td>\n",
       "      <td>106.0</td>\n",
       "    </tr>\n",
       "    <tr>\n",
       "      <th>9820</th>\n",
       "      <td>459495</td>\n",
       "      <td>14JV00909</td>\n",
       "      <td>15001408</td>\n",
       "      <td>JOHNSON COUNTY SHERIFF'S DEPARTMENT</td>\n",
       "      <td>NaN</td>\n",
       "      <td>NaN</td>\n",
       "      <td>1</td>\n",
       "      <td>1087638.0</td>\n",
       "      <td>1998-07-30</td>\n",
       "      <td>B</td>\n",
       "      <td>M</td>\n",
       "      <td>Merriam</td>\n",
       "      <td>KS</td>\n",
       "      <td>66203</td>\n",
       "      <td>20.0</td>\n",
       "      <td>23.0</td>\n",
       "      <td>NaN</td>\n",
       "    </tr>\n",
       "    <tr>\n",
       "      <th>9821</th>\n",
       "      <td>388197</td>\n",
       "      <td>15JV01406</td>\n",
       "      <td>16000075</td>\n",
       "      <td>JOHNSON COUNTY SHERIFF'S DEPARTMENT</td>\n",
       "      <td>NaN</td>\n",
       "      <td>NaN</td>\n",
       "      <td>1</td>\n",
       "      <td>1082668.0</td>\n",
       "      <td>1998-02-16</td>\n",
       "      <td>W</td>\n",
       "      <td>M</td>\n",
       "      <td>Overland Park</td>\n",
       "      <td>KS</td>\n",
       "      <td>66202</td>\n",
       "      <td>20.0</td>\n",
       "      <td>30.0</td>\n",
       "      <td>106.0</td>\n",
       "    </tr>\n",
       "    <tr>\n",
       "      <th>9822</th>\n",
       "      <td>409499</td>\n",
       "      <td>16JV00281</td>\n",
       "      <td>16000257</td>\n",
       "      <td>MERRIAM P.D.</td>\n",
       "      <td>NaN</td>\n",
       "      <td>NaN</td>\n",
       "      <td>0</td>\n",
       "      <td>1084674.0</td>\n",
       "      <td>2000-10-26</td>\n",
       "      <td>B</td>\n",
       "      <td>M</td>\n",
       "      <td>Merriam</td>\n",
       "      <td>KS</td>\n",
       "      <td>66203</td>\n",
       "      <td>18.0</td>\n",
       "      <td>1.0</td>\n",
       "      <td>NaN</td>\n",
       "    </tr>\n",
       "  </tbody>\n",
       "</table>\n",
       "</div>"
      ],
      "text/plain": [
       "      mni_no    case_no  booking_no                     arresting_agency  \\\n",
       "9818  386507  15JV01408    15001276                         MISSION P.D.   \n",
       "9819  388197  15JV01406    15001312                          OLATHE P.D.   \n",
       "9820  459495  14JV00909    15001408  JOHNSON COUNTY SHERIFF'S DEPARTMENT   \n",
       "9821  388197  15JV01406    16000075  JOHNSON COUNTY SHERIFF'S DEPARTMENT   \n",
       "9822  409499  16JV00281    16000257                         MERRIAM P.D.   \n",
       "\n",
       "     bail_type  bail_amt  re-entry   personid        dob race gender  \\\n",
       "9818        PR     750.0         1  1075036.0 1998-02-03    W      F   \n",
       "9819       NaN       NaN         1  1082668.0 1998-02-16    W      M   \n",
       "9820       NaN       NaN         1  1087638.0 1998-07-30    B      M   \n",
       "9821       NaN       NaN         1  1082668.0 1998-02-16    W      M   \n",
       "9822       NaN       NaN         0  1084674.0 2000-10-26    B      M   \n",
       "\n",
       "               city state    zip   age  booking_days  treatment_days  \n",
       "9818        Mission    KS  66202  20.0          17.0           248.0  \n",
       "9819  Overland Park    KS  66202  20.0          19.0           106.0  \n",
       "9820        Merriam    KS  66203  20.0          23.0             NaN  \n",
       "9821  Overland Park    KS  66202  20.0          30.0           106.0  \n",
       "9822        Merriam    KS  66203  18.0           1.0             NaN  "
      ]
     },
     "execution_count": 43,
     "metadata": {},
     "output_type": "execute_result"
    }
   ],
   "source": [
    "df.tail()"
   ]
  },
  {
   "cell_type": "code",
   "execution_count": 44,
   "metadata": {},
   "outputs": [],
   "source": [
    "df['treatment_days'].fillna(-1, inplace = True)"
   ]
  },
  {
   "cell_type": "code",
   "execution_count": 47,
   "metadata": {},
   "outputs": [],
   "source": [
    "df['mental_health'] = np.where(df['treatment_days']>=0.0, 1, 0)"
   ]
  },
  {
   "cell_type": "code",
   "execution_count": 48,
   "metadata": {},
   "outputs": [
    {
     "data": {
      "text/html": [
       "<div>\n",
       "<style scoped>\n",
       "    .dataframe tbody tr th:only-of-type {\n",
       "        vertical-align: middle;\n",
       "    }\n",
       "\n",
       "    .dataframe tbody tr th {\n",
       "        vertical-align: top;\n",
       "    }\n",
       "\n",
       "    .dataframe thead th {\n",
       "        text-align: right;\n",
       "    }\n",
       "</style>\n",
       "<table border=\"1\" class=\"dataframe\">\n",
       "  <thead>\n",
       "    <tr style=\"text-align: right;\">\n",
       "      <th></th>\n",
       "      <th>mni_no</th>\n",
       "      <th>case_no</th>\n",
       "      <th>booking_no</th>\n",
       "      <th>arresting_agency</th>\n",
       "      <th>bail_type</th>\n",
       "      <th>bail_amt</th>\n",
       "      <th>re-entry</th>\n",
       "      <th>personid</th>\n",
       "      <th>dob</th>\n",
       "      <th>race</th>\n",
       "      <th>gender</th>\n",
       "      <th>city</th>\n",
       "      <th>state</th>\n",
       "      <th>zip</th>\n",
       "      <th>age</th>\n",
       "      <th>booking_days</th>\n",
       "      <th>treatment_days</th>\n",
       "      <th>mental_health</th>\n",
       "    </tr>\n",
       "  </thead>\n",
       "  <tbody>\n",
       "    <tr>\n",
       "      <th>9818</th>\n",
       "      <td>386507</td>\n",
       "      <td>15JV01408</td>\n",
       "      <td>15001276</td>\n",
       "      <td>MISSION P.D.</td>\n",
       "      <td>PR</td>\n",
       "      <td>750.0</td>\n",
       "      <td>1</td>\n",
       "      <td>1075036.0</td>\n",
       "      <td>1998-02-03</td>\n",
       "      <td>W</td>\n",
       "      <td>F</td>\n",
       "      <td>Mission</td>\n",
       "      <td>KS</td>\n",
       "      <td>66202</td>\n",
       "      <td>20.0</td>\n",
       "      <td>17.0</td>\n",
       "      <td>248.0</td>\n",
       "      <td>1</td>\n",
       "    </tr>\n",
       "    <tr>\n",
       "      <th>9819</th>\n",
       "      <td>388197</td>\n",
       "      <td>15JV01406</td>\n",
       "      <td>15001312</td>\n",
       "      <td>OLATHE P.D.</td>\n",
       "      <td>NaN</td>\n",
       "      <td>NaN</td>\n",
       "      <td>1</td>\n",
       "      <td>1082668.0</td>\n",
       "      <td>1998-02-16</td>\n",
       "      <td>W</td>\n",
       "      <td>M</td>\n",
       "      <td>Overland Park</td>\n",
       "      <td>KS</td>\n",
       "      <td>66202</td>\n",
       "      <td>20.0</td>\n",
       "      <td>19.0</td>\n",
       "      <td>106.0</td>\n",
       "      <td>1</td>\n",
       "    </tr>\n",
       "    <tr>\n",
       "      <th>9820</th>\n",
       "      <td>459495</td>\n",
       "      <td>14JV00909</td>\n",
       "      <td>15001408</td>\n",
       "      <td>JOHNSON COUNTY SHERIFF'S DEPARTMENT</td>\n",
       "      <td>NaN</td>\n",
       "      <td>NaN</td>\n",
       "      <td>1</td>\n",
       "      <td>1087638.0</td>\n",
       "      <td>1998-07-30</td>\n",
       "      <td>B</td>\n",
       "      <td>M</td>\n",
       "      <td>Merriam</td>\n",
       "      <td>KS</td>\n",
       "      <td>66203</td>\n",
       "      <td>20.0</td>\n",
       "      <td>23.0</td>\n",
       "      <td>-1.0</td>\n",
       "      <td>0</td>\n",
       "    </tr>\n",
       "    <tr>\n",
       "      <th>9821</th>\n",
       "      <td>388197</td>\n",
       "      <td>15JV01406</td>\n",
       "      <td>16000075</td>\n",
       "      <td>JOHNSON COUNTY SHERIFF'S DEPARTMENT</td>\n",
       "      <td>NaN</td>\n",
       "      <td>NaN</td>\n",
       "      <td>1</td>\n",
       "      <td>1082668.0</td>\n",
       "      <td>1998-02-16</td>\n",
       "      <td>W</td>\n",
       "      <td>M</td>\n",
       "      <td>Overland Park</td>\n",
       "      <td>KS</td>\n",
       "      <td>66202</td>\n",
       "      <td>20.0</td>\n",
       "      <td>30.0</td>\n",
       "      <td>106.0</td>\n",
       "      <td>1</td>\n",
       "    </tr>\n",
       "    <tr>\n",
       "      <th>9822</th>\n",
       "      <td>409499</td>\n",
       "      <td>16JV00281</td>\n",
       "      <td>16000257</td>\n",
       "      <td>MERRIAM P.D.</td>\n",
       "      <td>NaN</td>\n",
       "      <td>NaN</td>\n",
       "      <td>0</td>\n",
       "      <td>1084674.0</td>\n",
       "      <td>2000-10-26</td>\n",
       "      <td>B</td>\n",
       "      <td>M</td>\n",
       "      <td>Merriam</td>\n",
       "      <td>KS</td>\n",
       "      <td>66203</td>\n",
       "      <td>18.0</td>\n",
       "      <td>1.0</td>\n",
       "      <td>-1.0</td>\n",
       "      <td>0</td>\n",
       "    </tr>\n",
       "  </tbody>\n",
       "</table>\n",
       "</div>"
      ],
      "text/plain": [
       "      mni_no    case_no  booking_no                     arresting_agency  \\\n",
       "9818  386507  15JV01408    15001276                         MISSION P.D.   \n",
       "9819  388197  15JV01406    15001312                          OLATHE P.D.   \n",
       "9820  459495  14JV00909    15001408  JOHNSON COUNTY SHERIFF'S DEPARTMENT   \n",
       "9821  388197  15JV01406    16000075  JOHNSON COUNTY SHERIFF'S DEPARTMENT   \n",
       "9822  409499  16JV00281    16000257                         MERRIAM P.D.   \n",
       "\n",
       "     bail_type  bail_amt  re-entry   personid        dob race gender  \\\n",
       "9818        PR     750.0         1  1075036.0 1998-02-03    W      F   \n",
       "9819       NaN       NaN         1  1082668.0 1998-02-16    W      M   \n",
       "9820       NaN       NaN         1  1087638.0 1998-07-30    B      M   \n",
       "9821       NaN       NaN         1  1082668.0 1998-02-16    W      M   \n",
       "9822       NaN       NaN         0  1084674.0 2000-10-26    B      M   \n",
       "\n",
       "               city state    zip   age  booking_days  treatment_days  \\\n",
       "9818        Mission    KS  66202  20.0          17.0           248.0   \n",
       "9819  Overland Park    KS  66202  20.0          19.0           106.0   \n",
       "9820        Merriam    KS  66203  20.0          23.0            -1.0   \n",
       "9821  Overland Park    KS  66202  20.0          30.0           106.0   \n",
       "9822        Merriam    KS  66203  18.0           1.0            -1.0   \n",
       "\n",
       "      mental_health  \n",
       "9818              1  \n",
       "9819              1  \n",
       "9820              0  \n",
       "9821              1  \n",
       "9822              0  "
      ]
     },
     "execution_count": 48,
     "metadata": {},
     "output_type": "execute_result"
    }
   ],
   "source": [
    "df.tail()"
   ]
  },
  {
   "cell_type": "code",
   "execution_count": 50,
   "metadata": {},
   "outputs": [],
   "source": [
    "cols_to_fill = checking_for_nulls(df)"
   ]
  },
  {
   "cell_type": "code",
   "execution_count": 51,
   "metadata": {},
   "outputs": [
    {
     "data": {
      "text/plain": [
       "['bail_type', 'bail_amt', 'city', 'state', 'zip', 'booking_days']"
      ]
     },
     "execution_count": 51,
     "metadata": {},
     "output_type": "execute_result"
    }
   ],
   "source": [
    "cols_to_fill"
   ]
  },
  {
   "cell_type": "code",
   "execution_count": 52,
   "metadata": {},
   "outputs": [],
   "source": [
    "fill_in_missing_data(df, ['bail_amt', 'booking_days'], 'median')"
   ]
  },
  {
   "cell_type": "code",
   "execution_count": 53,
   "metadata": {},
   "outputs": [
    {
     "data": {
      "text/plain": [
       "0    SUR\n",
       "dtype: object"
      ]
     },
     "execution_count": 53,
     "metadata": {},
     "output_type": "execute_result"
    }
   ],
   "source": [
    "df['bail_type'].mode()"
   ]
  },
  {
   "cell_type": "code",
   "execution_count": 54,
   "metadata": {},
   "outputs": [],
   "source": [
    "df['bail_type'] = df['bail_type'].fillna('SUR')"
   ]
  },
  {
   "cell_type": "code",
   "execution_count": 55,
   "metadata": {},
   "outputs": [
    {
     "data": {
      "text/plain": [
       "['city', 'state', 'zip']"
      ]
     },
     "execution_count": 55,
     "metadata": {},
     "output_type": "execute_result"
    }
   ],
   "source": [
    "checking_for_nulls(df)"
   ]
  },
  {
   "cell_type": "code",
   "execution_count": 56,
   "metadata": {},
   "outputs": [
    {
     "data": {
      "text/html": [
       "<div>\n",
       "<style scoped>\n",
       "    .dataframe tbody tr th:only-of-type {\n",
       "        vertical-align: middle;\n",
       "    }\n",
       "\n",
       "    .dataframe tbody tr th {\n",
       "        vertical-align: top;\n",
       "    }\n",
       "\n",
       "    .dataframe thead th {\n",
       "        text-align: right;\n",
       "    }\n",
       "</style>\n",
       "<table border=\"1\" class=\"dataframe\">\n",
       "  <thead>\n",
       "    <tr style=\"text-align: right;\">\n",
       "      <th></th>\n",
       "      <th>mni_no</th>\n",
       "      <th>case_no</th>\n",
       "      <th>booking_no</th>\n",
       "      <th>arresting_agency</th>\n",
       "      <th>bail_type</th>\n",
       "      <th>bail_amt</th>\n",
       "      <th>re-entry</th>\n",
       "      <th>personid</th>\n",
       "      <th>dob</th>\n",
       "      <th>race</th>\n",
       "      <th>gender</th>\n",
       "      <th>city</th>\n",
       "      <th>state</th>\n",
       "      <th>zip</th>\n",
       "      <th>age</th>\n",
       "      <th>booking_days</th>\n",
       "      <th>treatment_days</th>\n",
       "      <th>mental_health</th>\n",
       "    </tr>\n",
       "  </thead>\n",
       "  <tbody>\n",
       "    <tr>\n",
       "      <th>0</th>\n",
       "      <td>167776</td>\n",
       "      <td>10DV00011</td>\n",
       "      <td>10000008</td>\n",
       "      <td>GARDNER P.D.</td>\n",
       "      <td>SUR</td>\n",
       "      <td>5000.0</td>\n",
       "      <td>1</td>\n",
       "      <td>1079925.0</td>\n",
       "      <td>1981-05-21</td>\n",
       "      <td>W</td>\n",
       "      <td>M</td>\n",
       "      <td>Lawrence</td>\n",
       "      <td>KS</td>\n",
       "      <td>66046-3250</td>\n",
       "      <td>37.0</td>\n",
       "      <td>3.0</td>\n",
       "      <td>-1.0</td>\n",
       "      <td>0</td>\n",
       "    </tr>\n",
       "    <tr>\n",
       "      <th>1</th>\n",
       "      <td>82738</td>\n",
       "      <td>10DV00004</td>\n",
       "      <td>10000017</td>\n",
       "      <td>OVERLAND PARK P.D.</td>\n",
       "      <td>SUR</td>\n",
       "      <td>1500.0</td>\n",
       "      <td>0</td>\n",
       "      <td>1080427.0</td>\n",
       "      <td>1968-06-19</td>\n",
       "      <td>W</td>\n",
       "      <td>M</td>\n",
       "      <td>Overland Park</td>\n",
       "      <td>KS</td>\n",
       "      <td>66212</td>\n",
       "      <td>50.0</td>\n",
       "      <td>1.0</td>\n",
       "      <td>-1.0</td>\n",
       "      <td>0</td>\n",
       "    </tr>\n",
       "    <tr>\n",
       "      <th>2</th>\n",
       "      <td>457048</td>\n",
       "      <td>10CR00037</td>\n",
       "      <td>10000030</td>\n",
       "      <td>OLATHE P.D.</td>\n",
       "      <td>SUR</td>\n",
       "      <td>2500.0</td>\n",
       "      <td>0</td>\n",
       "      <td>1086672.0</td>\n",
       "      <td>1979-03-23</td>\n",
       "      <td>W</td>\n",
       "      <td>M</td>\n",
       "      <td>Shawnee</td>\n",
       "      <td>KS</td>\n",
       "      <td>66226</td>\n",
       "      <td>39.0</td>\n",
       "      <td>50.0</td>\n",
       "      <td>-1.0</td>\n",
       "      <td>0</td>\n",
       "    </tr>\n",
       "    <tr>\n",
       "      <th>3</th>\n",
       "      <td>369139</td>\n",
       "      <td>10CR00010</td>\n",
       "      <td>10000033</td>\n",
       "      <td>LENEXA P.D.</td>\n",
       "      <td>CA</td>\n",
       "      <td>5000.0</td>\n",
       "      <td>1</td>\n",
       "      <td>1095350.0</td>\n",
       "      <td>1972-08-02</td>\n",
       "      <td>W</td>\n",
       "      <td>M</td>\n",
       "      <td>NaN</td>\n",
       "      <td>NaN</td>\n",
       "      <td>NaN</td>\n",
       "      <td>46.0</td>\n",
       "      <td>13.0</td>\n",
       "      <td>-1.0</td>\n",
       "      <td>0</td>\n",
       "    </tr>\n",
       "    <tr>\n",
       "      <th>4</th>\n",
       "      <td>110321</td>\n",
       "      <td>09CR02898</td>\n",
       "      <td>10000041</td>\n",
       "      <td>JOHNSON COUNTY SHERIFF'S DEPARTMENT</td>\n",
       "      <td>SUR</td>\n",
       "      <td>7500.0</td>\n",
       "      <td>1</td>\n",
       "      <td>1085452.0</td>\n",
       "      <td>1976-02-05</td>\n",
       "      <td>W</td>\n",
       "      <td>F</td>\n",
       "      <td>Shawnee</td>\n",
       "      <td>KS</td>\n",
       "      <td>66227</td>\n",
       "      <td>42.0</td>\n",
       "      <td>13.0</td>\n",
       "      <td>-1.0</td>\n",
       "      <td>0</td>\n",
       "    </tr>\n",
       "  </tbody>\n",
       "</table>\n",
       "</div>"
      ],
      "text/plain": [
       "   mni_no    case_no  booking_no                     arresting_agency  \\\n",
       "0  167776  10DV00011    10000008                         GARDNER P.D.   \n",
       "1   82738  10DV00004    10000017                   OVERLAND PARK P.D.   \n",
       "2  457048  10CR00037    10000030                          OLATHE P.D.   \n",
       "3  369139  10CR00010    10000033                          LENEXA P.D.   \n",
       "4  110321  09CR02898    10000041  JOHNSON COUNTY SHERIFF'S DEPARTMENT   \n",
       "\n",
       "  bail_type  bail_amt  re-entry   personid        dob race gender  \\\n",
       "0       SUR    5000.0         1  1079925.0 1981-05-21    W      M   \n",
       "1       SUR    1500.0         0  1080427.0 1968-06-19    W      M   \n",
       "2       SUR    2500.0         0  1086672.0 1979-03-23    W      M   \n",
       "3        CA    5000.0         1  1095350.0 1972-08-02    W      M   \n",
       "4       SUR    7500.0         1  1085452.0 1976-02-05    W      F   \n",
       "\n",
       "            city state         zip   age  booking_days  treatment_days  \\\n",
       "0       Lawrence    KS  66046-3250  37.0           3.0            -1.0   \n",
       "1  Overland Park    KS       66212  50.0           1.0            -1.0   \n",
       "2        Shawnee    KS       66226  39.0          50.0            -1.0   \n",
       "3            NaN   NaN         NaN  46.0          13.0            -1.0   \n",
       "4        Shawnee    KS       66227  42.0          13.0            -1.0   \n",
       "\n",
       "   mental_health  \n",
       "0              0  \n",
       "1              0  \n",
       "2              0  \n",
       "3              0  \n",
       "4              0  "
      ]
     },
     "execution_count": 56,
     "metadata": {},
     "output_type": "execute_result"
    }
   ],
   "source": [
    "df.head()"
   ]
  },
  {
   "cell_type": "code",
   "execution_count": 37,
   "metadata": {},
   "outputs": [
    {
     "ename": "KeyError",
     "evalue": "\"['re-entry'] not in index\"",
     "output_type": "error",
     "traceback": [
      "\u001b[0;31m---------------------------------------------------------------------------\u001b[0m",
      "\u001b[0;31mKeyError\u001b[0m                                  Traceback (most recent call last)",
      "\u001b[0;32m<ipython-input-37-a9097e015e01>\u001b[0m in \u001b[0;36m<module>\u001b[0;34m()\u001b[0m\n\u001b[0;32m----> 1\u001b[0;31m \u001b[0mcreate_graph\u001b[0m\u001b[0;34m(\u001b[0m\u001b[0mdf\u001b[0m\u001b[0;34m,\u001b[0m \u001b[0;34m'bail_amt'\u001b[0m\u001b[0;34m,\u001b[0m \u001b[0;34m'sum'\u001b[0m\u001b[0;34m)\u001b[0m\u001b[0;34m\u001b[0m\u001b[0m\n\u001b[0m",
      "\u001b[0;32m<ipython-input-36-d8d33593aa38>\u001b[0m in \u001b[0;36mcreate_graph\u001b[0;34m(df, x, method, graph_type)\u001b[0m\n\u001b[1;32m     20\u001b[0m         \u001b[0mvar\u001b[0m \u001b[0;34m=\u001b[0m \u001b[0mdf\u001b[0m\u001b[0;34m[\u001b[0m\u001b[0mcols\u001b[0m\u001b[0;34m]\u001b[0m\u001b[0;34m.\u001b[0m\u001b[0mgroupby\u001b[0m\u001b[0;34m(\u001b[0m\u001b[0mx\u001b[0m\u001b[0;34m)\u001b[0m\u001b[0;34m.\u001b[0m\u001b[0mmedian\u001b[0m\u001b[0;34m(\u001b[0m\u001b[0;34m)\u001b[0m\u001b[0;34m\u001b[0m\u001b[0m\n\u001b[1;32m     21\u001b[0m     \u001b[0;32melif\u001b[0m \u001b[0mmethod\u001b[0m \u001b[0;34m==\u001b[0m \u001b[0;34m'sum'\u001b[0m\u001b[0;34m:\u001b[0m\u001b[0;34m\u001b[0m\u001b[0m\n\u001b[0;32m---> 22\u001b[0;31m         \u001b[0mvar\u001b[0m \u001b[0;34m=\u001b[0m \u001b[0mdf\u001b[0m\u001b[0;34m[\u001b[0m\u001b[0mcols\u001b[0m\u001b[0;34m]\u001b[0m\u001b[0;34m.\u001b[0m\u001b[0mgroupby\u001b[0m\u001b[0;34m(\u001b[0m\u001b[0mx\u001b[0m\u001b[0;34m)\u001b[0m\u001b[0;34m.\u001b[0m\u001b[0msum\u001b[0m\u001b[0;34m(\u001b[0m\u001b[0;34m)\u001b[0m\u001b[0;34m\u001b[0m\u001b[0m\n\u001b[0m\u001b[1;32m     23\u001b[0m     \u001b[0mgraph\u001b[0m \u001b[0;34m=\u001b[0m \u001b[0mvar\u001b[0m\u001b[0;34m.\u001b[0m\u001b[0mplot\u001b[0m\u001b[0;34m(\u001b[0m\u001b[0mkind\u001b[0m\u001b[0;34m=\u001b[0m\u001b[0mgraph_type\u001b[0m\u001b[0;34m,\u001b[0m \u001b[0muse_index\u001b[0m\u001b[0;34m=\u001b[0m\u001b[0;32mFalse\u001b[0m\u001b[0;34m,\u001b[0m \u001b[0mfigsize\u001b[0m\u001b[0;34m=\u001b[0m\u001b[0;34m(\u001b[0m\u001b[0;36m8\u001b[0m\u001b[0;34m,\u001b[0m\u001b[0;36m4\u001b[0m\u001b[0;34m)\u001b[0m\u001b[0;34m)\u001b[0m\u001b[0;34m\u001b[0m\u001b[0m\n",
      "\u001b[0;32m/Library/Frameworks/Python.framework/Versions/3.6/lib/python3.6/site-packages/pandas/core/frame.py\u001b[0m in \u001b[0;36m__getitem__\u001b[0;34m(self, key)\u001b[0m\n\u001b[1;32m   2131\u001b[0m         \u001b[0;32mif\u001b[0m \u001b[0misinstance\u001b[0m\u001b[0;34m(\u001b[0m\u001b[0mkey\u001b[0m\u001b[0;34m,\u001b[0m \u001b[0;34m(\u001b[0m\u001b[0mSeries\u001b[0m\u001b[0;34m,\u001b[0m \u001b[0mnp\u001b[0m\u001b[0;34m.\u001b[0m\u001b[0mndarray\u001b[0m\u001b[0;34m,\u001b[0m \u001b[0mIndex\u001b[0m\u001b[0;34m,\u001b[0m \u001b[0mlist\u001b[0m\u001b[0;34m)\u001b[0m\u001b[0;34m)\u001b[0m\u001b[0;34m:\u001b[0m\u001b[0;34m\u001b[0m\u001b[0m\n\u001b[1;32m   2132\u001b[0m             \u001b[0;31m# either boolean or fancy integer index\u001b[0m\u001b[0;34m\u001b[0m\u001b[0;34m\u001b[0m\u001b[0m\n\u001b[0;32m-> 2133\u001b[0;31m             \u001b[0;32mreturn\u001b[0m \u001b[0mself\u001b[0m\u001b[0;34m.\u001b[0m\u001b[0m_getitem_array\u001b[0m\u001b[0;34m(\u001b[0m\u001b[0mkey\u001b[0m\u001b[0;34m)\u001b[0m\u001b[0;34m\u001b[0m\u001b[0m\n\u001b[0m\u001b[1;32m   2134\u001b[0m         \u001b[0;32melif\u001b[0m \u001b[0misinstance\u001b[0m\u001b[0;34m(\u001b[0m\u001b[0mkey\u001b[0m\u001b[0;34m,\u001b[0m \u001b[0mDataFrame\u001b[0m\u001b[0;34m)\u001b[0m\u001b[0;34m:\u001b[0m\u001b[0;34m\u001b[0m\u001b[0m\n\u001b[1;32m   2135\u001b[0m             \u001b[0;32mreturn\u001b[0m \u001b[0mself\u001b[0m\u001b[0;34m.\u001b[0m\u001b[0m_getitem_frame\u001b[0m\u001b[0;34m(\u001b[0m\u001b[0mkey\u001b[0m\u001b[0;34m)\u001b[0m\u001b[0;34m\u001b[0m\u001b[0m\n",
      "\u001b[0;32m/Library/Frameworks/Python.framework/Versions/3.6/lib/python3.6/site-packages/pandas/core/frame.py\u001b[0m in \u001b[0;36m_getitem_array\u001b[0;34m(self, key)\u001b[0m\n\u001b[1;32m   2175\u001b[0m             \u001b[0;32mreturn\u001b[0m \u001b[0mself\u001b[0m\u001b[0;34m.\u001b[0m\u001b[0m_take\u001b[0m\u001b[0;34m(\u001b[0m\u001b[0mindexer\u001b[0m\u001b[0;34m,\u001b[0m \u001b[0maxis\u001b[0m\u001b[0;34m=\u001b[0m\u001b[0;36m0\u001b[0m\u001b[0;34m,\u001b[0m \u001b[0mconvert\u001b[0m\u001b[0;34m=\u001b[0m\u001b[0;32mFalse\u001b[0m\u001b[0;34m)\u001b[0m\u001b[0;34m\u001b[0m\u001b[0m\n\u001b[1;32m   2176\u001b[0m         \u001b[0;32melse\u001b[0m\u001b[0;34m:\u001b[0m\u001b[0;34m\u001b[0m\u001b[0m\n\u001b[0;32m-> 2177\u001b[0;31m             \u001b[0mindexer\u001b[0m \u001b[0;34m=\u001b[0m \u001b[0mself\u001b[0m\u001b[0;34m.\u001b[0m\u001b[0mloc\u001b[0m\u001b[0;34m.\u001b[0m\u001b[0m_convert_to_indexer\u001b[0m\u001b[0;34m(\u001b[0m\u001b[0mkey\u001b[0m\u001b[0;34m,\u001b[0m \u001b[0maxis\u001b[0m\u001b[0;34m=\u001b[0m\u001b[0;36m1\u001b[0m\u001b[0;34m)\u001b[0m\u001b[0;34m\u001b[0m\u001b[0m\n\u001b[0m\u001b[1;32m   2178\u001b[0m             \u001b[0;32mreturn\u001b[0m \u001b[0mself\u001b[0m\u001b[0;34m.\u001b[0m\u001b[0m_take\u001b[0m\u001b[0;34m(\u001b[0m\u001b[0mindexer\u001b[0m\u001b[0;34m,\u001b[0m \u001b[0maxis\u001b[0m\u001b[0;34m=\u001b[0m\u001b[0;36m1\u001b[0m\u001b[0;34m,\u001b[0m \u001b[0mconvert\u001b[0m\u001b[0;34m=\u001b[0m\u001b[0;32mTrue\u001b[0m\u001b[0;34m)\u001b[0m\u001b[0;34m\u001b[0m\u001b[0m\n\u001b[1;32m   2179\u001b[0m \u001b[0;34m\u001b[0m\u001b[0m\n",
      "\u001b[0;32m/Library/Frameworks/Python.framework/Versions/3.6/lib/python3.6/site-packages/pandas/core/indexing.py\u001b[0m in \u001b[0;36m_convert_to_indexer\u001b[0;34m(self, obj, axis, is_setter)\u001b[0m\n\u001b[1;32m   1267\u001b[0m                 \u001b[0;32mif\u001b[0m \u001b[0mmask\u001b[0m\u001b[0;34m.\u001b[0m\u001b[0many\u001b[0m\u001b[0;34m(\u001b[0m\u001b[0;34m)\u001b[0m\u001b[0;34m:\u001b[0m\u001b[0;34m\u001b[0m\u001b[0m\n\u001b[1;32m   1268\u001b[0m                     raise KeyError('{mask} not in index'\n\u001b[0;32m-> 1269\u001b[0;31m                                    .format(mask=objarr[mask]))\n\u001b[0m\u001b[1;32m   1270\u001b[0m \u001b[0;34m\u001b[0m\u001b[0m\n\u001b[1;32m   1271\u001b[0m                 \u001b[0;32mreturn\u001b[0m \u001b[0m_values_from_object\u001b[0m\u001b[0;34m(\u001b[0m\u001b[0mindexer\u001b[0m\u001b[0;34m)\u001b[0m\u001b[0;34m\u001b[0m\u001b[0m\n",
      "\u001b[0;31mKeyError\u001b[0m: \"['re-entry'] not in index\""
     ]
    }
   ],
   "source": [
    "create_graph(df, 'bail_amt', 'sum')"
   ]
  },
  {
   "cell_type": "code",
   "execution_count": 59,
   "metadata": {},
   "outputs": [
    {
     "data": {
      "image/png": "[encoded data removed]",
      "text/plain": [
       "<matplotlib.figure.Figure at 0x112b6ec88>"
      ]
     },
     "metadata": {},
     "output_type": "display_data"
    }
   ],
   "source": [
    "create_graph(df, 'booking_days', 'sum')"
   ]
  },
  {
   "cell_type": "code",
   "execution_count": 60,
   "metadata": {},
   "outputs": [],
   "source": [
    "import matplotlib.pyplot as plt\n",
    "import seaborn as sns; sns.set()\n",
    "%matplotlib inline"
   ]
  },
  {
   "cell_type": "code",
   "execution_count": 39,
   "metadata": {},
   "outputs": [],
   "source": [
    "def corr_matrix(df):\n",
    "    '''\n",
    "    Creates a heatmap that shows the correlations between the different variables in a dataframe.\n",
    "    \n",
    "    Input:\n",
    "        df: a dataframe\n",
    "        title: name of the correlation_matrix\n",
    "        \n",
    "    Return:\n",
    "        Outputs a heatmatrix showing correlations\n",
    "    \n",
    "    \n",
    "    '''\n",
    "    f, ax = plt.subplots(figsize=(10, 8))\n",
    "    corr = df.corr()\n",
    "    sns.heatmap(corr, \n",
    "                xticklabels=corr.columns.values,\n",
    "                yticklabels=corr.columns.values, \n",
    "                mask=np.zeros_like(corr, dtype=np.bool), \n",
    "                cmap=sns.diverging_palette(220, 10, as_cmap=True),\n",
    "            square=True, ax=ax)"
   ]
  },
  {
   "cell_type": "code",
   "execution_count": 42,
   "metadata": {},
   "outputs": [
    {
     "data": {
      "image/png": "[encoded data removed]",
      "text/plain": [
       "<matplotlib.figure.Figure at 0x103a9fba8>"
      ]
     },
     "metadata": {},
     "output_type": "display_data"
    }
   ],
   "source": [
    "corr_matrix(df)"
   ]
  },
  {
   "cell_type": "code",
   "execution_count": 63,
   "metadata": {},
   "outputs": [
    {
     "data": {
      "text/plain": [
       "Index(['mni_no', 'case_no', 'booking_no', 'arresting_agency', 'bail_type',\n",
       "       'bail_amt', 're-entry', 'personid', 'dob', 'race', 'gender', 'city',\n",
       "       'state', 'zip', 'age', 'booking_days', 'treatment_days',\n",
       "       'mental_health'],\n",
       "      dtype='object')"
      ]
     },
     "execution_count": 63,
     "metadata": {},
     "output_type": "execute_result"
    }
   ],
   "source": [
    "df.columns"
   ]
  },
  {
   "cell_type": "code",
   "execution_count": 64,
   "metadata": {},
   "outputs": [],
   "source": [
    "df = df.drop(['mni_no', 'case_no', 'booking_no', 'dob', 'personid'], axis=1)"
   ]
  },
  {
   "cell_type": "code",
   "execution_count": 65,
   "metadata": {},
   "outputs": [],
   "source": [
    "df.to_csv('df.csv', index=False)"
   ]
  }
 ],
 "metadata": {
  "kernelspec": {
   "display_name": "Python 3",
   "language": "python",
   "name": "python3"
  },
  "language_info": {
   "codemirror_mode": {
    "name": "ipython",
    "version": 3
   },
   "file_extension": ".py",
   "mimetype": "text/x-python",
   "name": "python",
   "nbconvert_exporter": "python",
   "pygments_lexer": "ipython3",
   "version": "3.6.4"
  }
 },
 "nbformat": 4,
 "nbformat_minor": 2
}
